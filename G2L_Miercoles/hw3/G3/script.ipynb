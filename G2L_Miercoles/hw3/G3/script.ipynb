{
  "nbformat": 4,
  "nbformat_minor": 0,
  "metadata": {
    "colab": {
      "provenance": []
    },
    "kernelspec": {
      "name": "python3",
      "display_name": "Python 3"
    },
    "language_info": {
      "name": "python"
    }
  },
  "cells": [
    {
      "cell_type": "markdown",
      "source": [
        "# **MATRIZ DE ROTACIÓN Y TRASLACIÓN**"
      ],
      "metadata": {
        "id": "Cs06V190DBYb"
      }
    },
    {
      "cell_type": "markdown",
      "source": [
        "# MATRIZ DE ROTACIÓN"
      ],
      "metadata": {
        "id": "tsouTKAvFLY4"
      }
    },
    {
      "cell_type": "markdown",
      "source": [
        " **Iniciamos importanto las librerias a utilizar**\n",
        "\n",
        "*numpy* para el manejo de calculos.\n",
        "\n",
        "*sympy* cálculos simbólicos en especial el tema de matrices.\n",
        "\n",
        "*plt* para la generación de gráficos.\n"
      ],
      "metadata": {
        "id": "7Z4QZIFZ_T97"
      }
    },
    {
      "cell_type": "code",
      "execution_count": null,
      "metadata": {
        "id": "ZkJLB2Wdvw6L"
      },
      "outputs": [],
      "source": [
        "import numpy as np\n",
        "import sympy as sp\n",
        "import matplotlib.pyplot as plt"
      ]
    },
    {
      "cell_type": "markdown",
      "source": [
        "**Definimos variables**\n",
        "\n",
        "Declaramos variables para el ángulo theta y desplazamientos en tx y ty"
      ],
      "metadata": {
        "id": "dY_ui29q_YzS"
      }
    },
    {
      "cell_type": "code",
      "source": [
        "theta, tx, ty = sp.symbols('theta tc ty')\n",
        "x, y = sp.symbols('x y')"
      ],
      "metadata": {
        "id": "_xc2E2EA8Qfq"
      },
      "execution_count": null,
      "outputs": []
    },
    {
      "cell_type": "markdown",
      "source": [
        "**Creación de la matriz de rotación**\n",
        "\n",
        "aquí trabajamos con la matriz de rotación y extensión a coordenadas homogeneas.\n",
        "\n",
        "La matriz de rotación en 2D (sin traslación) se define como:\n",
        "\n",
        " R(theta) = [ cos(theta)   -sin(theta) ]\n",
        "            [ sin(theta)    cos(theta) ]"
      ],
      "metadata": {
        "id": "Twt78JWZA5rR"
      }
    },
    {
      "cell_type": "code",
      "source": [
        "R = sp.Matrix([[sp.cos(theta), -sp.sin(theta)],\n",
        "               [sp.sin(theta),  sp.cos(theta)]])"
      ],
      "metadata": {
        "id": "xCZ-52hI8nQc"
      },
      "execution_count": null,
      "outputs": []
    },
    {
      "cell_type": "markdown",
      "source": [
        "# Matriz de traslación\n",
        "\n"
      ],
      "metadata": {
        "id": "Wxj6aLB_CAR8"
      }
    },
    {
      "cell_type": "markdown",
      "source": [
        "Para poder conbinar con traslación usando las coordenadas homogeneas extendemos a una matriz de 3x3.\n",
        "\n",
        "Así que creamos una matriz identidad de 3x3 y reemplazamos el bloque superior izquierdo por R."
      ],
      "metadata": {
        "id": "ORQfFhKLHxWQ"
      }
    },
    {
      "cell_type": "code",
      "source": [
        "R_h = sp.eye(3)\n",
        "R_h[0:2, 0:2] = R"
      ],
      "metadata": {
        "id": "JEjA9ZDO8w-X"
      },
      "execution_count": null,
      "outputs": []
    },
    {
      "cell_type": "markdown",
      "source": [
        "Aquí tenemos la nueva matriz de 3x3"
      ],
      "metadata": {
        "id": "-dQLyENqDYC9"
      }
    },
    {
      "cell_type": "code",
      "source": [
        "T = sp.Matrix([[1, 0, tx],\n",
        "               [0, 1, ty],\n",
        "               [0, 0, 1]])"
      ],
      "metadata": {
        "id": "YI_E_X2682-z"
      },
      "execution_count": null,
      "outputs": []
    },
    {
      "cell_type": "markdown",
      "source": [
        "Tomamos como ejemplo el punto (1, 0) y lo convertimos en coordenadas homogeneas, añadimos un 1 al final."
      ],
      "metadata": {
        "id": "fzcX8x_CDsfI"
      }
    },
    {
      "cell_type": "code",
      "source": [
        "P_sym = sp.Matrix([1, 0, 1])"
      ],
      "metadata": {
        "id": "i84SsKiT8-5V"
      },
      "execution_count": null,
      "outputs": []
    },
    {
      "cell_type": "markdown",
      "source": [
        "Evaluamos la transformación de rotación.\n",
        "\n",
        "Quremos que el punto rote 45° (radianes), así que sustituimos pi/4 radianes en la matriz de rotación homogénea"
      ],
      "metadata": {
        "id": "0JRJGOY9EKRq"
      }
    },
    {
      "cell_type": "code",
      "source": [
        "theta_val = sp.pi / 4\n",
        "R_h_eval = R_h.subs(theta, theta_val)"
      ],
      "metadata": {
        "id": "-L5Oc3NI9GxT"
      },
      "execution_count": null,
      "outputs": []
    },
    {
      "cell_type": "markdown",
      "source": [
        "Aplicamos la transformación multiplicando la rotación evaluada por el punto.\n",
        "\n",
        "Además obtenemos la evaluación numéroca para trabajar con decimales."
      ],
      "metadata": {
        "id": "I5mjscuREyaA"
      }
    },
    {
      "cell_type": "code",
      "source": [
        "P_rot_sym = R_h_eval * P_sym\n",
        "P_rot_eval = sp.N(P_rot_sym)"
      ],
      "metadata": {
        "id": "Z_CD1hhh9OAS"
      },
      "execution_count": null,
      "outputs": []
    },
    {
      "cell_type": "markdown",
      "source": [
        "**Definimos desplazamiento**\n",
        "\n",
        "3 unidades en x\n",
        "\n",
        "2 unidades en y\n",
        "\n",
        "aplicamos traslación al punto original y hacemos evaluación numérica del resultado."
      ],
      "metadata": {
        "id": "opYtFBOGFvhm"
      }
    },
    {
      "cell_type": "code",
      "source": [
        "T_eval = T.subs({tx: 3, ty: 2})\n",
        "\n",
        "P_trans_sym = T_eval * P_sym\n",
        "\n",
        "P_trans_eval = sp.N(P_trans_sym)\n"
      ],
      "metadata": {
        "id": "0dMNYF-uFXzx"
      },
      "execution_count": null,
      "outputs": []
    },
    {
      "cell_type": "markdown",
      "source": [
        "**Impresión de resultados simbólico y numérico**"
      ],
      "metadata": {
        "id": "jIT2L2a6GJhj"
      }
    },
    {
      "cell_type": "code",
      "source": [
        "print(\"Matriz de rotación (homogénea) evaluada a 45°:\")\n",
        "sp.pprint(R_h_eval)\n",
        "print(\"\\nPunto original (en coordenadas homogéneas):\")\n",
        "sp.pprint(P_sym)\n",
        "print(\"\\nPunto rotado (resultado simbólico):\")\n",
        "sp.pprint(P_rot_sym)\n",
        "print(\"\\nPunto rotado (evaluación numérica):\")\n",
        "sp.pprint(P_rot_eval)\n",
        "\n",
        "print(\"\\nMatriz de traslación evaluada (tx=3, ty=2):\")\n",
        "sp.pprint(T_eval)\n",
        "print(\"\\nPunto trasladado (resultado simbólico):\")\n",
        "sp.pprint(P_trans_sym)\n",
        "print(\"\\nPunto trasladado (evaluación numérica):\")\n",
        "sp.pprint(P_trans_eval)"
      ],
      "metadata": {
        "colab": {
          "base_uri": "https://localhost:8080/"
        },
        "id": "GT93y4ST9fxa",
        "outputId": "d0c8191e-2aac-4427-b072-a032ac13f86c"
      },
      "execution_count": null,
      "outputs": [
        {
          "output_type": "stream",
          "name": "stdout",
          "text": [
            "Matriz de rotación (homogénea) evaluada a 45°:\n",
            "⎡√2  -√2    ⎤\n",
            "⎢──  ────  0⎥\n",
            "⎢2    2     ⎥\n",
            "⎢           ⎥\n",
            "⎢√2   √2    ⎥\n",
            "⎢──   ──   0⎥\n",
            "⎢2    2     ⎥\n",
            "⎢           ⎥\n",
            "⎣0    0    1⎦\n",
            "\n",
            "Punto original (en coordenadas homogéneas):\n",
            "⎡1⎤\n",
            "⎢ ⎥\n",
            "⎢0⎥\n",
            "⎢ ⎥\n",
            "⎣1⎦\n",
            "\n",
            "Punto rotado (resultado simbólico):\n",
            "⎡√2⎤\n",
            "⎢──⎥\n",
            "⎢2 ⎥\n",
            "⎢  ⎥\n",
            "⎢√2⎥\n",
            "⎢──⎥\n",
            "⎢2 ⎥\n",
            "⎢  ⎥\n",
            "⎣1 ⎦\n",
            "\n",
            "Punto rotado (evaluación numérica):\n",
            "⎡0.707106781186548⎤\n",
            "⎢                 ⎥\n",
            "⎢0.707106781186548⎥\n",
            "⎢                 ⎥\n",
            "⎣       1.0       ⎦\n",
            "\n",
            "Matriz de traslación evaluada (tx=3, ty=2):\n",
            "⎡1  0  3⎤\n",
            "⎢       ⎥\n",
            "⎢0  1  2⎥\n",
            "⎢       ⎥\n",
            "⎣0  0  1⎦\n",
            "\n",
            "Punto trasladado (resultado simbólico):\n",
            "⎡4⎤\n",
            "⎢ ⎥\n",
            "⎢2⎥\n",
            "⎢ ⎥\n",
            "⎣1⎦\n",
            "\n",
            "Punto trasladado (evaluación numérica):\n",
            "⎡4.0⎤\n",
            "⎢   ⎥\n",
            "⎢2.0⎥\n",
            "⎢   ⎥\n",
            "⎣1.0⎦\n"
          ]
        }
      ]
    },
    {
      "cell_type": "markdown",
      "source": [
        "**Convertimos los resultados simbólicos en arrays de numpy para graficar.**"
      ],
      "metadata": {
        "id": "U2X0VIazGcDd"
      }
    },
    {
      "cell_type": "code",
      "source": [
        "punto_original = np.array([float(P_sym[0]), float(P_sym[1])])\n",
        "punto_rotado   = np.array([float(P_rot_eval[0]), float(P_rot_eval[1])])\n",
        "punto_trasladado = np.array([float(P_trans_eval[0]), float(P_trans_eval[1])])"
      ],
      "metadata": {
        "id": "-r-AQ2Sw9syn"
      },
      "execution_count": null,
      "outputs": []
    },
    {
      "cell_type": "markdown",
      "source": [],
      "metadata": {
        "id": "2SnuGKZQHuR9"
      }
    },
    {
      "cell_type": "markdown",
      "source": [
        "# GRÁFICA\n",
        "\n"
      ],
      "metadata": {
        "id": "cdx_l4cMHGc-"
      }
    },
    {
      "cell_type": "markdown",
      "source": [
        "Se dibujan los ejes x y y de referencia\n",
        "\n",
        "definimos colores para los puntos rotados, original y trasladado\n",
        "\n",
        "Por último se añaden las anotaciones para leer y entender el gráfico"
      ],
      "metadata": {
        "id": "e7d-8NwrHpu9"
      }
    },
    {
      "cell_type": "code",
      "source": [
        "plt.figure(figsize=(6, 6))\n",
        "# Dibujamos los ejes X e Y para referencia.\n",
        "plt.axhline(0, color='black', linewidth=0.5)\n",
        "plt.axvline(0, color='black', linewidth=0.5)\n",
        "plt.grid(True, which='both')\n",
        "\n",
        "plt.scatter(punto_original[0], punto_original[1], color='red', label='Punto original')\n",
        "\n",
        "plt.scatter(punto_rotado[0], punto_rotado[1], color='blue', label='Punto rotado (45°)')\n",
        "\n",
        "plt.scatter(punto_trasladado[0], punto_trasladado[1], color='green', label='Punto trasladado (tx=3, ty=2)')\n",
        "\n",
        "plt.annotate(\"Original\", xy=(punto_original[0], punto_original[1]), xytext=(punto_original[0]+0.1, punto_original[1]+0.1))\n",
        "plt.annotate(\"Rotado\", xy=(punto_rotado[0], punto_rotado[1]), xytext=(punto_rotado[0]+0.1, punto_rotado[1]+0.1))\n",
        "plt.annotate(\"Trasladado\", xy=(punto_trasladado[0], punto_trasladado[1]), xytext=(punto_trasladado[0]+0.1, punto_trasladado[1]+0.1))\n",
        "\n",
        "plt.title(\"Rotación y Traslación\")\n",
        "plt.xlabel(\"Eje X\")\n",
        "plt.ylabel(\"Eje Y\")\n",
        "plt.legend()\n",
        "plt.show()"
      ],
      "metadata": {
        "colab": {
          "base_uri": "https://localhost:8080/",
          "height": 565
        },
        "id": "i9puz4U1-F7Q",
        "outputId": "8cad7413-c6fd-4e61-fc91-e627202b445b"
      },
      "execution_count": null,
      "outputs": [
        {
          "output_type": "display_data",
          "data": {
            "text/plain": [
              "<Figure size 600x600 with 1 Axes>"
            ],
            "image/png": "[encoded data removed]"
          },
          "metadata": {}
        }
      ]
    }
  ]
}