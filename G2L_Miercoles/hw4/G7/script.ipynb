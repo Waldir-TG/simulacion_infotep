{
  "cells": [
    {
      "cell_type": "markdown",
      "id": "a7e43564",
      "metadata": {
        "id": "a7e43564"
      },
      "source": [
        "# **Matrices Homogeneas en un espacio tridimensional**"
      ]
    },
    {
      "cell_type": "markdown",
      "id": "30407b78",
      "metadata": {
        "id": "30407b78"
      },
      "source": [
        "**Docente:** PhD Jorge Rudas\n",
        "\n",
        "**Diseño de prototipos - 2025 I**\n",
        "\n",
        "**INFOTEP**"
      ]
    },
    {
      "cell_type": "code",
      "execution_count": 4,
      "id": "558fe4b4",
      "metadata": {
        "id": "558fe4b4"
      },
      "outputs": [],
      "source": [
        "import numpy as np\n",
        "from sympy import*\n",
        "init_printing()"
      ]
    },
    {
      "cell_type": "markdown",
      "id": "7bb73297",
      "metadata": {
        "id": "7bb73297"
      },
      "source": [
        "### Declaración de variables simbolicas"
      ]
    },
    {
      "cell_type": "code",
      "execution_count": 5,
      "id": "1e352206",
      "metadata": {
        "id": "1e352206"
      },
      "outputs": [],
      "source": [
        "## Variables Simbolicas\n",
        "theta = symbols(\"theta\",  real=True)\n",
        "phi = symbols(\"phi\",  real=True)\n",
        "psi = symbols(\"psi\",  real=True)\n",
        "tx = symbols(\"tx\",  real=True)\n",
        "ty = symbols(\"ty\",  real=True)\n",
        "tz = symbols(\"tz\",  real=True)"
      ]
    },
    {
      "cell_type": "markdown",
      "id": "f95c974c",
      "metadata": {
        "id": "f95c974c"
      },
      "source": [
        "### Rotacion eje x"
      ]
    },
    {
      "cell_type": "code",
      "execution_count": 6,
      "id": "ff5b4884",
      "metadata": {
        "colab": {
          "base_uri": "https://localhost:8080/",
          "height": 98
        },
        "id": "ff5b4884",
        "outputId": "9890a83d-7fed-4cd5-f53d-391d0d385bea"
      },
      "outputs": [
        {
          "output_type": "execute_result",
          "data": {
            "text/plain": [
              "⎡1    0        0     0⎤\n",
              "⎢                     ⎥\n",
              "⎢0  cos(φ)  -sin(φ)  0⎥\n",
              "⎢                     ⎥\n",
              "⎢0  sin(φ)  cos(φ)   0⎥\n",
              "⎢                     ⎥\n",
              "⎣0    0        0     1⎦"
            ],
            "text/latex": "$\\displaystyle \\left[\\begin{matrix}1 & 0 & 0 & 0\\\\0 & \\cos{\\left(\\phi \\right)} & - \\sin{\\left(\\phi \\right)} & 0\\\\0 & \\sin{\\left(\\phi \\right)} & \\cos{\\left(\\phi \\right)} & 0\\\\0 & 0 & 0 & 1\\end{matrix}\\right]$"
          },
          "metadata": {},
          "execution_count": 6
        }
      ],
      "source": [
        "H_x = Matrix([[1, 0, 0, 0], [0, cos(phi), -sin(phi), 0], [0, sin(phi), cos(phi), 0], [0, 0, 0, 1]])\n",
        "H_x"
      ]
    },
    {
      "cell_type": "markdown",
      "id": "300908ee",
      "metadata": {
        "id": "300908ee"
      },
      "source": [
        "### Rotacion eje y"
      ]
    },
    {
      "cell_type": "code",
      "execution_count": 7,
      "id": "3c9c6277",
      "metadata": {
        "colab": {
          "base_uri": "https://localhost:8080/",
          "height": 98
        },
        "id": "3c9c6277",
        "outputId": "43434e0d-61dc-4e98-9769-864a48cbb398"
      },
      "outputs": [
        {
          "output_type": "execute_result",
          "data": {
            "text/plain": [
              "⎡cos(θ)   0  sin(θ)  0⎤\n",
              "⎢                     ⎥\n",
              "⎢   0     1    0     0⎥\n",
              "⎢                     ⎥\n",
              "⎢-sin(θ)  0  cos(θ)  0⎥\n",
              "⎢                     ⎥\n",
              "⎣   0     0    0     1⎦"
            ],
            "text/latex": "$\\displaystyle \\left[\\begin{matrix}\\cos{\\left(\\theta \\right)} & 0 & \\sin{\\left(\\theta \\right)} & 0\\\\0 & 1 & 0 & 0\\\\- \\sin{\\left(\\theta \\right)} & 0 & \\cos{\\left(\\theta \\right)} & 0\\\\0 & 0 & 0 & 1\\end{matrix}\\right]$"
          },
          "metadata": {},
          "execution_count": 7
        }
      ],
      "source": [
        "H_y = Matrix([[cos(theta), 0, sin(theta), 0], [0, 1, 0, 0], [-sin(theta), 0, cos(theta), 0], [0, 0, 0, 1]])\n",
        "H_y\n"
      ]
    },
    {
      "cell_type": "markdown",
      "id": "5ed24efc",
      "metadata": {
        "id": "5ed24efc"
      },
      "source": [
        "### Rotacion eje z"
      ]
    },
    {
      "cell_type": "code",
      "execution_count": 8,
      "id": "46751e12",
      "metadata": {
        "colab": {
          "base_uri": "https://localhost:8080/",
          "height": 98
        },
        "id": "46751e12",
        "outputId": "43194162-5ae9-4de0-ef82-dbd1b501a598"
      },
      "outputs": [
        {
          "output_type": "execute_result",
          "data": {
            "text/plain": [
              "⎡cos(ψ)  -sin(ψ)  0  0⎤\n",
              "⎢                     ⎥\n",
              "⎢sin(ψ)  cos(ψ)   0  0⎥\n",
              "⎢                     ⎥\n",
              "⎢  0        0     1  0⎥\n",
              "⎢                     ⎥\n",
              "⎣  0        0     0  1⎦"
            ],
            "text/latex": "$\\displaystyle \\left[\\begin{matrix}\\cos{\\left(\\psi \\right)} & - \\sin{\\left(\\psi \\right)} & 0 & 0\\\\\\sin{\\left(\\psi \\right)} & \\cos{\\left(\\psi \\right)} & 0 & 0\\\\0 & 0 & 1 & 0\\\\0 & 0 & 0 & 1\\end{matrix}\\right]$"
          },
          "metadata": {},
          "execution_count": 8
        }
      ],
      "source": [
        "H_z = Matrix([[cos(psi), -sin(psi), 0, 0], [sin(psi), cos(psi), 0, 0], [0, 0, 1, 0], [0, 0, 0, 1]])\n",
        "H_z"
      ]
    },
    {
      "cell_type": "markdown",
      "id": "4280e6af",
      "metadata": {
        "id": "4280e6af"
      },
      "source": [
        "### Composicion de Matrices Homogeneas"
      ]
    },
    {
      "cell_type": "markdown",
      "id": "3c3fea59",
      "metadata": {
        "id": "3c3fea59"
      },
      "source": [
        "Probando la conmutatividad de las matrices homogeneas"
      ]
    },
    {
      "cell_type": "code",
      "execution_count": 9,
      "id": "8cdcb123",
      "metadata": {
        "colab": {
          "base_uri": "https://localhost:8080/",
          "height": 98
        },
        "id": "8cdcb123",
        "outputId": "e2f950f3-6cf6-4a5c-b9ce-d45e15192de5"
      },
      "outputs": [
        {
          "output_type": "execute_result",
          "data": {
            "text/plain": [
              "⎡cos(ψ)⋅cos(θ)  sin(φ)⋅sin(θ)⋅cos(ψ) - sin(ψ)⋅cos(φ)  sin(φ)⋅sin(ψ) + sin(θ)⋅cos(φ)⋅cos(ψ)   0⎤\n",
              "⎢                                                                                             ⎥\n",
              "⎢sin(ψ)⋅cos(θ)  sin(φ)⋅sin(ψ)⋅sin(θ) + cos(φ)⋅cos(ψ)  -sin(φ)⋅cos(ψ) + sin(ψ)⋅sin(θ)⋅cos(φ)  0⎥\n",
              "⎢                                                                                             ⎥\n",
              "⎢   -sin(θ)                sin(φ)⋅cos(θ)                          cos(φ)⋅cos(θ)              0⎥\n",
              "⎢                                                                                             ⎥\n",
              "⎣      0                         0                                      0                    1⎦"
            ],
            "text/latex": "$\\displaystyle \\left[\\begin{matrix}\\cos{\\left(\\psi \\right)} \\cos{\\left(\\theta \\right)} & \\sin{\\left(\\phi \\right)} \\sin{\\left(\\theta \\right)} \\cos{\\left(\\psi \\right)} - \\sin{\\left(\\psi \\right)} \\cos{\\left(\\phi \\right)} & \\sin{\\left(\\phi \\right)} \\sin{\\left(\\psi \\right)} + \\sin{\\left(\\theta \\right)} \\cos{\\left(\\phi \\right)} \\cos{\\left(\\psi \\right)} & 0\\\\\\sin{\\left(\\psi \\right)} \\cos{\\left(\\theta \\right)} & \\sin{\\left(\\phi \\right)} \\sin{\\left(\\psi \\right)} \\sin{\\left(\\theta \\right)} + \\cos{\\left(\\phi \\right)} \\cos{\\left(\\psi \\right)} & - \\sin{\\left(\\phi \\right)} \\cos{\\left(\\psi \\right)} + \\sin{\\left(\\psi \\right)} \\sin{\\left(\\theta \\right)} \\cos{\\left(\\phi \\right)} & 0\\\\- \\sin{\\left(\\theta \\right)} & \\sin{\\left(\\phi \\right)} \\cos{\\left(\\theta \\right)} & \\cos{\\left(\\phi \\right)} \\cos{\\left(\\theta \\right)} & 0\\\\0 & 0 & 0 & 1\\end{matrix}\\right]$"
          },
          "metadata": {},
          "execution_count": 9
        }
      ],
      "source": [
        "H = H_z@H_y@H_x\n",
        "H"
      ]
    },
    {
      "cell_type": "code",
      "execution_count": 10,
      "id": "663950aa",
      "metadata": {
        "colab": {
          "base_uri": "https://localhost:8080/",
          "height": 98
        },
        "id": "663950aa",
        "outputId": "4d521f34-526d-4622-a3e3-afd12a560620"
      },
      "outputs": [
        {
          "output_type": "execute_result",
          "data": {
            "text/plain": [
              "⎡           cos(ψ)⋅cos(θ)                         -sin(ψ)⋅cos(θ)                  sin(θ)      0⎤\n",
              "⎢                                                                                              ⎥\n",
              "⎢sin(φ)⋅sin(θ)⋅cos(ψ) + sin(ψ)⋅cos(φ)  -sin(φ)⋅sin(ψ)⋅sin(θ) + cos(φ)⋅cos(ψ)  -sin(φ)⋅cos(θ)  0⎥\n",
              "⎢                                                                                              ⎥\n",
              "⎢sin(φ)⋅sin(ψ) - sin(θ)⋅cos(φ)⋅cos(ψ)  sin(φ)⋅cos(ψ) + sin(ψ)⋅sin(θ)⋅cos(φ)   cos(φ)⋅cos(θ)   0⎥\n",
              "⎢                                                                                              ⎥\n",
              "⎣                 0                                      0                          0         1⎦"
            ],
            "text/latex": "$\\displaystyle \\left[\\begin{matrix}\\cos{\\left(\\psi \\right)} \\cos{\\left(\\theta \\right)} & - \\sin{\\left(\\psi \\right)} \\cos{\\left(\\theta \\right)} & \\sin{\\left(\\theta \\right)} & 0\\\\\\sin{\\left(\\phi \\right)} \\sin{\\left(\\theta \\right)} \\cos{\\left(\\psi \\right)} + \\sin{\\left(\\psi \\right)} \\cos{\\left(\\phi \\right)} & - \\sin{\\left(\\phi \\right)} \\sin{\\left(\\psi \\right)} \\sin{\\left(\\theta \\right)} + \\cos{\\left(\\phi \\right)} \\cos{\\left(\\psi \\right)} & - \\sin{\\left(\\phi \\right)} \\cos{\\left(\\theta \\right)} & 0\\\\\\sin{\\left(\\phi \\right)} \\sin{\\left(\\psi \\right)} - \\sin{\\left(\\theta \\right)} \\cos{\\left(\\phi \\right)} \\cos{\\left(\\psi \\right)} & \\sin{\\left(\\phi \\right)} \\cos{\\left(\\psi \\right)} + \\sin{\\left(\\psi \\right)} \\sin{\\left(\\theta \\right)} \\cos{\\left(\\phi \\right)} & \\cos{\\left(\\phi \\right)} \\cos{\\left(\\theta \\right)} & 0\\\\0 & 0 & 0 & 1\\end{matrix}\\right]$"
          },
          "metadata": {},
          "execution_count": 10
        }
      ],
      "source": [
        "H = H_x@H_y@H_z\n",
        "H"
      ]
    },
    {
      "cell_type": "markdown",
      "id": "49b4f754",
      "metadata": {
        "id": "49b4f754"
      },
      "source": [
        "# **Experimento 1**\n",
        "#### Comprobar que una secuencia de rotaciones produce el mismo resultado que una composición de matrices homogeneas"
      ]
    },
    {
      "cell_type": "code",
      "execution_count": 11,
      "id": "a6d54389",
      "metadata": {
        "id": "a6d54389"
      },
      "outputs": [],
      "source": [
        "P0 = np.array([1, 1, 0])"
      ]
    },
    {
      "cell_type": "markdown",
      "id": "001bc638",
      "metadata": {
        "id": "001bc638"
      },
      "source": [
        "1. Probando solo con matrices de rotación en 3D"
      ]
    },
    {
      "cell_type": "code",
      "execution_count": 12,
      "id": "2fef220f",
      "metadata": {
        "colab": {
          "base_uri": "https://localhost:8080/",
          "height": 78
        },
        "id": "2fef220f",
        "outputId": "ac0734ff-fcc9-4fc1-b0ed-8086368f7ee0"
      },
      "outputs": [
        {
          "output_type": "execute_result",
          "data": {
            "text/plain": [
              "⎡1    0        0   ⎤\n",
              "⎢                  ⎥\n",
              "⎢0  cos(θ)  -sin(θ)⎥\n",
              "⎢                  ⎥\n",
              "⎣0  sin(θ)  cos(θ) ⎦"
            ],
            "text/latex": "$\\displaystyle \\left[\\begin{matrix}1 & 0 & 0\\\\0 & \\cos{\\left(\\theta \\right)} & - \\sin{\\left(\\theta \\right)}\\\\0 & \\sin{\\left(\\theta \\right)} & \\cos{\\left(\\theta \\right)}\\end{matrix}\\right]$"
          },
          "metadata": {},
          "execution_count": 12
        }
      ],
      "source": [
        "#Matriz de rotacion 3D sobre el eje x\n",
        "R_x = Matrix([[1, 0, 0], [0, cos(theta), -sin(theta)], [0, sin(theta), cos(theta)]])\n",
        "R_x"
      ]
    },
    {
      "cell_type": "code",
      "execution_count": 13,
      "id": "0b784156",
      "metadata": {
        "colab": {
          "base_uri": "https://localhost:8080/",
          "height": 78
        },
        "id": "0b784156",
        "outputId": "2f96722e-4bd8-4f1b-b1a8-558c73ebf08e"
      },
      "outputs": [
        {
          "output_type": "execute_result",
          "data": {
            "text/plain": [
              "⎡cos(θ)   0  sin(θ)⎤\n",
              "⎢                  ⎥\n",
              "⎢   0     1    0   ⎥\n",
              "⎢                  ⎥\n",
              "⎣-sin(θ)  0  cos(θ)⎦"
            ],
            "text/latex": "$\\displaystyle \\left[\\begin{matrix}\\cos{\\left(\\theta \\right)} & 0 & \\sin{\\left(\\theta \\right)}\\\\0 & 1 & 0\\\\- \\sin{\\left(\\theta \\right)} & 0 & \\cos{\\left(\\theta \\right)}\\end{matrix}\\right]$"
          },
          "metadata": {},
          "execution_count": 13
        }
      ],
      "source": [
        "#Matriz de rotacion 3D sobre el eje y\n",
        "R_y = Matrix([[cos(theta), 0, sin(theta)], [0, 1, 0], [-sin(theta), 0, cos(theta)]])\n",
        "R_y"
      ]
    },
    {
      "cell_type": "code",
      "execution_count": 14,
      "id": "dd57ffb9",
      "metadata": {
        "colab": {
          "base_uri": "https://localhost:8080/",
          "height": 0
        },
        "id": "dd57ffb9",
        "outputId": "f619f8a6-0ef5-4636-f4ca-a9c04a8ab2e7"
      },
      "outputs": [
        {
          "output_type": "stream",
          "name": "stdout",
          "text": [
            "[ 1.0566704   0.93969262 -0.02062634]\n"
          ]
        }
      ],
      "source": [
        "theta_val = np.pi/9 # 20 grados en radianes\n",
        "R_x_p0 = np.array(R_x.subs({theta: theta_val})).astype(np.float64) #Se convierte theta simbolico a un valor concreto Rx\n",
        "R_y_p0 = np.array(R_y.subs({theta: theta_val})).astype(np.float64) #Se convierte theta simbolico a un valor concreto Ry\n",
        "\n",
        "P0_rotado_x = np.dot(R_x_p0, P0) #Producto punto entre la matrix de rotación y el vector de posición del punto\n",
        "P0_rotado_y = np.dot(R_y_p0, P0_rotado_x) #Producto punto entre la matrix de rotación y el vector de posición del punto\n",
        "\n",
        "print(P0_rotado_y)"
      ]
    },
    {
      "cell_type": "markdown",
      "id": "8ed1acdf",
      "metadata": {
        "id": "8ed1acdf"
      },
      "source": [
        "2. Ahora probamos con la composición de matrices homogeneas"
      ]
    },
    {
      "cell_type": "code",
      "execution_count": 15,
      "id": "54f56d28",
      "metadata": {
        "colab": {
          "base_uri": "https://localhost:8080/",
          "height": 0
        },
        "id": "54f56d28",
        "outputId": "4543994f-85e5-48f3-af5a-e76a660ed45d"
      },
      "outputs": [
        {
          "output_type": "stream",
          "name": "stdout",
          "text": [
            "[1 1 0]\n",
            "[[1]\n",
            " [1]\n",
            " [0]\n",
            " [1]]\n"
          ]
        }
      ],
      "source": [
        "#Se convierte el punto 3D a un punto de coordenadas homogeneas\n",
        "\n",
        "P0_homogeneo = np.append(P0, 1)\n",
        "P0_homogeneo = np.reshape(P0_homogeneo, (4, 1))\n",
        "print(P0)\n",
        "print(P0_homogeneo)"
      ]
    },
    {
      "cell_type": "code",
      "execution_count": 16,
      "id": "bf656be2",
      "metadata": {
        "colab": {
          "base_uri": "https://localhost:8080/",
          "height": 98
        },
        "id": "bf656be2",
        "outputId": "e5508646-21fe-4df4-e0fb-ff66b8bc4e52"
      },
      "outputs": [
        {
          "output_type": "execute_result",
          "data": {
            "text/plain": [
              "⎡cos(θ)   sin(φ)⋅sin(θ)  sin(θ)⋅cos(φ)  0⎤\n",
              "⎢                                        ⎥\n",
              "⎢   0        cos(φ)         -sin(φ)     0⎥\n",
              "⎢                                        ⎥\n",
              "⎢-sin(θ)  sin(φ)⋅cos(θ)  cos(φ)⋅cos(θ)  0⎥\n",
              "⎢                                        ⎥\n",
              "⎣   0           0              0        1⎦"
            ],
            "text/latex": "$\\displaystyle \\left[\\begin{matrix}\\cos{\\left(\\theta \\right)} & \\sin{\\left(\\phi \\right)} \\sin{\\left(\\theta \\right)} & \\sin{\\left(\\theta \\right)} \\cos{\\left(\\phi \\right)} & 0\\\\0 & \\cos{\\left(\\phi \\right)} & - \\sin{\\left(\\phi \\right)} & 0\\\\- \\sin{\\left(\\theta \\right)} & \\sin{\\left(\\phi \\right)} \\cos{\\left(\\theta \\right)} & \\cos{\\left(\\phi \\right)} \\cos{\\left(\\theta \\right)} & 0\\\\0 & 0 & 0 & 1\\end{matrix}\\right]$"
          },
          "metadata": {},
          "execution_count": 16
        }
      ],
      "source": [
        "#Se realiza la composición de las matrices homogeneas para x y y\n",
        "Hxy = H_y@H_x\n",
        "Hxy"
      ]
    },
    {
      "cell_type": "code",
      "execution_count": 17,
      "id": "a6a89f36",
      "metadata": {
        "colab": {
          "base_uri": "https://localhost:8080/",
          "height": 0
        },
        "id": "a6a89f36",
        "outputId": "096a846f-7d1b-481c-973d-f23f526047fe"
      },
      "outputs": [
        {
          "output_type": "execute_result",
          "data": {
            "text/plain": [
              "array([[ 0.93969262,  0.11697778,  0.3213938 ,  0.        ],\n",
              "       [ 0.        ,  0.93969262, -0.34202014,  0.        ],\n",
              "       [-0.34202014,  0.3213938 ,  0.88302222,  0.        ],\n",
              "       [ 0.        ,  0.        ,  0.        ,  1.        ]])"
            ]
          },
          "metadata": {},
          "execution_count": 17
        }
      ],
      "source": [
        "theta_val = np.pi/9 # 20 grados en radianes\n",
        "phi_val = np.pi/9 # 20 grados en radianes\n",
        "\n",
        "Hxy_p0 = np.array(Hxy.subs({phi: phi_val, theta: theta_val})).astype(np.float64) #Se convierte theta simbolico a un valor concreto Rx\n",
        "Hxy_p0"
      ]
    },
    {
      "cell_type": "code",
      "execution_count": 18,
      "id": "dff1369b",
      "metadata": {
        "colab": {
          "base_uri": "https://localhost:8080/",
          "height": 0
        },
        "id": "dff1369b",
        "outputId": "2e01229a-bdf6-4f68-c8f1-15f0d30a811d"
      },
      "outputs": [
        {
          "output_type": "execute_result",
          "data": {
            "text/plain": [
              "array([[ 1.0566704 ],\n",
              "       [ 0.93969262],\n",
              "       [-0.02062634],\n",
              "       [ 1.        ]])"
            ]
          },
          "metadata": {},
          "execution_count": 18
        }
      ],
      "source": [
        "P0_rotado_Hxy = np.dot(Hxy_p0, P0_homogeneo)\n",
        "P0_rotado_Hxy"
      ]
    },
    {
      "cell_type": "markdown",
      "id": "f03001f3",
      "metadata": {
        "id": "f03001f3"
      },
      "source": [
        "# **Actividad**\n",
        "\n",
        "* Calcule las siguientes matrices homogeneas"
      ]
    },
    {
      "cell_type": "markdown",
      "source": [
        "# **Integrantes**\n",
        "Jorge Acosta, Mausel Perez, Waldir Toscano"
      ],
      "metadata": {
        "id": "9zVU3lG8HSXO"
      },
      "id": "9zVU3lG8HSXO"
    },
    {
      "cell_type": "markdown",
      "id": "419c1575",
      "metadata": {
        "id": "419c1575"
      },
      "source": [
        "# **Resultados aquí debajo**"
      ]
    },
    {
      "cell_type": "markdown",
      "source": [
        "![image.png](data:image/png;base64,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)"
      ],
      "metadata": {
        "id": "dW8kCwTu1JwG"
      },
      "id": "dW8kCwTu1JwG"
    },
    {
      "cell_type": "code",
      "source": [
        "H = H_z@H_y@H_x\n",
        "psi_val = np.pi*53/180 # 53 grados en radianes\n",
        "theta_val = np.pi*56/180 # 56 grados en radianes\n",
        "phi_val = np.pi*2/180 # 2 grados en radianes\n",
        "\n",
        "Hzyx = np.array(H.subs({phi: phi_val, theta: theta_val, psi: psi_val})).astype(np.float64) #Se convierte theta simbolico a un valor concreto Rx\n",
        "Hzyx\n",
        "\n",
        "np.dot(Hzyx, P0_homogeneo)"
      ],
      "metadata": {
        "colab": {
          "base_uri": "https://localhost:8080/",
          "height": 0
        },
        "id": "JPE2RSUYrXR0",
        "outputId": "f1ebe242-9e0a-45d2-fc4a-33fe46f03027"
      },
      "id": "JPE2RSUYrXR0",
      "execution_count": 19,
      "outputs": [
        {
          "output_type": "execute_result",
          "data": {
            "text/plain": [
              "array([[-0.444206  ],\n",
              "       [ 1.07114664],\n",
              "       [-0.80952202],\n",
              "       [ 1.        ]])"
            ]
          },
          "metadata": {},
          "execution_count": 19
        }
      ]
    },
    {
      "cell_type": "markdown",
      "source": [
        "![image.png](data:image/png;base64,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)"
      ],
      "metadata": {
        "id": "lhzqfnK51Q-B"
      },
      "id": "lhzqfnK51Q-B"
    },
    {
      "cell_type": "code",
      "source": [
        "H_t = Matrix([[cos(theta), 0, sin(theta), tx*cos(theta)+tz*sin(theta)], [0, 1, 0, ty], [-sin(theta), 0, cos(theta), (tz*cos(theta))-(tx*sin(theta))], [0, 0, 0, 1]])\n",
        "H_t"
      ],
      "metadata": {
        "colab": {
          "base_uri": "https://localhost:8080/",
          "height": 98
        },
        "id": "5o5k4NC8x0jE",
        "outputId": "76c4ad55-3fcd-409f-e624-58c60a5bddec"
      },
      "id": "5o5k4NC8x0jE",
      "execution_count": 20,
      "outputs": [
        {
          "output_type": "execute_result",
          "data": {
            "text/plain": [
              "⎡cos(θ)   0  sin(θ)  tx⋅cos(θ) + tz⋅sin(θ) ⎤\n",
              "⎢                                          ⎥\n",
              "⎢   0     1    0               ty          ⎥\n",
              "⎢                                          ⎥\n",
              "⎢-sin(θ)  0  cos(θ)  -tx⋅sin(θ) + tz⋅cos(θ)⎥\n",
              "⎢                                          ⎥\n",
              "⎣   0     0    0               1           ⎦"
            ],
            "text/latex": "$\\displaystyle \\left[\\begin{matrix}\\cos{\\left(\\theta \\right)} & 0 & \\sin{\\left(\\theta \\right)} & tx \\cos{\\left(\\theta \\right)} + tz \\sin{\\left(\\theta \\right)}\\\\0 & 1 & 0 & ty\\\\- \\sin{\\left(\\theta \\right)} & 0 & \\cos{\\left(\\theta \\right)} & - tx \\sin{\\left(\\theta \\right)} + tz \\cos{\\left(\\theta \\right)}\\\\0 & 0 & 0 & 1\\end{matrix}\\right]$"
          },
          "metadata": {},
          "execution_count": 20
        }
      ]
    },
    {
      "cell_type": "code",
      "source": [
        "tx_val = 3 #\n",
        "ty_val = 0 #\n",
        "tz_val = 0 #\n",
        "theta_val = np.pi*6/180 #6 grados en radianes\n",
        "\n",
        "H_1_subs = np.array(H_t.subs({tx: tx_val, ty: ty_val, tz: tz_val, theta: theta_val})).astype(np.float64) #Se convierte theta simbolico a un valor concreto Rx\n",
        "H_1_subs\n",
        "phi_val = np.pi*2/180 # 2 grados en radianes\n",
        "\n",
        "H_2_subs = np.array(H_x.subs({phi: phi_val})).astype(np.float64) #Se convierte theta simbolico a un valor concreto Rx\n",
        "\n",
        "tx_val = 1 #\n",
        "ty_val = 1 #\n",
        "tz_val = 0 #\n",
        "theta_val = np.pi*-6/180 # -6 grados en radianes\n",
        "\n",
        "H_3_subs = np.array(H_t.subs({tx: tx_val, ty: ty_val, tz: tz_val, theta: theta_val})).astype(np.float64) #Se convierte theta simbolico a un valor concreto Rx\n",
        "\n",
        "\n",
        "H = H_1_subs@H_2_subs@H_3_subs\n",
        "H\n",
        "\n",
        "np.dot(H, P0_homogeneo)"
      ],
      "metadata": {
        "colab": {
          "base_uri": "https://localhost:8080/",
          "height": 0
        },
        "id": "lTruaPmUwhg-",
        "outputId": "810aeb9f-ae79-446f-8b89-1bfe64816b38"
      },
      "id": "lTruaPmUwhg-",
      "execution_count": 21,
      "outputs": [
        {
          "output_type": "execute_result",
          "data": {
            "text/plain": [
              "array([[ 4.99084836],\n",
              "       [ 1.99148567],\n",
              "       [-0.24429542],\n",
              "       [ 1.        ]])"
            ]
          },
          "metadata": {},
          "execution_count": 21
        }
      ]
    },
    {
      "cell_type": "markdown",
      "source": [
        "![image.png](data:image/png;base64,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)"
      ],
      "metadata": {
        "id": "Fyb2c8om1U5U"
      },
      "id": "Fyb2c8om1U5U"
    },
    {
      "cell_type": "code",
      "source": [
        "H_tz = Matrix([[cos(psi), -sin(psi), 0, 0], [sin(psi), cos(psi), 0, 0], [0, 0, 1, 0], [0, 0, 0, 1]])\n",
        "H_tz"
      ],
      "metadata": {
        "colab": {
          "base_uri": "https://localhost:8080/",
          "height": 98
        },
        "id": "YCV5clu-lebM",
        "outputId": "29ee237e-4b12-489d-89bf-470a7e4bac8a"
      },
      "id": "YCV5clu-lebM",
      "execution_count": 22,
      "outputs": [
        {
          "output_type": "execute_result",
          "data": {
            "text/plain": [
              "⎡cos(ψ)  -sin(ψ)  0  0⎤\n",
              "⎢                     ⎥\n",
              "⎢sin(ψ)  cos(ψ)   0  0⎥\n",
              "⎢                     ⎥\n",
              "⎢  0        0     1  0⎥\n",
              "⎢                     ⎥\n",
              "⎣  0        0     0  1⎦"
            ],
            "text/latex": "$\\displaystyle \\left[\\begin{matrix}\\cos{\\left(\\psi \\right)} & - \\sin{\\left(\\psi \\right)} & 0 & 0\\\\\\sin{\\left(\\psi \\right)} & \\cos{\\left(\\psi \\right)} & 0 & 0\\\\0 & 0 & 1 & 0\\\\0 & 0 & 0 & 1\\end{matrix}\\right]$"
          },
          "metadata": {},
          "execution_count": 22
        }
      ]
    },
    {
      "cell_type": "code",
      "source": [
        "tx_val = 1 #\n",
        "ty_val = 1 #\n",
        "tz_val = 0 #\n",
        "psi_val = np.pi*53/180 # 2 grados en radianes\n",
        "\n",
        "H_tz_subs = np.array(H_tz.subs({tx: tx_val, ty: ty_val, tz: tz_val, psi: psi_val})).astype(np.float64) #Se convierte theta simbolico a un valor concreto Rx\n",
        "H_tz_subs\n",
        "\n",
        "theta_val = np.pi*56/180 #56 grados en radianes\n",
        "H_ty_subs = np.array(H_y.subs({ty: ty_val, theta: theta_val})).astype(np.float64) #Se convierte theta simbolico a un valor concreto Rx\n",
        "H_ty_subs\n",
        "\n",
        "t = np.array([tx_val, ty_val, tz_val])\n",
        "matriz_homogenea = np.eye(4)\n",
        "matriz_homogenea[:3, 3] = t\n",
        "matriz_homogenea\n",
        "\n",
        "psi_val = np.pi*53/180 # 2 grados en radianes\n",
        "H_zt_subs=np.array(H_z.subs({tz: tz_val, psi: psi_val})).astype(np.float64) #Se convierte theta simbolico a un valor concreto Rx\n",
        "H_zt_subs\n",
        "\n",
        "H=H_tz_subs@H_ty_subs@matriz_homogenea@H_zt_subs\n",
        "H\n",
        "\n",
        "np.dot(H, P0_homogeneo)\n",
        "\n",
        "\n",
        "\n",
        "\n",
        "\n",
        "\n",
        "\n",
        "\n"
      ],
      "metadata": {
        "colab": {
          "base_uri": "https://localhost:8080/",
          "height": 0
        },
        "id": "UzzGNmrfqG8q",
        "outputId": "7aa73fe6-2882-40f9-e21c-5f10d1d956e6"
      },
      "id": "UzzGNmrfqG8q",
      "execution_count": 23,
      "outputs": [
        {
          "output_type": "execute_result",
          "data": {
            "text/plain": [
              "array([[-1.64679048],\n",
              "       [ 1.80332018],\n",
              "       [-0.66586599],\n",
              "       [ 1.        ]])"
            ]
          },
          "metadata": {},
          "execution_count": 23
        }
      ]
    },
    {
      "cell_type": "markdown",
      "source": [
        "![image.png](data:image/png;base64,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)"
      ],
      "metadata": {
        "id": "AkEAVWND30bI"
      },
      "id": "AkEAVWND30bI"
    },
    {
      "cell_type": "code",
      "source": [
        "Hty = Matrix([[cos(theta), 0, sin(theta), 0], [0, 1, 0, 0], [-sin(theta), 0, cos(theta), 0], [0, 0, 0, 1]])\n",
        "Hty\n",
        "\n",
        "theta_val = np.pi*56/180\n",
        "\n",
        "Hty2 = np.array(Hty.subs({theta: theta_val})).astype(np.float64)\n",
        "Hty2\n",
        "\n",
        "Hpsiz = Matrix ([[cos(psi), -sin(psi), 0, tx], [sin(psi), cos(psi), 0, ty], [0, 0, 1, tz], [0, 0, 0, 1]])\n",
        "Hpsiz\n",
        "\n",
        "tx_val = 3\n",
        "ty_val = 0\n",
        "tz_val = 0\n",
        "psi_val = np.pi*11/180\n",
        "\n",
        "Hps2 = np.array(Hpsiz.subs({psi: psi_val,tx:tx_val, ty:ty_val,tz:tz_val})).astype(np.float64)\n",
        "Hps2\n",
        "\n",
        "Hty3 = Matrix([[cos(psi), -sin(psi), 0, 0], [sin(psi), cos(psi), 0, 0], [0, 0, 1, 0], [0, 0, 0, 1]])\n",
        "Hty3\n",
        "psi_val = np.pi*-3/180\n",
        "\n",
        "Hty4 = np.array(Hty3.subs({psi: psi_val})).astype(np.float64)\n",
        "Hty4\n",
        "\n",
        "\n",
        "Hpx = Matrix([[1, 0, 0, 0], [0, cos(phi), -sin(phi), 0], [0, sin(phi), cos(phi), 0], [0, 0, 0, 1]])\n",
        "Hpx\n",
        "phi_val = np.pi*2/180\n",
        "\n",
        "Hp4 = np.array(Hpx.subs({phi: phi_val})).astype(np.float64)\n",
        "Hp4\n",
        "\n",
        "\n",
        "Hpsi3 = Matrix([[cos(psi), -sin(psi), 0, 0], [sin(psi), cos(psi), 0, 0], [0, 0, 1, 0], [0, 0, 0, 1]])\n",
        "Hpsi3\n",
        "psi_val = np.pi*278/180\n",
        "\n",
        "Hpsi5 = np.array(Hpsi3.subs({psi: psi_val})).astype(np.float64)\n",
        "Hpsi5\n",
        "\n",
        "H = Hty2 @ Hps2 @ Hty4 @ Hp4 @ Hpsi5\n",
        "H\n",
        "\n",
        "np.dot(H, P0_homogeneo)"
      ],
      "metadata": {
        "id": "xduGUJQA31Zl",
        "colab": {
          "base_uri": "https://localhost:8080/",
          "height": 0
        },
        "outputId": "9b422e40-159c-4fb7-8e85-a0a08709f1d3"
      },
      "id": "xduGUJQA31Zl",
      "execution_count": 31,
      "outputs": [
        {
          "output_type": "execute_result",
          "data": {
            "text/plain": [
              "array([[ 2.34457881],\n",
              "       [-0.68511092],\n",
              "       [-3.52909827],\n",
              "       [ 1.        ]])"
            ]
          },
          "metadata": {},
          "execution_count": 31
        }
      ]
    }
  ],
  "metadata": {
    "kernelspec": {
      "display_name": "Python 3 (ipykernel)",
      "language": "python",
      "name": "python3"
    },
    "language_info": {
      "codemirror_mode": {
        "name": "ipython",
        "version": 3
      },
      "file_extension": ".py",
      "mimetype": "text/x-python",
      "name": "python",
      "nbconvert_exporter": "python",
      "pygments_lexer": "ipython3",
      "version": "3.10.12"
    },
    "colab": {
      "provenance": []
    }
  },
  "nbformat": 4,
  "nbformat_minor": 5
}