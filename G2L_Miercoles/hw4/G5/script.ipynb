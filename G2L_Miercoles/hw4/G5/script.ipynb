{
  "cells": [
    {
      "cell_type": "markdown",
      "id": "a7e43564",
      "metadata": {
        "id": "a7e43564"
      },
      "source": [
        "# **Matrices Homogeneas en un espacio tridimensional**"
      ]
    },
    {
      "cell_type": "markdown",
      "id": "30407b78",
      "metadata": {
        "id": "30407b78"
      },
      "source": [
        "**Docente:** PhD Jorge Rudas\n",
        "\n",
        "**Diseño de prototipos - 2025 I**\n",
        "\n",
        "**INFOTEP**"
      ]
    },
    {
      "cell_type": "code",
      "execution_count": 2,
      "id": "558fe4b4",
      "metadata": {
        "id": "558fe4b4"
      },
      "outputs": [],
      "source": [
        "import numpy as np\n",
        "from sympy import*\n",
        "init_printing()"
      ]
    },
    {
      "cell_type": "markdown",
      "id": "7bb73297",
      "metadata": {
        "id": "7bb73297"
      },
      "source": [
        "### Declaración de variables simbolicas"
      ]
    },
    {
      "cell_type": "code",
      "execution_count": 3,
      "id": "1e352206",
      "metadata": {
        "id": "1e352206"
      },
      "outputs": [],
      "source": [
        "## Variables Simbolicas\n",
        "theta = symbols(\"theta\",  real=True)\n",
        "phi = symbols(\"phi\",  real=True)\n",
        "psi = symbols(\"psi\",  real=True)"
      ]
    },
    {
      "cell_type": "markdown",
      "id": "f95c974c",
      "metadata": {
        "id": "f95c974c"
      },
      "source": [
        "### Rotacion eje x"
      ]
    },
    {
      "cell_type": "code",
      "execution_count": 4,
      "id": "ff5b4884",
      "metadata": {
        "colab": {
          "base_uri": "https://localhost:8080/",
          "height": 98
        },
        "id": "ff5b4884",
        "outputId": "02839160-2eef-48e0-896f-87af088d931c"
      },
      "outputs": [
        {
          "output_type": "execute_result",
          "data": {
            "text/plain": [
              "⎡1    0        0     0⎤\n",
              "⎢                     ⎥\n",
              "⎢0  cos(φ)  -sin(φ)  0⎥\n",
              "⎢                     ⎥\n",
              "⎢0  sin(φ)  cos(φ)   0⎥\n",
              "⎢                     ⎥\n",
              "⎣0    0        0     1⎦"
            ],
            "text/latex": "$\\displaystyle \\left[\\begin{matrix}1 & 0 & 0 & 0\\\\0 & \\cos{\\left(\\phi \\right)} & - \\sin{\\left(\\phi \\right)} & 0\\\\0 & \\sin{\\left(\\phi \\right)} & \\cos{\\left(\\phi \\right)} & 0\\\\0 & 0 & 0 & 1\\end{matrix}\\right]$"
          },
          "metadata": {},
          "execution_count": 4
        }
      ],
      "source": [
        "H_x = Matrix([[1, 0, 0, 0], [0, cos(phi), -sin(phi), 0], [0, sin(phi), cos(phi), 0], [0, 0, 0, 1]])\n",
        "H_x"
      ]
    },
    {
      "cell_type": "markdown",
      "id": "300908ee",
      "metadata": {
        "id": "300908ee"
      },
      "source": [
        "### Rotacion eje y"
      ]
    },
    {
      "cell_type": "code",
      "execution_count": 5,
      "id": "3c9c6277",
      "metadata": {
        "colab": {
          "base_uri": "https://localhost:8080/",
          "height": 98
        },
        "id": "3c9c6277",
        "outputId": "e1c6babd-7445-473f-fa8f-da7d6e5f4d29"
      },
      "outputs": [
        {
          "output_type": "execute_result",
          "data": {
            "text/plain": [
              "⎡cos(θ)   0  sin(θ)  0⎤\n",
              "⎢                     ⎥\n",
              "⎢   0     1    0     0⎥\n",
              "⎢                     ⎥\n",
              "⎢-sin(θ)  0  cos(θ)  0⎥\n",
              "⎢                     ⎥\n",
              "⎣   0     0    0     1⎦"
            ],
            "text/latex": "$\\displaystyle \\left[\\begin{matrix}\\cos{\\left(\\theta \\right)} & 0 & \\sin{\\left(\\theta \\right)} & 0\\\\0 & 1 & 0 & 0\\\\- \\sin{\\left(\\theta \\right)} & 0 & \\cos{\\left(\\theta \\right)} & 0\\\\0 & 0 & 0 & 1\\end{matrix}\\right]$"
          },
          "metadata": {},
          "execution_count": 5
        }
      ],
      "source": [
        "H_y = Matrix([[cos(theta), 0, sin(theta), 0], [0, 1, 0, 0], [-sin(theta), 0, cos(theta), 0], [0, 0, 0, 1]])\n",
        "H_y\n"
      ]
    },
    {
      "cell_type": "markdown",
      "id": "5ed24efc",
      "metadata": {
        "id": "5ed24efc"
      },
      "source": [
        "### Rotacion eje z"
      ]
    },
    {
      "cell_type": "code",
      "execution_count": 6,
      "id": "46751e12",
      "metadata": {
        "colab": {
          "base_uri": "https://localhost:8080/",
          "height": 98
        },
        "id": "46751e12",
        "outputId": "9ad4f2ae-cc77-4e99-d7d3-95f112569dcf"
      },
      "outputs": [
        {
          "output_type": "execute_result",
          "data": {
            "text/plain": [
              "⎡cos(ψ)  -sin(ψ)  0  0⎤\n",
              "⎢                     ⎥\n",
              "⎢sin(ψ)  cos(ψ)   0  0⎥\n",
              "⎢                     ⎥\n",
              "⎢  0        0     1  0⎥\n",
              "⎢                     ⎥\n",
              "⎣  0        0     0  1⎦"
            ],
            "text/latex": "$\\displaystyle \\left[\\begin{matrix}\\cos{\\left(\\psi \\right)} & - \\sin{\\left(\\psi \\right)} & 0 & 0\\\\\\sin{\\left(\\psi \\right)} & \\cos{\\left(\\psi \\right)} & 0 & 0\\\\0 & 0 & 1 & 0\\\\0 & 0 & 0 & 1\\end{matrix}\\right]$"
          },
          "metadata": {},
          "execution_count": 6
        }
      ],
      "source": [
        "H_z = Matrix([[cos(psi), -sin(psi), 0, 0], [sin(psi), cos(psi), 0, 0], [0, 0, 1, 0], [0, 0, 0, 1]])\n",
        "H_z"
      ]
    },
    {
      "cell_type": "markdown",
      "id": "4280e6af",
      "metadata": {
        "id": "4280e6af"
      },
      "source": [
        "### Composicion de Matrices Homogeneas"
      ]
    },
    {
      "cell_type": "markdown",
      "id": "3c3fea59",
      "metadata": {
        "id": "3c3fea59"
      },
      "source": [
        "Probando la conmutatividad de las matrices homogeneas"
      ]
    },
    {
      "cell_type": "code",
      "execution_count": 7,
      "id": "8cdcb123",
      "metadata": {
        "colab": {
          "base_uri": "https://localhost:8080/",
          "height": 98
        },
        "id": "8cdcb123",
        "outputId": "4394d951-e449-4f88-bbe5-b67cd79a990a"
      },
      "outputs": [
        {
          "output_type": "execute_result",
          "data": {
            "text/plain": [
              "⎡cos(ψ)⋅cos(θ)  sin(φ)⋅sin(θ)⋅cos(ψ) - sin(ψ)⋅cos(φ)  sin(φ)⋅sin(ψ) + sin(θ)⋅cos(φ)⋅cos(ψ)   0⎤\n",
              "⎢                                                                                             ⎥\n",
              "⎢sin(ψ)⋅cos(θ)  sin(φ)⋅sin(ψ)⋅sin(θ) + cos(φ)⋅cos(ψ)  -sin(φ)⋅cos(ψ) + sin(ψ)⋅sin(θ)⋅cos(φ)  0⎥\n",
              "⎢                                                                                             ⎥\n",
              "⎢   -sin(θ)                sin(φ)⋅cos(θ)                          cos(φ)⋅cos(θ)              0⎥\n",
              "⎢                                                                                             ⎥\n",
              "⎣      0                         0                                      0                    1⎦"
            ],
            "text/latex": "$\\displaystyle \\left[\\begin{matrix}\\cos{\\left(\\psi \\right)} \\cos{\\left(\\theta \\right)} & \\sin{\\left(\\phi \\right)} \\sin{\\left(\\theta \\right)} \\cos{\\left(\\psi \\right)} - \\sin{\\left(\\psi \\right)} \\cos{\\left(\\phi \\right)} & \\sin{\\left(\\phi \\right)} \\sin{\\left(\\psi \\right)} + \\sin{\\left(\\theta \\right)} \\cos{\\left(\\phi \\right)} \\cos{\\left(\\psi \\right)} & 0\\\\\\sin{\\left(\\psi \\right)} \\cos{\\left(\\theta \\right)} & \\sin{\\left(\\phi \\right)} \\sin{\\left(\\psi \\right)} \\sin{\\left(\\theta \\right)} + \\cos{\\left(\\phi \\right)} \\cos{\\left(\\psi \\right)} & - \\sin{\\left(\\phi \\right)} \\cos{\\left(\\psi \\right)} + \\sin{\\left(\\psi \\right)} \\sin{\\left(\\theta \\right)} \\cos{\\left(\\phi \\right)} & 0\\\\- \\sin{\\left(\\theta \\right)} & \\sin{\\left(\\phi \\right)} \\cos{\\left(\\theta \\right)} & \\cos{\\left(\\phi \\right)} \\cos{\\left(\\theta \\right)} & 0\\\\0 & 0 & 0 & 1\\end{matrix}\\right]$"
          },
          "metadata": {},
          "execution_count": 7
        }
      ],
      "source": [
        "H = H_z@H_y@H_x\n",
        "H"
      ]
    },
    {
      "cell_type": "code",
      "execution_count": 8,
      "id": "663950aa",
      "metadata": {
        "colab": {
          "base_uri": "https://localhost:8080/",
          "height": 98
        },
        "id": "663950aa",
        "outputId": "669becb0-097f-477a-d454-ee249eca8913"
      },
      "outputs": [
        {
          "output_type": "execute_result",
          "data": {
            "text/plain": [
              "⎡           cos(ψ)⋅cos(θ)                         -sin(ψ)⋅cos(θ)                  sin(θ)      0⎤\n",
              "⎢                                                                                              ⎥\n",
              "⎢sin(φ)⋅sin(θ)⋅cos(ψ) + sin(ψ)⋅cos(φ)  -sin(φ)⋅sin(ψ)⋅sin(θ) + cos(φ)⋅cos(ψ)  -sin(φ)⋅cos(θ)  0⎥\n",
              "⎢                                                                                              ⎥\n",
              "⎢sin(φ)⋅sin(ψ) - sin(θ)⋅cos(φ)⋅cos(ψ)  sin(φ)⋅cos(ψ) + sin(ψ)⋅sin(θ)⋅cos(φ)   cos(φ)⋅cos(θ)   0⎥\n",
              "⎢                                                                                              ⎥\n",
              "⎣                 0                                      0                          0         1⎦"
            ],
            "text/latex": "$\\displaystyle \\left[\\begin{matrix}\\cos{\\left(\\psi \\right)} \\cos{\\left(\\theta \\right)} & - \\sin{\\left(\\psi \\right)} \\cos{\\left(\\theta \\right)} & \\sin{\\left(\\theta \\right)} & 0\\\\\\sin{\\left(\\phi \\right)} \\sin{\\left(\\theta \\right)} \\cos{\\left(\\psi \\right)} + \\sin{\\left(\\psi \\right)} \\cos{\\left(\\phi \\right)} & - \\sin{\\left(\\phi \\right)} \\sin{\\left(\\psi \\right)} \\sin{\\left(\\theta \\right)} + \\cos{\\left(\\phi \\right)} \\cos{\\left(\\psi \\right)} & - \\sin{\\left(\\phi \\right)} \\cos{\\left(\\theta \\right)} & 0\\\\\\sin{\\left(\\phi \\right)} \\sin{\\left(\\psi \\right)} - \\sin{\\left(\\theta \\right)} \\cos{\\left(\\phi \\right)} \\cos{\\left(\\psi \\right)} & \\sin{\\left(\\phi \\right)} \\cos{\\left(\\psi \\right)} + \\sin{\\left(\\psi \\right)} \\sin{\\left(\\theta \\right)} \\cos{\\left(\\phi \\right)} & \\cos{\\left(\\phi \\right)} \\cos{\\left(\\theta \\right)} & 0\\\\0 & 0 & 0 & 1\\end{matrix}\\right]$"
          },
          "metadata": {},
          "execution_count": 8
        }
      ],
      "source": [
        "H = H_x@H_y@H_z\n",
        "H"
      ]
    },
    {
      "cell_type": "markdown",
      "id": "49b4f754",
      "metadata": {
        "id": "49b4f754"
      },
      "source": [
        "# **Experimento 1**\n",
        "#### Comprobar que una secuencia de rotaciones produce el mismo resultado que una composición de matrices homogeneas"
      ]
    },
    {
      "cell_type": "code",
      "execution_count": 9,
      "id": "a6d54389",
      "metadata": {
        "id": "a6d54389"
      },
      "outputs": [],
      "source": [
        "P0 = np.array([1, 1, 0])"
      ]
    },
    {
      "cell_type": "markdown",
      "id": "001bc638",
      "metadata": {
        "id": "001bc638"
      },
      "source": [
        "1. Probando solo con matrices de rotación en 3D"
      ]
    },
    {
      "cell_type": "code",
      "execution_count": 10,
      "id": "2fef220f",
      "metadata": {
        "colab": {
          "base_uri": "https://localhost:8080/",
          "height": 78
        },
        "id": "2fef220f",
        "outputId": "b4a88e89-b21f-40b1-b047-d1e14d8c2ef5"
      },
      "outputs": [
        {
          "output_type": "execute_result",
          "data": {
            "text/plain": [
              "⎡1    0        0   ⎤\n",
              "⎢                  ⎥\n",
              "⎢0  cos(θ)  -sin(θ)⎥\n",
              "⎢                  ⎥\n",
              "⎣0  sin(θ)  cos(θ) ⎦"
            ],
            "text/latex": "$\\displaystyle \\left[\\begin{matrix}1 & 0 & 0\\\\0 & \\cos{\\left(\\theta \\right)} & - \\sin{\\left(\\theta \\right)}\\\\0 & \\sin{\\left(\\theta \\right)} & \\cos{\\left(\\theta \\right)}\\end{matrix}\\right]$"
          },
          "metadata": {},
          "execution_count": 10
        }
      ],
      "source": [
        "#Matriz de rotacion 3D sobre el eje x\n",
        "R_x = Matrix([[1, 0, 0], [0, cos(theta), -sin(theta)], [0, sin(theta), cos(theta)]])\n",
        "R_x"
      ]
    },
    {
      "cell_type": "code",
      "execution_count": 11,
      "id": "0b784156",
      "metadata": {
        "colab": {
          "base_uri": "https://localhost:8080/",
          "height": 78
        },
        "id": "0b784156",
        "outputId": "675ba8e8-7581-46dc-e4fa-2d22903fb266"
      },
      "outputs": [
        {
          "output_type": "execute_result",
          "data": {
            "text/plain": [
              "⎡cos(θ)   0  sin(θ)⎤\n",
              "⎢                  ⎥\n",
              "⎢   0     1    0   ⎥\n",
              "⎢                  ⎥\n",
              "⎣-sin(θ)  0  cos(θ)⎦"
            ],
            "text/latex": "$\\displaystyle \\left[\\begin{matrix}\\cos{\\left(\\theta \\right)} & 0 & \\sin{\\left(\\theta \\right)}\\\\0 & 1 & 0\\\\- \\sin{\\left(\\theta \\right)} & 0 & \\cos{\\left(\\theta \\right)}\\end{matrix}\\right]$"
          },
          "metadata": {},
          "execution_count": 11
        }
      ],
      "source": [
        "#Matriz de rotacion 3D sobre el eje y\n",
        "R_y = Matrix([[cos(theta), 0, sin(theta)], [0, 1, 0], [-sin(theta), 0, cos(theta)]])\n",
        "R_y"
      ]
    },
    {
      "cell_type": "code",
      "execution_count": 12,
      "id": "dd57ffb9",
      "metadata": {
        "colab": {
          "base_uri": "https://localhost:8080/"
        },
        "id": "dd57ffb9",
        "outputId": "24f55f9c-7418-4858-d5e2-0e68fe0e817d"
      },
      "outputs": [
        {
          "output_type": "stream",
          "name": "stdout",
          "text": [
            "[ 1.0566704   0.93969262 -0.02062634]\n"
          ]
        }
      ],
      "source": [
        "theta_val = np.pi/9 # 20 grados en radianes\n",
        "R_x_p0 = np.array(R_x.subs({theta: theta_val})).astype(np.float64) #Se convierte theta simbolico a un valor concreto Rx\n",
        "R_y_p0 = np.array(R_y.subs({theta: theta_val})).astype(np.float64) #Se convierte theta simbolico a un valor concreto Ry\n",
        "\n",
        "P0_rotado_x = np.dot(R_x_p0, P0) #Producto punto entre la matrix de rotación y el vector de posición del punto\n",
        "P0_rotado_y = np.dot(R_y_p0, P0_rotado_x) #Producto punto entre la matrix de rotación y el vector de posición del punto\n",
        "\n",
        "print(P0_rotado_y)"
      ]
    },
    {
      "cell_type": "markdown",
      "id": "8ed1acdf",
      "metadata": {
        "id": "8ed1acdf"
      },
      "source": [
        "2. Ahora probamos con la composición de matrices homogeneas"
      ]
    },
    {
      "cell_type": "code",
      "execution_count": 13,
      "id": "54f56d28",
      "metadata": {
        "id": "54f56d28",
        "colab": {
          "base_uri": "https://localhost:8080/"
        },
        "outputId": "5a2b342d-9a41-4f41-884f-5673c8e65949"
      },
      "outputs": [
        {
          "output_type": "stream",
          "name": "stdout",
          "text": [
            "[1 1 0]\n",
            "[[1]\n",
            " [1]\n",
            " [0]\n",
            " [1]]\n"
          ]
        }
      ],
      "source": [
        "#Se convierte el punto 3D a un punto de coordenadas homogeneas\n",
        "\n",
        "P0_homogeneo = np.append(P0, 1)\n",
        "P0_homogeneo = np.reshape(P0_homogeneo, (4, 1))\n",
        "print(P0)\n",
        "print(P0_homogeneo)"
      ]
    },
    {
      "cell_type": "code",
      "execution_count": 14,
      "id": "bf656be2",
      "metadata": {
        "id": "bf656be2",
        "colab": {
          "base_uri": "https://localhost:8080/",
          "height": 98
        },
        "outputId": "a99efb28-1e7c-4a2a-8469-3371ae972d2e"
      },
      "outputs": [
        {
          "output_type": "execute_result",
          "data": {
            "text/plain": [
              "⎡cos(θ)   sin(φ)⋅sin(θ)  sin(θ)⋅cos(φ)  0⎤\n",
              "⎢                                        ⎥\n",
              "⎢   0        cos(φ)         -sin(φ)     0⎥\n",
              "⎢                                        ⎥\n",
              "⎢-sin(θ)  sin(φ)⋅cos(θ)  cos(φ)⋅cos(θ)  0⎥\n",
              "⎢                                        ⎥\n",
              "⎣   0           0              0        1⎦"
            ],
            "text/latex": "$\\displaystyle \\left[\\begin{matrix}\\cos{\\left(\\theta \\right)} & \\sin{\\left(\\phi \\right)} \\sin{\\left(\\theta \\right)} & \\sin{\\left(\\theta \\right)} \\cos{\\left(\\phi \\right)} & 0\\\\0 & \\cos{\\left(\\phi \\right)} & - \\sin{\\left(\\phi \\right)} & 0\\\\- \\sin{\\left(\\theta \\right)} & \\sin{\\left(\\phi \\right)} \\cos{\\left(\\theta \\right)} & \\cos{\\left(\\phi \\right)} \\cos{\\left(\\theta \\right)} & 0\\\\0 & 0 & 0 & 1\\end{matrix}\\right]$"
          },
          "metadata": {},
          "execution_count": 14
        }
      ],
      "source": [
        "#Se realiza la composición de las matrices homogeneas para x y y\n",
        "Hxy = H_y@H_x\n",
        "Hxy"
      ]
    },
    {
      "cell_type": "code",
      "execution_count": 15,
      "id": "a6a89f36",
      "metadata": {
        "id": "a6a89f36",
        "colab": {
          "base_uri": "https://localhost:8080/"
        },
        "outputId": "c15cc07a-12cd-470a-e516-159d784fcaa4"
      },
      "outputs": [
        {
          "output_type": "execute_result",
          "data": {
            "text/plain": [
              "array([[ 0.93969262,  0.11697778,  0.3213938 ,  0.        ],\n",
              "       [ 0.        ,  0.93969262, -0.34202014,  0.        ],\n",
              "       [-0.34202014,  0.3213938 ,  0.88302222,  0.        ],\n",
              "       [ 0.        ,  0.        ,  0.        ,  1.        ]])"
            ]
          },
          "metadata": {},
          "execution_count": 15
        }
      ],
      "source": [
        "theta_val = np.pi/9 # 20 grados en radianes\n",
        "phi_val = np.pi/9 # 20 grados en radianes\n",
        "\n",
        "Hxy_p0 = np.array(Hxy.subs({phi: phi_val, theta: theta_val})).astype(np.float64) #Se convierte theta simbolico a un valor concreto Rx\n",
        "Hxy_p0"
      ]
    },
    {
      "cell_type": "code",
      "execution_count": 16,
      "id": "dff1369b",
      "metadata": {
        "id": "dff1369b",
        "colab": {
          "base_uri": "https://localhost:8080/"
        },
        "outputId": "f491d4bc-4514-4da0-eef4-4f56528a6f9e"
      },
      "outputs": [
        {
          "output_type": "execute_result",
          "data": {
            "text/plain": [
              "array([[ 1.0566704 ],\n",
              "       [ 0.93969262],\n",
              "       [-0.02062634],\n",
              "       [ 1.        ]])"
            ]
          },
          "metadata": {},
          "execution_count": 16
        }
      ],
      "source": [
        "P0_rotado_Hxy = np.dot(Hxy_p0, P0_homogeneo)\n",
        "P0_rotado_Hxy"
      ]
    },
    {
      "cell_type": "markdown",
      "id": "f03001f3",
      "metadata": {
        "id": "f03001f3"
      },
      "source": [
        "# **Actividad**\n",
        "\n",
        "* Calcule las siguientes matrices homogeneas"
      ]
    },
    {
      "cell_type": "code",
      "execution_count": 17,
      "id": "b1097fd7",
      "metadata": {
        "id": "b1097fd7",
        "colab": {
          "resources": {
            "http://localhost:8080/content/1.png": {
              "data": "",
              "ok": false,
              "headers": [
                [
                  "content-length",
                  "0"
                ]
              ],
              "status": 404,
              "status_text": ""
            }
          },
          "base_uri": "https://localhost:8080/",
          "height": 38
        },
        "outputId": "d35e8f97-458f-4849-91f3-217c49e412ae"
      },
      "outputs": [
        {
          "output_type": "execute_result",
          "data": {
            "text/html": [
              "<img src=\"/content/1.png\"/>"
            ],
            "text/plain": [
              "<IPython.core.display.Image object>"
            ]
          },
          "metadata": {},
          "execution_count": 17
        }
      ],
      "source": [
        "from IPython.display import Image\n",
        "\n",
        "Image(url='/content/1.png')"
      ]
    },
    {
      "cell_type": "markdown",
      "id": "6bd60533",
      "metadata": {
        "id": "6bd60533"
      },
      "source": [
        "## Donde:"
      ]
    },
    {
      "cell_type": "code",
      "execution_count": 18,
      "id": "683b1094",
      "metadata": {
        "id": "683b1094",
        "colab": {
          "resources": {
            "http://localhost:8080/content/2.png": {
              "data": "",
              "ok": false,
              "headers": [
                [
                  "content-length",
                  "0"
                ]
              ],
              "status": 404,
              "status_text": ""
            }
          },
          "base_uri": "https://localhost:8080/",
          "height": 38
        },
        "outputId": "f38d7bba-7d3c-443c-c538-6082b7719e62"
      },
      "outputs": [
        {
          "output_type": "execute_result",
          "data": {
            "text/html": [
              "<img src=\"/content/2.png\"/>"
            ],
            "text/plain": [
              "<IPython.core.display.Image object>"
            ]
          },
          "metadata": {},
          "execution_count": 18
        }
      ],
      "source": [
        "Image(url='/content/2.png')"
      ]
    },
    {
      "cell_type": "markdown",
      "id": "419c1575",
      "metadata": {
        "id": "419c1575"
      },
      "source": [
        "# **Resultados aquí debajo**"
      ]
    },
    {
      "cell_type": "markdown",
      "source": [
        "**1).  Ψ=53°, Φ=2, θ=56°**"
      ],
      "metadata": {
        "id": "p4VqAReAVb_X"
      },
      "id": "p4VqAReAVb_X"
    },
    {
      "cell_type": "code",
      "source": [
        "Hzyx = H_z@H_y@H_x\n",
        "\n",
        "theta_val = np.pi*56/180\n",
        "phi_val = np.pi*2/180\n",
        "psi_val = np.pi*53/180\n",
        "\n",
        "Hzyx_p0 = np.array(Hzyx.subs({phi: phi_val, theta: theta_val, psi: psi_val})).astype(np.float64)\n",
        "\n",
        "print(Hzyx_p0)\n",
        "print()\n",
        "np.dot(Hzyx_p0, P0_homogeneo)"
      ],
      "metadata": {
        "id": "rdgxf794s_OY",
        "colab": {
          "base_uri": "https://localhost:8080/"
        },
        "outputId": "e8f8afb4-cc6f-4687-f46b-7a1d3f54e8a7"
      },
      "id": "rdgxf794s_OY",
      "execution_count": 19,
      "outputs": [
        {
          "output_type": "stream",
          "name": "stdout",
          "text": [
            "[[ 0.33653069 -0.78073669  0.52649531  0.        ]\n",
            " [ 0.44659131  0.62455533  0.64069247  0.        ]\n",
            " [-0.82903757  0.01951555  0.55885226  0.        ]\n",
            " [ 0.          0.          0.          1.        ]]\n",
            "\n"
          ]
        },
        {
          "output_type": "execute_result",
          "data": {
            "text/plain": [
              "array([[-0.444206  ],\n",
              "       [ 1.07114664],\n",
              "       [-0.80952202],\n",
              "       [ 1.        ]])"
            ]
          },
          "metadata": {},
          "execution_count": 19
        }
      ]
    },
    {
      "cell_type": "markdown",
      "source": [
        "**2). θ=6°, Φ=2, θ2=-6°, t1 = [3, 0, 0], t2= [1, 1, 0]**\n",
        "\n"
      ],
      "metadata": {
        "id": "TppqIkK5Y4SH"
      },
      "id": "TppqIkK5Y4SH"
    },
    {
      "cell_type": "code",
      "source": [
        "theta2 = symbols(\"theta2\", real=True)\n",
        "theta_val = np.pi*6/180\n",
        "phi_val = np.pi*2/180\n",
        "theta2_val = np.pi*-6/180\n",
        "\n",
        "t1 = Matrix([3, 0, 0])\n",
        "t2 = Matrix([1, 1, 0])\n",
        "\n",
        "H_y1 = Matrix([[cos(theta), 0, sin(theta), t1[0]*cos(theta)+t1[2]*sin(theta)], [0, 1,  0, t1[1]], [-sin(theta), 0, cos(theta), t1[2]*cos(theta)-t1[0]*sin(theta)], [0, 0, 0, 1] ])\n",
        "H_y2 = Matrix([[cos(theta2), 0, sin(theta2), t2[0]*cos(theta2)+t2[2]*sin(theta2)], [0, 1,  0, t2[1]],[-sin(theta2), 0, cos(theta2), t2[2]*cos(theta2)-t2[0]*sin(theta2)], [0, 0, 0, 1]])\n",
        "\n",
        "Hyxy = H_y1@H_x@H_y2\n",
        "H = np.array(Hyxy.subs({phi: phi_val, theta: theta_val, theta2: theta2_val})).astype(np.float64)\n",
        "\n",
        "print(H)\n",
        "print()\n",
        "np.dot(H, P0_homogeneo)\n"
      ],
      "metadata": {
        "id": "MboV9qtHz8-a",
        "colab": {
          "base_uri": "https://localhost:8080/"
        },
        "outputId": "9d6448bf-3ce4-4a98-e145-e97f7bb8c34e"
      },
      "id": "MboV9qtHz8-a",
      "execution_count": 20,
      "outputs": [
        {
          "output_type": "stream",
          "name": "stdout",
          "text": [
            "[[ 9.99993344e-01  3.64799076e-03 -6.33270922e-05  3.98720702e+00]\n",
            " [-3.64799076e-03  9.99390827e-01 -3.47083136e-02  9.95742836e-01]\n",
            " [-6.33270922e-05  3.47083136e-02  9.99397483e-01 -2.78940403e-01]\n",
            " [ 0.00000000e+00  0.00000000e+00  0.00000000e+00  1.00000000e+00]]\n",
            "\n"
          ]
        },
        {
          "output_type": "execute_result",
          "data": {
            "text/plain": [
              "array([[ 4.99084836],\n",
              "       [ 1.99148567],\n",
              "       [-0.24429542],\n",
              "       [ 1.        ]])"
            ]
          },
          "metadata": {},
          "execution_count": 20
        }
      ]
    },
    {
      "cell_type": "markdown",
      "source": [
        "**3). Ψ=53°, θ=56° t1= [3, 0, 0] t2= [1, 1, 0]**"
      ],
      "metadata": {
        "id": "-wtQmB78c2ru"
      },
      "id": "-wtQmB78c2ru"
    },
    {
      "cell_type": "code",
      "source": [
        "theta_val = np.pi*56/180\n",
        "psi_val = np.pi*53/180\n",
        "\n",
        "t = Matrix([3, 0, 0])\n",
        "t2 = Matrix([1, 1, 0])\n",
        "\n",
        "\n",
        "Ht2 = Matrix([[1, 0, 0, t2[0]],[0, 1, 0, t2[1]], [0, 0, 1, t2[2]],[0, 0, 0, 1]])\n",
        "H_zt = Matrix([[cos(psi), -sin(psi), 0, t[0]], [sin(psi), cos(psi), 0, t[1]], [0, 0, 1, t[2]], [0, 0, 0, 1]])\n",
        "H_y = Matrix([[cos(theta), 0, sin(theta),  0], [0, 1, 0, 0], [-sin(theta), 0, cos(theta), 0], [0, 0, 0, 1]])\n",
        "H_z = Matrix([[cos(psi), -sin(psi), 0, 0], [sin(psi), cos(psi), 0, 0], [0, 0, 1, 0], [0, 0, 0, 1]])\n",
        "\n",
        "Hztytz= H_zt@H_y@Ht2@H_z\n",
        "H = np.array(Hztytz.subs({ theta: theta_val, psi:psi_val})).astype(np.float64)\n",
        "\n",
        "print(H)\n",
        "print()\n",
        "np.dot(H, P0_homogeneo)\n",
        "\n"
      ],
      "metadata": {
        "colab": {
          "base_uri": "https://localhost:8080/"
        },
        "id": "x9ZdRJo5RKt-",
        "outputId": "7d231e0c-4ae7-443f-f834-13aa68374b9d"
      },
      "id": "x9ZdRJo5RKt-",
      "execution_count": 21,
      "outputs": [
        {
          "output_type": "stream",
          "name": "stdout",
          "text": [
            "[[-0.43528945 -0.74939621  0.49892727  2.53789518]\n",
            " [ 0.74939621  0.00551764  0.66209884  1.04840633]\n",
            " [-0.49892727  0.66209884  0.5591929  -0.82903757]\n",
            " [ 0.          0.          0.          1.        ]]\n",
            "\n"
          ]
        },
        {
          "output_type": "execute_result",
          "data": {
            "text/plain": [
              "array([[ 1.35320952],\n",
              "       [ 1.80332018],\n",
              "       [-0.66586599],\n",
              "       [ 1.        ]])"
            ]
          },
          "metadata": {},
          "execution_count": 21
        }
      ]
    },
    {
      "cell_type": "markdown",
      "source": [
        "**4). Ψ1=11°, Ψ2=-3°, Ψ3=278°, Φ=2, θ=56°, t = [3, 0, 0]**"
      ],
      "metadata": {
        "id": "smQRbWn1ySpQ"
      },
      "id": "smQRbWn1ySpQ"
    },
    {
      "cell_type": "code",
      "source": [
        "#4\n",
        "psi1 = symbols(\"psi1\", real=True)\n",
        "psi2 = symbols(\"psi2\", real=True)\n",
        "theta_val = np.pi*56/180\n",
        "phi_val = np.pi*2/180\n",
        "psi_val = np.pi*11/180\n",
        "psi_val1 = np.pi*-3/180\n",
        "psi_val2 = np.pi*278/180\n",
        "\n",
        "t = Matrix([3, 0, 0])\n",
        "\n",
        "H_y = Matrix([[cos(theta), 0, sin(theta),  0], [0, 1, 0, 0], [-sin(theta), 0, cos(theta), 0], [0, 0, 0, 1]])\n",
        "H_zt = Matrix([[cos(psi), -sin(psi), 0, t[0]], [sin(psi), cos(psi), 0, t[1]], [0, 0, 1, t[2]], [0, 0, 0, 1]])\n",
        "H_z = Matrix([[cos(psi1), -sin(psi1), 0, 0], [sin(psi1), cos(psi1), 0, 0], [0, 0, 1, 0], [0, 0, 0, 1]])\n",
        "H_z2 = Matrix([[cos(psi2), -sin(psi2), 0, 0], [sin(psi2), cos(psi2), 0, 0], [0, 0, 1, 0], [0, 0, 0, 1]])\n",
        "\n",
        "Hyzxz2= H_y@H_zt@H_x@H_z@H_z2\n",
        "\n",
        "H = np.array(Hyzxz2.subs({phi: phi_val, theta: theta_val, psi: psi_val, psi1: psi_val1, psi2: psi_val2})).astype(np.float64)\n",
        "\n",
        "print(H)\n",
        "print()\n",
        "np.dot(H, P0_homogeneo)\n"
      ],
      "metadata": {
        "id": "Gk3A9i8foVI3",
        "colab": {
          "base_uri": "https://localhost:8080/"
        },
        "outputId": "d0912cf0-24bb-4422-df77-266ccd2df150"
      },
      "id": "Gk3A9i8foVI3",
      "execution_count": 27,
      "outputs": [
        {
          "output_type": "stream",
          "name": "stdout",
          "text": [
            "[[ 0.12524681  0.54005806  0.83225629  1.67757871]\n",
            " [-0.96066599  0.27558524 -0.03425829  0.        ]\n",
            " [-0.24785902 -0.79522957  0.55333158 -2.48711272]\n",
            " [ 0.          0.          0.          1.        ]]\n",
            "\n"
          ]
        },
        {
          "output_type": "execute_result",
          "data": {
            "text/plain": [
              "array([[ 2.34288358],\n",
              "       [-0.68508075],\n",
              "       [-3.5302013 ],\n",
              "       [ 1.        ]])"
            ]
          },
          "metadata": {},
          "execution_count": 27
        }
      ]
    }
  ],
  "metadata": {
    "kernelspec": {
      "display_name": "Python 3 (ipykernel)",
      "language": "python",
      "name": "python3"
    },
    "language_info": {
      "codemirror_mode": {
        "name": "ipython",
        "version": 3
      },
      "file_extension": ".py",
      "mimetype": "text/x-python",
      "name": "python",
      "nbconvert_exporter": "python",
      "pygments_lexer": "ipython3",
      "version": "3.10.12"
    },
    "colab": {
      "provenance": []
    }
  },
  "nbformat": 4,
  "nbformat_minor": 5
}