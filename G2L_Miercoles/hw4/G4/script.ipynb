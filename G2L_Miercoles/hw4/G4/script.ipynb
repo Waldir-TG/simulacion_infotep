{
  "cells": [
    {
      "cell_type": "markdown",
      "id": "a7e43564",
      "metadata": {
        "id": "a7e43564"
      },
      "source": [
        "# **Matrices Homogeneas en un espacio tridimensional**"
      ]
    },
    {
      "cell_type": "markdown",
      "id": "30407b78",
      "metadata": {
        "id": "30407b78"
      },
      "source": [
        "**Docente:** PhD Jorge Rudas\n",
        "\n",
        "**Diseño de prototipos - 2025 I**\n",
        "\n",
        "**INFOTEP**"
      ]
    },
    {
      "cell_type": "code",
      "execution_count": null,
      "id": "558fe4b4",
      "metadata": {
        "id": "558fe4b4"
      },
      "outputs": [],
      "source": [
        "import numpy as np\n",
        "from sympy import*\n",
        "init_printing()"
      ]
    },
    {
      "cell_type": "markdown",
      "id": "7bb73297",
      "metadata": {
        "id": "7bb73297"
      },
      "source": [
        "### Declaración de variables simbolicas"
      ]
    },
    {
      "cell_type": "code",
      "execution_count": null,
      "id": "1e352206",
      "metadata": {
        "id": "1e352206"
      },
      "outputs": [],
      "source": [
        "## Variables Simbolicas\n",
        "theta = symbols(\"theta\",  real=True)\n",
        "phi = symbols(\"phi\",  real=True)\n",
        "psi = symbols(\"psi\",  real=True)"
      ]
    },
    {
      "cell_type": "markdown",
      "id": "f95c974c",
      "metadata": {
        "id": "f95c974c"
      },
      "source": [
        "### Rotacion eje x"
      ]
    },
    {
      "cell_type": "code",
      "execution_count": null,
      "id": "ff5b4884",
      "metadata": {
        "colab": {
          "base_uri": "https://localhost:8080/",
          "height": 98
        },
        "id": "ff5b4884",
        "outputId": "abb0a1dc-2903-46f7-d574-7e8c0818f47e"
      },
      "outputs": [
        {
          "output_type": "execute_result",
          "data": {
            "text/plain": [
              "⎡1    0        0     0⎤\n",
              "⎢                     ⎥\n",
              "⎢0  cos(φ)  -sin(φ)  0⎥\n",
              "⎢                     ⎥\n",
              "⎢0  sin(φ)  cos(φ)   0⎥\n",
              "⎢                     ⎥\n",
              "⎣0    0        0     1⎦"
            ],
            "text/latex": "$\\displaystyle \\left[\\begin{matrix}1 & 0 & 0 & 0\\\\0 & \\cos{\\left(\\phi \\right)} & - \\sin{\\left(\\phi \\right)} & 0\\\\0 & \\sin{\\left(\\phi \\right)} & \\cos{\\left(\\phi \\right)} & 0\\\\0 & 0 & 0 & 1\\end{matrix}\\right]$"
          },
          "metadata": {},
          "execution_count": 271
        }
      ],
      "source": [
        "H_x = Matrix([[1, 0, 0, 0], [0, cos(phi), -sin(phi), 0], [0, sin(phi), cos(phi), 0], [0, 0, 0, 1]])\n",
        "H_x"
      ]
    },
    {
      "cell_type": "markdown",
      "id": "300908ee",
      "metadata": {
        "id": "300908ee"
      },
      "source": [
        "### Rotacion eje y"
      ]
    },
    {
      "cell_type": "code",
      "execution_count": null,
      "id": "3c9c6277",
      "metadata": {
        "colab": {
          "base_uri": "https://localhost:8080/",
          "height": 98
        },
        "id": "3c9c6277",
        "outputId": "c38fd9b0-7450-4e4c-d85b-cb9d2cfdea4e"
      },
      "outputs": [
        {
          "output_type": "execute_result",
          "data": {
            "text/plain": [
              "⎡cos(θ)   0  sin(θ)  0⎤\n",
              "⎢                     ⎥\n",
              "⎢   0     1    0     0⎥\n",
              "⎢                     ⎥\n",
              "⎢-sin(θ)  0  cos(θ)  0⎥\n",
              "⎢                     ⎥\n",
              "⎣   0     0    0     1⎦"
            ],
            "text/latex": "$\\displaystyle \\left[\\begin{matrix}\\cos{\\left(\\theta \\right)} & 0 & \\sin{\\left(\\theta \\right)} & 0\\\\0 & 1 & 0 & 0\\\\- \\sin{\\left(\\theta \\right)} & 0 & \\cos{\\left(\\theta \\right)} & 0\\\\0 & 0 & 0 & 1\\end{matrix}\\right]$"
          },
          "metadata": {},
          "execution_count": 272
        }
      ],
      "source": [
        "H_y = Matrix([[cos(theta), 0, sin(theta), 0], [0, 1, 0, 0], [-sin(theta), 0, cos(theta), 0], [0, 0, 0, 1]])\n",
        "H_y\n"
      ]
    },
    {
      "cell_type": "markdown",
      "id": "5ed24efc",
      "metadata": {
        "id": "5ed24efc"
      },
      "source": [
        "### Rotacion eje z"
      ]
    },
    {
      "cell_type": "code",
      "execution_count": null,
      "id": "46751e12",
      "metadata": {
        "colab": {
          "base_uri": "https://localhost:8080/",
          "height": 98
        },
        "id": "46751e12",
        "outputId": "082f9ad2-eed3-4665-b8fc-b0623baa3b25"
      },
      "outputs": [
        {
          "output_type": "execute_result",
          "data": {
            "text/plain": [
              "⎡cos(ψ)  -sin(ψ)  0  0⎤\n",
              "⎢                     ⎥\n",
              "⎢sin(ψ)  cos(ψ)   0  0⎥\n",
              "⎢                     ⎥\n",
              "⎢  0        0     1  0⎥\n",
              "⎢                     ⎥\n",
              "⎣  0        0     0  1⎦"
            ],
            "text/latex": "$\\displaystyle \\left[\\begin{matrix}\\cos{\\left(\\psi \\right)} & - \\sin{\\left(\\psi \\right)} & 0 & 0\\\\\\sin{\\left(\\psi \\right)} & \\cos{\\left(\\psi \\right)} & 0 & 0\\\\0 & 0 & 1 & 0\\\\0 & 0 & 0 & 1\\end{matrix}\\right]$"
          },
          "metadata": {},
          "execution_count": 273
        }
      ],
      "source": [
        "H_z = Matrix([[cos(psi), -sin(psi), 0, 0], [sin(psi), cos(psi), 0, 0], [0, 0, 1, 0], [0, 0, 0, 1]])\n",
        "H_z"
      ]
    },
    {
      "cell_type": "markdown",
      "id": "4280e6af",
      "metadata": {
        "id": "4280e6af"
      },
      "source": [
        "### Composicion de Matrices Homogeneas"
      ]
    },
    {
      "cell_type": "markdown",
      "id": "3c3fea59",
      "metadata": {
        "id": "3c3fea59"
      },
      "source": [
        "Probando la conmutatividad de las matrices homogeneas"
      ]
    },
    {
      "cell_type": "code",
      "execution_count": null,
      "id": "8cdcb123",
      "metadata": {
        "colab": {
          "base_uri": "https://localhost:8080/",
          "height": 98
        },
        "id": "8cdcb123",
        "outputId": "116628bd-61be-40f4-e617-baa3e96739fa"
      },
      "outputs": [
        {
          "output_type": "execute_result",
          "data": {
            "text/plain": [
              "⎡cos(ψ)⋅cos(θ)  sin(φ)⋅sin(θ)⋅cos(ψ) - sin(ψ)⋅cos(φ)  sin(φ)⋅sin(ψ) + sin(θ)⋅cos(φ)⋅cos(ψ)   0⎤\n",
              "⎢                                                                                             ⎥\n",
              "⎢sin(ψ)⋅cos(θ)  sin(φ)⋅sin(ψ)⋅sin(θ) + cos(φ)⋅cos(ψ)  -sin(φ)⋅cos(ψ) + sin(ψ)⋅sin(θ)⋅cos(φ)  0⎥\n",
              "⎢                                                                                             ⎥\n",
              "⎢   -sin(θ)                sin(φ)⋅cos(θ)                          cos(φ)⋅cos(θ)              0⎥\n",
              "⎢                                                                                             ⎥\n",
              "⎣      0                         0                                      0                    1⎦"
            ],
            "text/latex": "$\\displaystyle \\left[\\begin{matrix}\\cos{\\left(\\psi \\right)} \\cos{\\left(\\theta \\right)} & \\sin{\\left(\\phi \\right)} \\sin{\\left(\\theta \\right)} \\cos{\\left(\\psi \\right)} - \\sin{\\left(\\psi \\right)} \\cos{\\left(\\phi \\right)} & \\sin{\\left(\\phi \\right)} \\sin{\\left(\\psi \\right)} + \\sin{\\left(\\theta \\right)} \\cos{\\left(\\phi \\right)} \\cos{\\left(\\psi \\right)} & 0\\\\\\sin{\\left(\\psi \\right)} \\cos{\\left(\\theta \\right)} & \\sin{\\left(\\phi \\right)} \\sin{\\left(\\psi \\right)} \\sin{\\left(\\theta \\right)} + \\cos{\\left(\\phi \\right)} \\cos{\\left(\\psi \\right)} & - \\sin{\\left(\\phi \\right)} \\cos{\\left(\\psi \\right)} + \\sin{\\left(\\psi \\right)} \\sin{\\left(\\theta \\right)} \\cos{\\left(\\phi \\right)} & 0\\\\- \\sin{\\left(\\theta \\right)} & \\sin{\\left(\\phi \\right)} \\cos{\\left(\\theta \\right)} & \\cos{\\left(\\phi \\right)} \\cos{\\left(\\theta \\right)} & 0\\\\0 & 0 & 0 & 1\\end{matrix}\\right]$"
          },
          "metadata": {},
          "execution_count": 274
        }
      ],
      "source": [
        "H = H_z@H_y@H_x\n",
        "H"
      ]
    },
    {
      "cell_type": "code",
      "execution_count": null,
      "id": "663950aa",
      "metadata": {
        "colab": {
          "base_uri": "https://localhost:8080/",
          "height": 98
        },
        "id": "663950aa",
        "outputId": "4a51221a-71b1-446d-8016-9612ead67113"
      },
      "outputs": [
        {
          "output_type": "execute_result",
          "data": {
            "text/plain": [
              "⎡           cos(ψ)⋅cos(θ)                         -sin(ψ)⋅cos(θ)                  sin(θ)      0⎤\n",
              "⎢                                                                                              ⎥\n",
              "⎢sin(φ)⋅sin(θ)⋅cos(ψ) + sin(ψ)⋅cos(φ)  -sin(φ)⋅sin(ψ)⋅sin(θ) + cos(φ)⋅cos(ψ)  -sin(φ)⋅cos(θ)  0⎥\n",
              "⎢                                                                                              ⎥\n",
              "⎢sin(φ)⋅sin(ψ) - sin(θ)⋅cos(φ)⋅cos(ψ)  sin(φ)⋅cos(ψ) + sin(ψ)⋅sin(θ)⋅cos(φ)   cos(φ)⋅cos(θ)   0⎥\n",
              "⎢                                                                                              ⎥\n",
              "⎣                 0                                      0                          0         1⎦"
            ],
            "text/latex": "$\\displaystyle \\left[\\begin{matrix}\\cos{\\left(\\psi \\right)} \\cos{\\left(\\theta \\right)} & - \\sin{\\left(\\psi \\right)} \\cos{\\left(\\theta \\right)} & \\sin{\\left(\\theta \\right)} & 0\\\\\\sin{\\left(\\phi \\right)} \\sin{\\left(\\theta \\right)} \\cos{\\left(\\psi \\right)} + \\sin{\\left(\\psi \\right)} \\cos{\\left(\\phi \\right)} & - \\sin{\\left(\\phi \\right)} \\sin{\\left(\\psi \\right)} \\sin{\\left(\\theta \\right)} + \\cos{\\left(\\phi \\right)} \\cos{\\left(\\psi \\right)} & - \\sin{\\left(\\phi \\right)} \\cos{\\left(\\theta \\right)} & 0\\\\\\sin{\\left(\\phi \\right)} \\sin{\\left(\\psi \\right)} - \\sin{\\left(\\theta \\right)} \\cos{\\left(\\phi \\right)} \\cos{\\left(\\psi \\right)} & \\sin{\\left(\\phi \\right)} \\cos{\\left(\\psi \\right)} + \\sin{\\left(\\psi \\right)} \\sin{\\left(\\theta \\right)} \\cos{\\left(\\phi \\right)} & \\cos{\\left(\\phi \\right)} \\cos{\\left(\\theta \\right)} & 0\\\\0 & 0 & 0 & 1\\end{matrix}\\right]$"
          },
          "metadata": {},
          "execution_count": 275
        }
      ],
      "source": [
        "H = H_x@H_y@H_z\n",
        "H"
      ]
    },
    {
      "cell_type": "markdown",
      "id": "49b4f754",
      "metadata": {
        "id": "49b4f754"
      },
      "source": [
        "# **Experimento 1**\n",
        "#### Comprobar que una secuencia de rotaciones produce el mismo resultado que una composición de matrices homogeneas"
      ]
    },
    {
      "cell_type": "code",
      "execution_count": null,
      "id": "a6d54389",
      "metadata": {
        "id": "a6d54389"
      },
      "outputs": [],
      "source": [
        "P0 = np.array([1, 1, 0])"
      ]
    },
    {
      "cell_type": "markdown",
      "id": "001bc638",
      "metadata": {
        "id": "001bc638"
      },
      "source": [
        "1. Probando solo con matrices de rotación en 3D"
      ]
    },
    {
      "cell_type": "code",
      "execution_count": null,
      "id": "2fef220f",
      "metadata": {
        "colab": {
          "base_uri": "https://localhost:8080/",
          "height": 78
        },
        "id": "2fef220f",
        "outputId": "8ec4b729-bfef-4a09-bb3c-56758c236b2d"
      },
      "outputs": [
        {
          "output_type": "execute_result",
          "data": {
            "text/plain": [
              "⎡1    0        0   ⎤\n",
              "⎢                  ⎥\n",
              "⎢0  cos(θ)  -sin(θ)⎥\n",
              "⎢                  ⎥\n",
              "⎣0  sin(θ)  cos(θ) ⎦"
            ],
            "text/latex": "$\\displaystyle \\left[\\begin{matrix}1 & 0 & 0\\\\0 & \\cos{\\left(\\theta \\right)} & - \\sin{\\left(\\theta \\right)}\\\\0 & \\sin{\\left(\\theta \\right)} & \\cos{\\left(\\theta \\right)}\\end{matrix}\\right]$"
          },
          "metadata": {},
          "execution_count": 277
        }
      ],
      "source": [
        "#Matriz de rotacion 3D sobre el eje x\n",
        "R_x = Matrix([[1, 0, 0], [0, cos(theta), -sin(theta)], [0, sin(theta), cos(theta)]])\n",
        "R_x"
      ]
    },
    {
      "cell_type": "code",
      "execution_count": null,
      "id": "0b784156",
      "metadata": {
        "colab": {
          "base_uri": "https://localhost:8080/",
          "height": 78
        },
        "id": "0b784156",
        "outputId": "6603fa5a-4612-43c6-8a0b-a9b798b330b5"
      },
      "outputs": [
        {
          "output_type": "execute_result",
          "data": {
            "text/plain": [
              "⎡cos(θ)   0  sin(θ)⎤\n",
              "⎢                  ⎥\n",
              "⎢   0     1    0   ⎥\n",
              "⎢                  ⎥\n",
              "⎣-sin(θ)  0  cos(θ)⎦"
            ],
            "text/latex": "$\\displaystyle \\left[\\begin{matrix}\\cos{\\left(\\theta \\right)} & 0 & \\sin{\\left(\\theta \\right)}\\\\0 & 1 & 0\\\\- \\sin{\\left(\\theta \\right)} & 0 & \\cos{\\left(\\theta \\right)}\\end{matrix}\\right]$"
          },
          "metadata": {},
          "execution_count": 278
        }
      ],
      "source": [
        "#Matriz de rotacion 3D sobre el eje y\n",
        "R_y = Matrix([[cos(theta), 0, sin(theta)], [0, 1, 0], [-sin(theta), 0, cos(theta)]])\n",
        "R_y"
      ]
    },
    {
      "cell_type": "code",
      "execution_count": null,
      "id": "dd57ffb9",
      "metadata": {
        "colab": {
          "base_uri": "https://localhost:8080/"
        },
        "id": "dd57ffb9",
        "outputId": "46c5635e-68ce-444e-9d40-7f475b18811b"
      },
      "outputs": [
        {
          "output_type": "stream",
          "name": "stdout",
          "text": [
            "[ 1.0566704   0.93969262 -0.02062634]\n"
          ]
        }
      ],
      "source": [
        "theta_val = np.pi/9 # 20 grados en radianes\n",
        "R_x_p0 = np.array(R_x.subs({theta: theta_val})).astype(np.float64) #Se convierte theta simbolico a un valor concreto Rx\n",
        "R_y_p0 = np.array(R_y.subs({theta: theta_val})).astype(np.float64) #Se convierte theta simbolico a un valor concreto Ry\n",
        "\n",
        "P0_rotado_x = np.dot(R_x_p0, P0) #Producto punto entre la matrix de rotación y el vector de posición del punto\n",
        "P0_rotado_y = np.dot(R_y_p0, P0_rotado_x) #Producto punto entre la matrix de rotación y el vector de posición del punto\n",
        "\n",
        "print(P0_rotado_y)"
      ]
    },
    {
      "cell_type": "markdown",
      "id": "8ed1acdf",
      "metadata": {
        "id": "8ed1acdf"
      },
      "source": [
        "2. Ahora probamos con la composición de matrices homogeneas"
      ]
    },
    {
      "cell_type": "code",
      "execution_count": null,
      "id": "54f56d28",
      "metadata": {
        "colab": {
          "base_uri": "https://localhost:8080/"
        },
        "id": "54f56d28",
        "outputId": "8fd55133-96f1-40db-f430-60b2a42288cf"
      },
      "outputs": [
        {
          "output_type": "stream",
          "name": "stdout",
          "text": [
            "[1 1 0]\n",
            "[[1]\n",
            " [1]\n",
            " [0]\n",
            " [1]]\n"
          ]
        }
      ],
      "source": [
        "#Se convierte el punto 3D a un punto de coordenadas homogeneas\n",
        "\n",
        "P0_homogeneo = np.append(P0, 1)\n",
        "P0_homogeneo = np.reshape(P0_homogeneo, (4, 1))\n",
        "print(P0)\n",
        "print(P0_homogeneo)"
      ]
    },
    {
      "cell_type": "code",
      "execution_count": null,
      "id": "bf656be2",
      "metadata": {
        "colab": {
          "base_uri": "https://localhost:8080/",
          "height": 98
        },
        "id": "bf656be2",
        "outputId": "7501f28f-adfd-43b6-989f-ac41bcc34119"
      },
      "outputs": [
        {
          "output_type": "execute_result",
          "data": {
            "text/plain": [
              "⎡cos(θ)   sin(φ)⋅sin(θ)  sin(θ)⋅cos(φ)  0⎤\n",
              "⎢                                        ⎥\n",
              "⎢   0        cos(φ)         -sin(φ)     0⎥\n",
              "⎢                                        ⎥\n",
              "⎢-sin(θ)  sin(φ)⋅cos(θ)  cos(φ)⋅cos(θ)  0⎥\n",
              "⎢                                        ⎥\n",
              "⎣   0           0              0        1⎦"
            ],
            "text/latex": "$\\displaystyle \\left[\\begin{matrix}\\cos{\\left(\\theta \\right)} & \\sin{\\left(\\phi \\right)} \\sin{\\left(\\theta \\right)} & \\sin{\\left(\\theta \\right)} \\cos{\\left(\\phi \\right)} & 0\\\\0 & \\cos{\\left(\\phi \\right)} & - \\sin{\\left(\\phi \\right)} & 0\\\\- \\sin{\\left(\\theta \\right)} & \\sin{\\left(\\phi \\right)} \\cos{\\left(\\theta \\right)} & \\cos{\\left(\\phi \\right)} \\cos{\\left(\\theta \\right)} & 0\\\\0 & 0 & 0 & 1\\end{matrix}\\right]$"
          },
          "metadata": {},
          "execution_count": 281
        }
      ],
      "source": [
        "#Se realiza la composición de las matrices homogeneas para x y y\n",
        "Hxy = H_y@H_x\n",
        "Hxy"
      ]
    },
    {
      "cell_type": "code",
      "execution_count": null,
      "id": "a6a89f36",
      "metadata": {
        "colab": {
          "base_uri": "https://localhost:8080/"
        },
        "id": "a6a89f36",
        "outputId": "0aea2310-f6bf-422e-e588-6bb2910b2e79"
      },
      "outputs": [
        {
          "output_type": "execute_result",
          "data": {
            "text/plain": [
              "array([[ 0.93969262,  0.11697778,  0.3213938 ,  0.        ],\n",
              "       [ 0.        ,  0.93969262, -0.34202014,  0.        ],\n",
              "       [-0.34202014,  0.3213938 ,  0.88302222,  0.        ],\n",
              "       [ 0.        ,  0.        ,  0.        ,  1.        ]])"
            ]
          },
          "metadata": {},
          "execution_count": 282
        }
      ],
      "source": [
        "theta_val = np.pi/9 # 20 grados en radianes\n",
        "phi_val = np.pi/9 # 20 grados en radianes\n",
        "\n",
        "Hxy_p0 = np.array(Hxy.subs({phi: phi_val, theta: theta_val})).astype(np.float64) #Se convierte theta simbolico a un valor concreto Rx\n",
        "Hxy_p0"
      ]
    },
    {
      "cell_type": "code",
      "execution_count": null,
      "id": "dff1369b",
      "metadata": {
        "colab": {
          "base_uri": "https://localhost:8080/"
        },
        "id": "dff1369b",
        "outputId": "48f99c3a-f162-46b5-9275-ac866fed4344"
      },
      "outputs": [
        {
          "output_type": "execute_result",
          "data": {
            "text/plain": [
              "array([[ 1.0566704 ],\n",
              "       [ 0.93969262],\n",
              "       [-0.02062634],\n",
              "       [ 1.        ]])"
            ]
          },
          "metadata": {},
          "execution_count": 283
        }
      ],
      "source": [
        "P0_rotado_Hxy = np.dot(Hxy_p0, P0_homogeneo)\n",
        "P0_rotado_Hxy"
      ]
    },
    {
      "cell_type": "markdown",
      "id": "f03001f3",
      "metadata": {
        "id": "f03001f3"
      },
      "source": [
        "# **Actividad**\n",
        "\n",
        "* Calcule las siguientes matrices homogeneas"
      ]
    },
    {
      "cell_type": "code",
      "execution_count": null,
      "id": "b1097fd7",
      "metadata": {
        "colab": {
          "base_uri": "https://localhost:8080/",
          "height": 37,
          "resources": {
            "http://localhost:8080/1.png": {
              "data": "",
              "ok": false,
              "headers": [
                [
                  "content-length",
                  "0"
                ]
              ],
              "status": 404,
              "status_text": ""
            }
          }
        },
        "id": "b1097fd7",
        "outputId": "c5496107-6d66-4940-c50d-876ea5fed479"
      },
      "outputs": [
        {
          "output_type": "execute_result",
          "data": {
            "text/html": [
              "<img src=\"1.png\"/>"
            ],
            "text/plain": [
              "<IPython.core.display.Image object>"
            ]
          },
          "metadata": {},
          "execution_count": 284
        }
      ],
      "source": [
        "from IPython.display import Image\n",
        "\n",
        "Image(url='1.png')"
      ]
    },
    {
      "cell_type": "markdown",
      "id": "6bd60533",
      "metadata": {
        "id": "6bd60533"
      },
      "source": [
        "## Donde:"
      ]
    },
    {
      "cell_type": "code",
      "execution_count": null,
      "id": "683b1094",
      "metadata": {
        "colab": {
          "resources": {
            "http://localhost:8080/2.png": {
              "data": "",
              "ok": false,
              "headers": [
                [
                  "content-length",
                  "0"
                ]
              ],
              "status": 404,
              "status_text": ""
            }
          },
          "base_uri": "https://localhost:8080/",
          "height": 37
        },
        "id": "683b1094",
        "outputId": "7e76c1e5-bb37-41f4-8b12-5aec1c93205d"
      },
      "outputs": [
        {
          "output_type": "execute_result",
          "data": {
            "text/html": [
              "<img src=\"2.png\"/>"
            ],
            "text/plain": [
              "<IPython.core.display.Image object>"
            ]
          },
          "metadata": {},
          "execution_count": 285
        }
      ],
      "source": [
        "Image(url='2.png')"
      ]
    },
    {
      "cell_type": "markdown",
      "id": "419c1575",
      "metadata": {
        "id": "419c1575"
      },
      "source": [
        "# **Resultados aquí debajo**"
      ]
    },
    {
      "cell_type": "markdown",
      "id": "6267ac60",
      "metadata": {
        "id": "6267ac60"
      },
      "source": [
        "# Primer ejercicio"
      ]
    },
    {
      "cell_type": "code",
      "source": [
        "H = H_z@H_y@H_x\n",
        "theta_val = np.pi*56/180\n",
        "phi_val = np.pi*2/180\n",
        "psi_val = np.pi*53/180\n",
        "\n",
        "Hzyx = np.array(H.subs({phi: phi_val, theta: theta_val, psi: psi_val})).astype(np.float64) #Se convierte theta simbolico a un valor concreto Rx\n",
        "\n",
        "Hzyx\n"
      ],
      "metadata": {
        "colab": {
          "base_uri": "https://localhost:8080/"
        },
        "id": "aIeIqXasun6n",
        "outputId": "ac4bed4b-2915-4436-809e-a9d8f410aa9e"
      },
      "id": "aIeIqXasun6n",
      "execution_count": null,
      "outputs": [
        {
          "output_type": "execute_result",
          "data": {
            "text/plain": [
              "array([[ 0.33653069, -0.78073669,  0.52649531,  0.        ],\n",
              "       [ 0.44659131,  0.62455533,  0.64069247,  0.        ],\n",
              "       [-0.82903757,  0.01951555,  0.55885226,  0.        ],\n",
              "       [ 0.        ,  0.        ,  0.        ,  1.        ]])"
            ]
          },
          "metadata": {},
          "execution_count": 286
        }
      ]
    },
    {
      "cell_type": "code",
      "source": [
        "np.dot(Hzyx, P0_homogeneo)"
      ],
      "metadata": {
        "colab": {
          "base_uri": "https://localhost:8080/"
        },
        "id": "LWC3LOZqxPMg",
        "outputId": "7721dc02-1373-402a-9cd6-ca4a7ed158a2"
      },
      "id": "LWC3LOZqxPMg",
      "execution_count": null,
      "outputs": [
        {
          "output_type": "execute_result",
          "data": {
            "text/plain": [
              "array([[-0.444206  ],\n",
              "       [ 1.07114664],\n",
              "       [-0.80952202],\n",
              "       [ 1.        ]])"
            ]
          },
          "metadata": {},
          "execution_count": 287
        }
      ]
    },
    {
      "cell_type": "markdown",
      "source": [
        "# Segundo ejercicio"
      ],
      "metadata": {
        "id": "5p-wAHPuxlQJ"
      },
      "id": "5p-wAHPuxlQJ"
    },
    {
      "cell_type": "code",
      "source": [
        "\"\"\"\n",
        "Declaramos las variables que necesitamos (x,y,z)\n",
        "\"\"\"\n",
        "t_x = symbols(\"t_x\", real=True)\n",
        "t_y = symbols(\"t_y\", real=True)\n",
        "t_z = symbols(\"t_z\", real=True)\n"
      ],
      "metadata": {
        "id": "SqKGghlipzh5"
      },
      "id": "SqKGghlipzh5",
      "execution_count": null,
      "outputs": []
    },
    {
      "cell_type": "code",
      "source": [
        "\"\"\"\n",
        "Se definen las matrices homogeneas que necesitamos\n",
        "Matriz homogénea de rotación en el eje Y y traslación\n",
        "H(t1, (y, θ1))\n",
        "\"\"\"\n",
        "H_y1_t1 = Matrix([[cos(theta), 0, sin(theta), t_x*cos(theta) + t_z*sin(theta)], [0, 1, 0, t_y], [-sin(theta), 0, cos(theta), t_z*cos(theta) - t_x*sin(theta)], [0, 0, 0, 1]])\n",
        "H_y1_t1\n",
        "\n",
        "\"\"\"\n",
        "Valores de x, y, z\n",
        "Y theta en radianes\n",
        "\"\"\"\n",
        "\n",
        "t_x_val = 3\n",
        "t_y_val = 0\n",
        "t_z_val = 0\n",
        "theta_val = np.pi*6/180\n",
        "\n",
        "Hxyt = np.array(H_y1_t1.subs({ theta: theta_val, t_x: t_x_val, t_y: t_y_val, t_z: t_z_val})).astype(np.float64)\n",
        "Hxyt"
      ],
      "metadata": {
        "id": "iGV36Ujdp4Qk",
        "colab": {
          "base_uri": "https://localhost:8080/"
        },
        "outputId": "3509999f-192c-470c-b855-b33990a21174"
      },
      "id": "iGV36Ujdp4Qk",
      "execution_count": null,
      "outputs": [
        {
          "output_type": "execute_result",
          "data": {
            "text/plain": [
              "array([[ 0.9945219 ,  0.        ,  0.10452846,  2.98356569],\n",
              "       [ 0.        ,  1.        ,  0.        ,  0.        ],\n",
              "       [-0.10452846,  0.        ,  0.9945219 , -0.31358539],\n",
              "       [ 0.        ,  0.        ,  0.        ,  1.        ]])"
            ]
          },
          "metadata": {},
          "execution_count": 289
        }
      ]
    },
    {
      "cell_type": "code",
      "source": [
        "\"\"\"\n",
        "Matriz homogenea de rotacion en el eje X\n",
        "H(x, φ)\n",
        "\"\"\"\n",
        "H_x_phi = Matrix([[1, 0, 0, 0], [0, cos(phi), -sin(phi), 0], [0, sin(phi), cos(phi), 0], [0, 0, 0, 1]])\n",
        "H_x_phi\n",
        "\n",
        "\"\"\"\n",
        "Valor de Phi en radianes\n",
        "\"\"\"\n",
        "phi_val = np.pi*2/180\n",
        "\n",
        "Hxp = np.array(H_x_phi.subs({phi: phi_val})).astype(np.float64)\n",
        "Hxp"
      ],
      "metadata": {
        "colab": {
          "base_uri": "https://localhost:8080/"
        },
        "id": "j07V0YD-xTql",
        "outputId": "ba7acbf0-8dc3-4d77-e367-6b22e1a46d8a"
      },
      "id": "j07V0YD-xTql",
      "execution_count": null,
      "outputs": [
        {
          "output_type": "execute_result",
          "data": {
            "text/plain": [
              "array([[ 1.        ,  0.        ,  0.        ,  0.        ],\n",
              "       [ 0.        ,  0.99939083, -0.0348995 ,  0.        ],\n",
              "       [ 0.        ,  0.0348995 ,  0.99939083,  0.        ],\n",
              "       [ 0.        ,  0.        ,  0.        ,  1.        ]])"
            ]
          },
          "metadata": {},
          "execution_count": 290
        }
      ]
    },
    {
      "cell_type": "code",
      "source": [
        "\"\"\"\n",
        "Matriz homogénea de rotacion en el eje Y y traslación\n",
        "H(t2, (y, θ2))\n",
        "\"\"\"\n",
        "H_y2_t2 = Matrix([[cos(theta), 0, sin(theta), t_x*cos(theta) + t_z*sin(theta)], [0, 1, 0, t_y], [-sin(theta), 0, cos(theta), t_z*cos(theta) - t_x*sin(theta)], [0, 0, 0, 1]])\n",
        "H_y2_t2\n",
        "\n",
        "\"\"\"\n",
        "Valores de x, y, z\n",
        "Y theta en radianes\n",
        "\"\"\"\n",
        "t_x_val = 1\n",
        "t_y_val = 1\n",
        "t_z_val = 0\n",
        "theta_val = np.pi*-6/180\n",
        "\n",
        "Hxytz = np.array(H_y2_t2.subs({ theta: theta_val, t_x:t_x_val, t_y: t_y_val, t_z: t_z_val})).astype(np.float64)\n",
        "Hxytz"
      ],
      "metadata": {
        "colab": {
          "base_uri": "https://localhost:8080/"
        },
        "id": "ou3t6J7nyLvw",
        "outputId": "6e159cf7-5094-4d86-d29b-d3d03bfa3341"
      },
      "id": "ou3t6J7nyLvw",
      "execution_count": null,
      "outputs": [
        {
          "output_type": "execute_result",
          "data": {
            "text/plain": [
              "array([[ 0.9945219 ,  0.        , -0.10452846,  0.9945219 ],\n",
              "       [ 0.        ,  1.        ,  0.        ,  1.        ],\n",
              "       [ 0.10452846,  0.        ,  0.9945219 ,  0.10452846],\n",
              "       [ 0.        ,  0.        ,  0.        ,  1.        ]])"
            ]
          },
          "metadata": {},
          "execution_count": 291
        }
      ]
    },
    {
      "cell_type": "code",
      "source": [
        "\"\"\"\n",
        "Se multiplican las matrices (cuando multiplicamos las matrices homogéneas aplicamos transformaciones para dimensión 3D)\n",
        "\"\"\"\n",
        "H2 = Hxyt@Hxp@Hxytz\n",
        "H2\n"
      ],
      "metadata": {
        "id": "tbrsWN-jp7cA",
        "colab": {
          "base_uri": "https://localhost:8080/"
        },
        "outputId": "636dcb2d-ed68-490d-ef9b-a4fd7968b709"
      },
      "id": "tbrsWN-jp7cA",
      "execution_count": null,
      "outputs": [
        {
          "output_type": "execute_result",
          "data": {
            "text/plain": [
              "array([[ 9.99993344e-01,  3.64799076e-03, -6.33270922e-05,\n",
              "         3.98720702e+00],\n",
              "       [-3.64799076e-03,  9.99390827e-01, -3.47083136e-02,\n",
              "         9.95742836e-01],\n",
              "       [-6.33270922e-05,  3.47083136e-02,  9.99397483e-01,\n",
              "        -2.78940403e-01],\n",
              "       [ 0.00000000e+00,  0.00000000e+00,  0.00000000e+00,\n",
              "         1.00000000e+00]])"
            ]
          },
          "metadata": {},
          "execution_count": 292
        }
      ]
    },
    {
      "cell_type": "code",
      "source": [
        "np.dot(H2, P0_homogeneo)"
      ],
      "metadata": {
        "colab": {
          "base_uri": "https://localhost:8080/"
        },
        "id": "dzcTBDBinwjp",
        "outputId": "d39af249-4bb1-44b2-96e0-f3a901c507da"
      },
      "id": "dzcTBDBinwjp",
      "execution_count": null,
      "outputs": [
        {
          "output_type": "execute_result",
          "data": {
            "text/plain": [
              "array([[ 4.99084836],\n",
              "       [ 1.99148567],\n",
              "       [-0.24429542],\n",
              "       [ 1.        ]])"
            ]
          },
          "metadata": {},
          "execution_count": 293
        }
      ]
    },
    {
      "cell_type": "markdown",
      "source": [
        "# Tercer ejercicio"
      ],
      "metadata": {
        "id": "dRkqT4n80Iaa"
      },
      "id": "dRkqT4n80Iaa"
    },
    {
      "cell_type": "code",
      "source": [
        "\"\"\"\n",
        "Se definen las variables necesarias\n",
        "\"\"\"\n",
        "t_x = symbols(\"t_x\", real=True)\n",
        "t_y = symbols(\"t_y\", real=True)\n",
        "t_z = symbols(\"t_z\", real=True)"
      ],
      "metadata": {
        "id": "9mwaixCj2XKT"
      },
      "id": "9mwaixCj2XKT",
      "execution_count": null,
      "outputs": []
    },
    {
      "cell_type": "code",
      "source": [
        "\"\"\"\n",
        "Matriz homogénea de rotación en el eje Z y traslación\n",
        "H((z, Ψ), t1)\n",
        "\"\"\"\n",
        "H_z_psi_t1 = Matrix([[cos(psi), -sin(psi), 0, t_x], [sin(psi), cos(psi), 0, t_y], [0, 0, 1, t_z], [0, 0, 0, 1]])\n",
        "H_z_psi_t1\n",
        "\n",
        "\"\"\"\n",
        "Valores de x, y, z\n",
        "Y psi en radianes\n",
        "\"\"\"\n",
        "psi_val = np.pi * 53 / 180\n",
        "t_x_val = 3\n",
        "t_y_val = 0\n",
        "t_z_val = 0\n",
        "\n",
        "H_z_ps = np.array(H_z_psi_t1.subs({ psi: psi_val, t_x: t_x_val, t_y: t_y_val, t_z: t_z_val})).astype(np.float64)\n",
        "H_z_ps"
      ],
      "metadata": {
        "colab": {
          "base_uri": "https://localhost:8080/"
        },
        "id": "z-3H0Tqn2qMq",
        "outputId": "ccf8656b-4eeb-4e7a-8825-bf74a0f531c8"
      },
      "id": "z-3H0Tqn2qMq",
      "execution_count": null,
      "outputs": [
        {
          "output_type": "execute_result",
          "data": {
            "text/plain": [
              "array([[ 0.60181502, -0.79863551,  0.        ,  3.        ],\n",
              "       [ 0.79863551,  0.60181502,  0.        ,  0.        ],\n",
              "       [ 0.        ,  0.        ,  1.        ,  0.        ],\n",
              "       [ 0.        ,  0.        ,  0.        ,  1.        ]])"
            ]
          },
          "metadata": {},
          "execution_count": 356
        }
      ]
    },
    {
      "cell_type": "code",
      "source": [
        "\"\"\"\n",
        "Matriz homogénea de rotación en el eje Y\n",
        "H(y, θ)\n",
        "\"\"\"\n",
        "H_y_theta = Matrix([[cos(theta), 0, sin(theta), 0], [0, 1, 0, 0], [-sin(theta), 0, cos(theta), 0], [0, 0, 0, 1]])\n",
        "H_y_theta\n",
        "\n",
        "\"\"\"\n",
        "Valor de theta en radianes\n",
        "\"\"\"\n",
        "\n",
        "theta_val = np.pi * 56 / 180\n",
        "\n",
        "H_y_th = np.array(H_y_theta.subs({theta: theta_val})).astype(np.float64)\n",
        "H_y_th"
      ],
      "metadata": {
        "colab": {
          "base_uri": "https://localhost:8080/"
        },
        "id": "72V0qPSm2t_8",
        "outputId": "0b793889-8eb9-4058-f761-9a879679794c"
      },
      "id": "72V0qPSm2t_8",
      "execution_count": null,
      "outputs": [
        {
          "output_type": "execute_result",
          "data": {
            "text/plain": [
              "array([[ 0.5591929 ,  0.        ,  0.82903757,  0.        ],\n",
              "       [ 0.        ,  1.        ,  0.        ,  0.        ],\n",
              "       [-0.82903757,  0.        ,  0.5591929 ,  0.        ],\n",
              "       [ 0.        ,  0.        ,  0.        ,  1.        ]])"
            ]
          },
          "metadata": {},
          "execution_count": 357
        }
      ]
    },
    {
      "cell_type": "code",
      "source": [
        "\"\"\"\n",
        "Matriz homogénea de traslación\n",
        "H(t2)\n",
        "\"\"\"\n",
        "H_t2 = Matrix([[1, 0, 0, t_x], [0, 1, 0, t_y], [0, 0, 1, t_z], [0, 0, 0, 1]])\n",
        "H_t2\n",
        "\n",
        "\"\"\"\n",
        "Valores en x, y, z\n",
        "\"\"\"\n",
        "t_x_val = 1\n",
        "t_y_val = 1\n",
        "t_z_val = 0\n",
        "\n",
        "H_t = np.array(H_t2.subs({t_x: t_x_val, t_y: t_y_val, t_z: t_z_val})).astype(np.float64)\n",
        "H_t"
      ],
      "metadata": {
        "colab": {
          "base_uri": "https://localhost:8080/"
        },
        "id": "ccHXYWOE2zax",
        "outputId": "cf93c608-c7f9-436d-c18a-5817a124fe89"
      },
      "id": "ccHXYWOE2zax",
      "execution_count": null,
      "outputs": [
        {
          "output_type": "execute_result",
          "data": {
            "text/plain": [
              "array([[1., 0., 0., 1.],\n",
              "       [0., 1., 0., 1.],\n",
              "       [0., 0., 1., 0.],\n",
              "       [0., 0., 0., 1.]])"
            ]
          },
          "metadata": {},
          "execution_count": 358
        }
      ]
    },
    {
      "cell_type": "code",
      "source": [
        "\"\"\"\n",
        "Matriz homogénea de rotación en el eje Z\n",
        "H(z, Ψ)\n",
        "\"\"\"\n",
        "H_z_psi = Matrix([[cos(psi), -sin(psi), 0, 0], [sin(psi), cos(psi), 0, 0], [0, 0, 1, 0], [0, 0, 0, 1]])\n",
        "H_z_psi\n",
        "\n",
        "\"\"\"\n",
        "Valor de Psi en radianes\n",
        "\"\"\"\n",
        "psi_val = np.pi * 53 / 180\n",
        "\n",
        "H_z_p = np.array(H_z_psi.subs({psi: psi_val})).astype(np.float64)\n",
        "H_z_p"
      ],
      "metadata": {
        "id": "MqvfqRal0Gy-",
        "colab": {
          "base_uri": "https://localhost:8080/"
        },
        "outputId": "79ac0c05-d03d-47ab-b794-67a2885a136d"
      },
      "id": "MqvfqRal0Gy-",
      "execution_count": null,
      "outputs": [
        {
          "output_type": "execute_result",
          "data": {
            "text/plain": [
              "array([[ 0.60181502, -0.79863551,  0.        ,  0.        ],\n",
              "       [ 0.79863551,  0.60181502,  0.        ,  0.        ],\n",
              "       [ 0.        ,  0.        ,  1.        ,  0.        ],\n",
              "       [ 0.        ,  0.        ,  0.        ,  1.        ]])"
            ]
          },
          "metadata": {},
          "execution_count": 359
        }
      ]
    },
    {
      "cell_type": "code",
      "source": [
        "\"\"\"\n",
        "Se multiplican las matrices\n",
        "\"\"\"\n",
        "H3 = H_z_ps@H_y_th@H_t@H_z_p\n",
        "H3"
      ],
      "metadata": {
        "id": "L_YjtmJK4uBK",
        "colab": {
          "base_uri": "https://localhost:8080/"
        },
        "outputId": "db35debb-1ffd-4831-f4d9-4478bf0c9a08"
      },
      "id": "L_YjtmJK4uBK",
      "execution_count": null,
      "outputs": [
        {
          "output_type": "execute_result",
          "data": {
            "text/plain": [
              "array([[-0.43528945, -0.74939621,  0.49892727,  2.53789518],\n",
              "       [ 0.74939621,  0.00551764,  0.66209884,  1.04840633],\n",
              "       [-0.49892727,  0.66209884,  0.5591929 , -0.82903757],\n",
              "       [ 0.        ,  0.        ,  0.        ,  1.        ]])"
            ]
          },
          "metadata": {},
          "execution_count": 360
        }
      ]
    },
    {
      "cell_type": "code",
      "source": [
        "np.dot(H3, P0_homogeneo)"
      ],
      "metadata": {
        "id": "CU23K3CJCyO0",
        "colab": {
          "base_uri": "https://localhost:8080/"
        },
        "outputId": "4495160c-0ac9-4175-8efc-bcbda99c21a7"
      },
      "id": "CU23K3CJCyO0",
      "execution_count": null,
      "outputs": [
        {
          "output_type": "execute_result",
          "data": {
            "text/plain": [
              "array([[ 1.35320952],\n",
              "       [ 1.80332018],\n",
              "       [-0.66586599],\n",
              "       [ 1.        ]])"
            ]
          },
          "metadata": {},
          "execution_count": 361
        }
      ]
    },
    {
      "cell_type": "markdown",
      "source": [
        "# Cuarto ejercicio"
      ],
      "metadata": {
        "id": "Hpt9QaWM7G1D"
      },
      "id": "Hpt9QaWM7G1D"
    },
    {
      "cell_type": "code",
      "source": [
        "\"\"\"\n",
        "Variables para calcular la matriz homogenea\n",
        "\"\"\"\n",
        "t_x = symbols(\"t_x\", real=True)\n",
        "t_y = symbols(\"t_y\", real=True)\n",
        "t_z = symbols(\"t_z\", real=True)"
      ],
      "metadata": {
        "id": "Pm6qjsTX96Xj"
      },
      "id": "Pm6qjsTX96Xj",
      "execution_count": null,
      "outputs": []
    },
    {
      "cell_type": "code",
      "source": [
        "\"\"\"\n",
        "Matriz homogénea de rotación en el eje Y\n",
        "H(y, 0)\n",
        "\"\"\"\n",
        "H_y_the = Matrix([[cos(theta), 0, sin(theta), 0], [0, 1, 0, 0], [-sin(theta), 0, cos(theta), 0], [0, 0, 0, 1]])\n",
        "H_y_the\n",
        "\n",
        "\"\"\"\n",
        "Valor de theta en radianes\n",
        "\"\"\"\n",
        "theta_val = np.pi*56/180\n",
        "\n",
        "H_y_th = np.array(H_y_the.subs({theta: theta_val})).astype(np.float64)\n",
        "H_y_th"
      ],
      "metadata": {
        "id": "GpAqc2ES7Lfw",
        "colab": {
          "base_uri": "https://localhost:8080/"
        },
        "outputId": "10efcbf8-beb4-4c10-c38a-29be0e426c57"
      },
      "id": "GpAqc2ES7Lfw",
      "execution_count": null,
      "outputs": [
        {
          "output_type": "execute_result",
          "data": {
            "text/plain": [
              "array([[ 0.5591929 ,  0.        ,  0.82903757,  0.        ],\n",
              "       [ 0.        ,  1.        ,  0.        ,  0.        ],\n",
              "       [-0.82903757,  0.        ,  0.5591929 ,  0.        ],\n",
              "       [ 0.        ,  0.        ,  0.        ,  1.        ]])"
            ]
          },
          "metadata": {},
          "execution_count": 362
        }
      ]
    },
    {
      "cell_type": "code",
      "source": [
        "\"\"\"\n",
        "Matriz homogénea de rotación en el eje Z y traslación\n",
        "H((z, Ψ1), t1)\n",
        "\"\"\"\n",
        "H_zpsi1_t1 = Matrix([[cos(psi), -sin(psi), 0, t_x], [sin(psi), cos(psi), 0, t_y], [0, 0, 1, t_z], [0, 0, 0, 1]])\n",
        "H_zpsi1_t1\n",
        "\n",
        "\"\"\"\n",
        "Valores de x, y, z\n",
        "Y psi en radianes\n",
        "\"\"\"\n",
        "\n",
        "psi_val = np.pi*11/180\n",
        "t_x_val = 3\n",
        "t_y_val = 0\n",
        "t_z_val = 0\n",
        "\n",
        "H_zp = np.array(H_zpsi1_t1.subs({ psi: psi_val, t_x: t_x_val, t_y: t_y_val, t_z: t_z_val})).astype(np.float64)\n",
        "H_zp"
      ],
      "metadata": {
        "colab": {
          "base_uri": "https://localhost:8080/"
        },
        "id": "VMOtGUFs_LxD",
        "outputId": "54e6168f-d48b-4916-cbf0-7f3808e3b8eb"
      },
      "id": "VMOtGUFs_LxD",
      "execution_count": null,
      "outputs": [
        {
          "output_type": "execute_result",
          "data": {
            "text/plain": [
              "array([[ 0.98162718, -0.190809  ,  0.        ,  3.        ],\n",
              "       [ 0.190809  ,  0.98162718,  0.        ,  0.        ],\n",
              "       [ 0.        ,  0.        ,  1.        ,  0.        ],\n",
              "       [ 0.        ,  0.        ,  0.        ,  1.        ]])"
            ]
          },
          "metadata": {},
          "execution_count": 369
        }
      ]
    },
    {
      "cell_type": "code",
      "source": [
        "\"\"\"\n",
        "Matriz homogenea de rotación en el eje Z\n",
        "H(z, Ψ2)\n",
        "\"\"\"\n",
        "H_zpsi2 = Matrix([[cos(psi), -sin(psi), 0, 0], [sin(psi), cos(psi), 0, 0], [0, 0, 1, 0], [0, 0, 0, 1]])\n",
        "H_zpsi2\n",
        "\n",
        "psi_val = np.pi*-3/180\n",
        "\n",
        "Hz_p = np.array(H_zpsi2.subs({psi: psi_val})).astype(np.float64)\n",
        "Hz_p"
      ],
      "metadata": {
        "colab": {
          "base_uri": "https://localhost:8080/"
        },
        "id": "_0iJgMvKBc7D",
        "outputId": "0c9aa49b-bf44-432c-d467-3f421ab0dbdc"
      },
      "id": "_0iJgMvKBc7D",
      "execution_count": null,
      "outputs": [
        {
          "output_type": "execute_result",
          "data": {
            "text/plain": [
              "array([[ 0.99862953,  0.05233596,  0.        ,  0.        ],\n",
              "       [-0.05233596,  0.99862953,  0.        ,  0.        ],\n",
              "       [ 0.        ,  0.        ,  1.        ,  0.        ],\n",
              "       [ 0.        ,  0.        ,  0.        ,  1.        ]])"
            ]
          },
          "metadata": {},
          "execution_count": 376
        }
      ]
    },
    {
      "cell_type": "code",
      "source": [
        "\"\"\"\n",
        "Matriz homogénea de rotación en el eje X\n",
        "H((x, φ)\n",
        "\"\"\"\n",
        "\n",
        "H_x_phi = Matrix([[1, 0, 0, 0], [0, cos(phi), -sin(phi), 0], [0, sin(phi), cos(phi), 0], [0, 0, 0, 1]])\n",
        "H_x_phi\n",
        "\n",
        "\"\"\"\n",
        "Valor de Phi en radianes\n",
        "\"\"\"\n",
        "\n",
        "phi_val = np.pi*2/180\n",
        "\n",
        "H_xp = np.array(H_x_phi.subs({phi: phi_val})).astype(np.float64)\n",
        "H_xp"
      ],
      "metadata": {
        "colab": {
          "base_uri": "https://localhost:8080/"
        },
        "id": "luV3Lzd6CRrX",
        "outputId": "d43f06e5-cc4b-40ad-a3c7-53eb0d66dee3"
      },
      "id": "luV3Lzd6CRrX",
      "execution_count": null,
      "outputs": [
        {
          "output_type": "execute_result",
          "data": {
            "text/plain": [
              "array([[ 1.        ,  0.        ,  0.        ,  0.        ],\n",
              "       [ 0.        ,  0.99939083, -0.0348995 ,  0.        ],\n",
              "       [ 0.        ,  0.0348995 ,  0.99939083,  0.        ],\n",
              "       [ 0.        ,  0.        ,  0.        ,  1.        ]])"
            ]
          },
          "metadata": {},
          "execution_count": 377
        }
      ]
    },
    {
      "cell_type": "code",
      "source": [
        "\"\"\"\n",
        "Matriz homogénea de rotación en el eje Z\n",
        "H(z, Ψ3)\n",
        "\"\"\"\n",
        "H_z_psi3 = Matrix([[cos(psi), -sin(psi), 0, 0], [sin(psi), cos(psi), 0, 0], [0, 0, 1, 0], [0, 0, 0, 1]])\n",
        "H_z_psi3\n",
        "\n",
        "\"\"\"\n",
        "Valor de Psi en radianes\n",
        "\"\"\"\n",
        "psi_val = np.pi*278/180\n",
        "\n",
        "H_z_p = np.array(H_z_psi3.subs({psi: psi_val})).astype(np.float64)\n",
        "H_z_p"
      ],
      "metadata": {
        "colab": {
          "base_uri": "https://localhost:8080/"
        },
        "id": "mogDEQ6gCvW_",
        "outputId": "d4f50e19-5ff0-45c2-9c31-b5eff5b063a3"
      },
      "id": "mogDEQ6gCvW_",
      "execution_count": null,
      "outputs": [
        {
          "output_type": "execute_result",
          "data": {
            "text/plain": [
              "array([[ 0.1391731 ,  0.99026807,  0.        ,  0.        ],\n",
              "       [-0.99026807,  0.1391731 ,  0.        ,  0.        ],\n",
              "       [ 0.        ,  0.        ,  1.        ,  0.        ],\n",
              "       [ 0.        ,  0.        ,  0.        ,  1.        ]])"
            ]
          },
          "metadata": {},
          "execution_count": 378
        }
      ]
    },
    {
      "cell_type": "code",
      "source": [
        "\"\"\"\n",
        "Se multiplica las matrices\n",
        "\"\"\"\n",
        "H4 = H_y_th @ H_zp @ Hz_p @ H_xp @ H_z_p\n",
        "H4\n"
      ],
      "metadata": {
        "id": "86uk60HvEobo",
        "colab": {
          "base_uri": "https://localhost:8080/"
        },
        "outputId": "09c308b4-8da9-42ae-94e9-979320cf3002"
      },
      "id": "86uk60HvEobo",
      "execution_count": null,
      "outputs": [
        {
          "output_type": "execute_result",
          "data": {
            "text/plain": [
              "array([[ 0.12543609,  0.54156401,  0.83124859,  1.67757871],\n",
              "       [-0.96066432,  0.2755534 , -0.03455986,  0.        ],\n",
              "       [-0.24776975, -0.79421581,  0.55482556, -2.48711272],\n",
              "       [ 0.        ,  0.        ,  0.        ,  1.        ]])"
            ]
          },
          "metadata": {},
          "execution_count": 380
        }
      ]
    },
    {
      "cell_type": "code",
      "source": [
        "np.dot(H4, P0_homogeneo)"
      ],
      "metadata": {
        "colab": {
          "base_uri": "https://localhost:8080/"
        },
        "id": "kZT35WD-ET6J",
        "outputId": "b9441892-9627-47a3-b4f1-c826013dc35c"
      },
      "id": "kZT35WD-ET6J",
      "execution_count": null,
      "outputs": [
        {
          "output_type": "execute_result",
          "data": {
            "text/plain": [
              "array([[ 2.34457881],\n",
              "       [-0.68511092],\n",
              "       [-3.52909827],\n",
              "       [ 1.        ]])"
            ]
          },
          "metadata": {},
          "execution_count": 382
        }
      ]
    }
  ],
  "metadata": {
    "kernelspec": {
      "display_name": "Python 3 (ipykernel)",
      "language": "python",
      "name": "python3"
    },
    "language_info": {
      "codemirror_mode": {
        "name": "ipython",
        "version": 3
      },
      "file_extension": ".py",
      "mimetype": "text/x-python",
      "name": "python",
      "nbconvert_exporter": "python",
      "pygments_lexer": "ipython3",
      "version": "3.10.12"
    },
    "colab": {
      "provenance": []
    }
  },
  "nbformat": 4,
  "nbformat_minor": 5
}