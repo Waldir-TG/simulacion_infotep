{
  "cells": [
    {
      "cell_type": "markdown",
      "id": "a7e43564",
      "metadata": {
        "id": "a7e43564"
      },
      "source": [
        "# **Matrices Homogeneas en un espacio tridimensional**"
      ]
    },
    {
      "cell_type": "markdown",
      "id": "30407b78",
      "metadata": {
        "id": "30407b78"
      },
      "source": [
        "**Docente:** PhD Jorge Rudas\n",
        "\n",
        "**Diseño de prototipos - 2025 I**\n",
        "\n",
        "**INFOTEP**"
      ]
    },
    {
      "cell_type": "code",
      "execution_count": 98,
      "id": "558fe4b4",
      "metadata": {
        "id": "558fe4b4"
      },
      "outputs": [],
      "source": [
        "import numpy as np\n",
        "from sympy import*\n",
        "init_printing()"
      ]
    },
    {
      "cell_type": "markdown",
      "id": "7bb73297",
      "metadata": {
        "id": "7bb73297"
      },
      "source": [
        "### Declaración de variables simbolicas"
      ]
    },
    {
      "cell_type": "code",
      "execution_count": 99,
      "id": "1e352206",
      "metadata": {
        "id": "1e352206"
      },
      "outputs": [],
      "source": [
        "## Variables Simbolicas\n",
        "theta = symbols(\"theta\",  real=True)\n",
        "phi = symbols(\"phi\",  real=True)\n",
        "psi = symbols(\"psi\",  real=True)"
      ]
    },
    {
      "cell_type": "markdown",
      "id": "f95c974c",
      "metadata": {
        "id": "f95c974c"
      },
      "source": [
        "### Rotacion eje x"
      ]
    },
    {
      "cell_type": "code",
      "execution_count": 100,
      "id": "ff5b4884",
      "metadata": {
        "colab": {
          "base_uri": "https://localhost:8080/",
          "height": 98
        },
        "id": "ff5b4884",
        "outputId": "669d2394-39b7-49ab-d33f-ef225f9d05ce"
      },
      "outputs": [
        {
          "output_type": "execute_result",
          "data": {
            "text/plain": [
              "⎡1    0        0     0⎤\n",
              "⎢                     ⎥\n",
              "⎢0  cos(φ)  -sin(φ)  0⎥\n",
              "⎢                     ⎥\n",
              "⎢0  sin(φ)  cos(φ)   0⎥\n",
              "⎢                     ⎥\n",
              "⎣0    0        0     1⎦"
            ],
            "text/latex": "$\\displaystyle \\left[\\begin{matrix}1 & 0 & 0 & 0\\\\0 & \\cos{\\left(\\phi \\right)} & - \\sin{\\left(\\phi \\right)} & 0\\\\0 & \\sin{\\left(\\phi \\right)} & \\cos{\\left(\\phi \\right)} & 0\\\\0 & 0 & 0 & 1\\end{matrix}\\right]$"
          },
          "metadata": {},
          "execution_count": 100
        }
      ],
      "source": [
        "H_x = Matrix([[1, 0, 0, 0], [0, cos(phi), -sin(phi), 0], [0, sin(phi), cos(phi), 0], [0, 0, 0, 1]])\n",
        "H_x"
      ]
    },
    {
      "cell_type": "markdown",
      "id": "300908ee",
      "metadata": {
        "id": "300908ee"
      },
      "source": [
        "### Rotacion eje y"
      ]
    },
    {
      "cell_type": "code",
      "execution_count": 101,
      "id": "3c9c6277",
      "metadata": {
        "colab": {
          "base_uri": "https://localhost:8080/",
          "height": 98
        },
        "id": "3c9c6277",
        "outputId": "780c4f35-fca0-4a6b-e61f-7a6f453e5fc3"
      },
      "outputs": [
        {
          "output_type": "execute_result",
          "data": {
            "text/plain": [
              "⎡cos(θ)   0  sin(θ)  0⎤\n",
              "⎢                     ⎥\n",
              "⎢   0     1    0     0⎥\n",
              "⎢                     ⎥\n",
              "⎢-sin(θ)  0  cos(θ)  0⎥\n",
              "⎢                     ⎥\n",
              "⎣   0     0    0     1⎦"
            ],
            "text/latex": "$\\displaystyle \\left[\\begin{matrix}\\cos{\\left(\\theta \\right)} & 0 & \\sin{\\left(\\theta \\right)} & 0\\\\0 & 1 & 0 & 0\\\\- \\sin{\\left(\\theta \\right)} & 0 & \\cos{\\left(\\theta \\right)} & 0\\\\0 & 0 & 0 & 1\\end{matrix}\\right]$"
          },
          "metadata": {},
          "execution_count": 101
        }
      ],
      "source": [
        "H_y = Matrix([[cos(theta), 0, sin(theta), 0], [0, 1, 0, 0], [-sin(theta), 0, cos(theta), 0], [0, 0, 0, 1]])\n",
        "H_y\n"
      ]
    },
    {
      "cell_type": "markdown",
      "id": "5ed24efc",
      "metadata": {
        "id": "5ed24efc"
      },
      "source": [
        "### Rotacion eje z"
      ]
    },
    {
      "cell_type": "code",
      "execution_count": 102,
      "id": "46751e12",
      "metadata": {
        "colab": {
          "base_uri": "https://localhost:8080/",
          "height": 98
        },
        "id": "46751e12",
        "outputId": "68d0d239-e25e-426e-847e-116535724b1a"
      },
      "outputs": [
        {
          "output_type": "execute_result",
          "data": {
            "text/plain": [
              "⎡cos(ψ)  -sin(ψ)  0  0⎤\n",
              "⎢                     ⎥\n",
              "⎢sin(ψ)  cos(ψ)   0  0⎥\n",
              "⎢                     ⎥\n",
              "⎢  0        0     1  0⎥\n",
              "⎢                     ⎥\n",
              "⎣  0        0     0  1⎦"
            ],
            "text/latex": "$\\displaystyle \\left[\\begin{matrix}\\cos{\\left(\\psi \\right)} & - \\sin{\\left(\\psi \\right)} & 0 & 0\\\\\\sin{\\left(\\psi \\right)} & \\cos{\\left(\\psi \\right)} & 0 & 0\\\\0 & 0 & 1 & 0\\\\0 & 0 & 0 & 1\\end{matrix}\\right]$"
          },
          "metadata": {},
          "execution_count": 102
        }
      ],
      "source": [
        "H_z = Matrix([[cos(psi), -sin(psi), 0, 0], [sin(psi), cos(psi), 0, 0], [0, 0, 1, 0], [0, 0, 0, 1]])\n",
        "H_z"
      ]
    },
    {
      "cell_type": "markdown",
      "id": "4280e6af",
      "metadata": {
        "id": "4280e6af"
      },
      "source": [
        "### Composicion de Matrices Homogeneas"
      ]
    },
    {
      "cell_type": "markdown",
      "id": "3c3fea59",
      "metadata": {
        "id": "3c3fea59"
      },
      "source": [
        "Probando la conmutatividad de las matrices homogeneas"
      ]
    },
    {
      "cell_type": "code",
      "execution_count": 103,
      "id": "8cdcb123",
      "metadata": {
        "colab": {
          "base_uri": "https://localhost:8080/",
          "height": 98
        },
        "id": "8cdcb123",
        "outputId": "3b0b2946-59a2-484b-fa27-d810f91e841a"
      },
      "outputs": [
        {
          "output_type": "execute_result",
          "data": {
            "text/plain": [
              "⎡cos(ψ)⋅cos(θ)  sin(φ)⋅sin(θ)⋅cos(ψ) - sin(ψ)⋅cos(φ)  sin(φ)⋅sin(ψ) + sin(θ)⋅cos(φ)⋅cos(ψ)   0⎤\n",
              "⎢                                                                                             ⎥\n",
              "⎢sin(ψ)⋅cos(θ)  sin(φ)⋅sin(ψ)⋅sin(θ) + cos(φ)⋅cos(ψ)  -sin(φ)⋅cos(ψ) + sin(ψ)⋅sin(θ)⋅cos(φ)  0⎥\n",
              "⎢                                                                                             ⎥\n",
              "⎢   -sin(θ)                sin(φ)⋅cos(θ)                          cos(φ)⋅cos(θ)              0⎥\n",
              "⎢                                                                                             ⎥\n",
              "⎣      0                         0                                      0                    1⎦"
            ],
            "text/latex": "$\\displaystyle \\left[\\begin{matrix}\\cos{\\left(\\psi \\right)} \\cos{\\left(\\theta \\right)} & \\sin{\\left(\\phi \\right)} \\sin{\\left(\\theta \\right)} \\cos{\\left(\\psi \\right)} - \\sin{\\left(\\psi \\right)} \\cos{\\left(\\phi \\right)} & \\sin{\\left(\\phi \\right)} \\sin{\\left(\\psi \\right)} + \\sin{\\left(\\theta \\right)} \\cos{\\left(\\phi \\right)} \\cos{\\left(\\psi \\right)} & 0\\\\\\sin{\\left(\\psi \\right)} \\cos{\\left(\\theta \\right)} & \\sin{\\left(\\phi \\right)} \\sin{\\left(\\psi \\right)} \\sin{\\left(\\theta \\right)} + \\cos{\\left(\\phi \\right)} \\cos{\\left(\\psi \\right)} & - \\sin{\\left(\\phi \\right)} \\cos{\\left(\\psi \\right)} + \\sin{\\left(\\psi \\right)} \\sin{\\left(\\theta \\right)} \\cos{\\left(\\phi \\right)} & 0\\\\- \\sin{\\left(\\theta \\right)} & \\sin{\\left(\\phi \\right)} \\cos{\\left(\\theta \\right)} & \\cos{\\left(\\phi \\right)} \\cos{\\left(\\theta \\right)} & 0\\\\0 & 0 & 0 & 1\\end{matrix}\\right]$"
          },
          "metadata": {},
          "execution_count": 103
        }
      ],
      "source": [
        "H = H_z@H_y@H_x\n",
        "H"
      ]
    },
    {
      "cell_type": "code",
      "execution_count": 104,
      "id": "663950aa",
      "metadata": {
        "colab": {
          "base_uri": "https://localhost:8080/",
          "height": 98
        },
        "id": "663950aa",
        "outputId": "6c88e025-8635-41c5-a9e9-6182f9011f4c"
      },
      "outputs": [
        {
          "output_type": "execute_result",
          "data": {
            "text/plain": [
              "⎡           cos(ψ)⋅cos(θ)                         -sin(ψ)⋅cos(θ)                  sin(θ)      0⎤\n",
              "⎢                                                                                              ⎥\n",
              "⎢sin(φ)⋅sin(θ)⋅cos(ψ) + sin(ψ)⋅cos(φ)  -sin(φ)⋅sin(ψ)⋅sin(θ) + cos(φ)⋅cos(ψ)  -sin(φ)⋅cos(θ)  0⎥\n",
              "⎢                                                                                              ⎥\n",
              "⎢sin(φ)⋅sin(ψ) - sin(θ)⋅cos(φ)⋅cos(ψ)  sin(φ)⋅cos(ψ) + sin(ψ)⋅sin(θ)⋅cos(φ)   cos(φ)⋅cos(θ)   0⎥\n",
              "⎢                                                                                              ⎥\n",
              "⎣                 0                                      0                          0         1⎦"
            ],
            "text/latex": "$\\displaystyle \\left[\\begin{matrix}\\cos{\\left(\\psi \\right)} \\cos{\\left(\\theta \\right)} & - \\sin{\\left(\\psi \\right)} \\cos{\\left(\\theta \\right)} & \\sin{\\left(\\theta \\right)} & 0\\\\\\sin{\\left(\\phi \\right)} \\sin{\\left(\\theta \\right)} \\cos{\\left(\\psi \\right)} + \\sin{\\left(\\psi \\right)} \\cos{\\left(\\phi \\right)} & - \\sin{\\left(\\phi \\right)} \\sin{\\left(\\psi \\right)} \\sin{\\left(\\theta \\right)} + \\cos{\\left(\\phi \\right)} \\cos{\\left(\\psi \\right)} & - \\sin{\\left(\\phi \\right)} \\cos{\\left(\\theta \\right)} & 0\\\\\\sin{\\left(\\phi \\right)} \\sin{\\left(\\psi \\right)} - \\sin{\\left(\\theta \\right)} \\cos{\\left(\\phi \\right)} \\cos{\\left(\\psi \\right)} & \\sin{\\left(\\phi \\right)} \\cos{\\left(\\psi \\right)} + \\sin{\\left(\\psi \\right)} \\sin{\\left(\\theta \\right)} \\cos{\\left(\\phi \\right)} & \\cos{\\left(\\phi \\right)} \\cos{\\left(\\theta \\right)} & 0\\\\0 & 0 & 0 & 1\\end{matrix}\\right]$"
          },
          "metadata": {},
          "execution_count": 104
        }
      ],
      "source": [
        "H = H_x@H_y@H_z\n",
        "H"
      ]
    },
    {
      "cell_type": "markdown",
      "id": "49b4f754",
      "metadata": {
        "id": "49b4f754"
      },
      "source": [
        "# **Experimento 1**\n",
        "#### Comprobar que una secuencia de rotaciones produce el mismo resultado que una composición de matrices homogeneas"
      ]
    },
    {
      "cell_type": "code",
      "execution_count": 105,
      "id": "a6d54389",
      "metadata": {
        "id": "a6d54389"
      },
      "outputs": [],
      "source": [
        "P0 = np.array([1, 1, 0])"
      ]
    },
    {
      "cell_type": "markdown",
      "id": "001bc638",
      "metadata": {
        "id": "001bc638"
      },
      "source": [
        "1. Probando solo con matrices de rotación en 3D"
      ]
    },
    {
      "cell_type": "code",
      "execution_count": 106,
      "id": "2fef220f",
      "metadata": {
        "colab": {
          "base_uri": "https://localhost:8080/",
          "height": 78
        },
        "id": "2fef220f",
        "outputId": "553a1921-ac56-4b82-9dc9-682cd315575a"
      },
      "outputs": [
        {
          "output_type": "execute_result",
          "data": {
            "text/plain": [
              "⎡1    0        0   ⎤\n",
              "⎢                  ⎥\n",
              "⎢0  cos(θ)  -sin(θ)⎥\n",
              "⎢                  ⎥\n",
              "⎣0  sin(θ)  cos(θ) ⎦"
            ],
            "text/latex": "$\\displaystyle \\left[\\begin{matrix}1 & 0 & 0\\\\0 & \\cos{\\left(\\theta \\right)} & - \\sin{\\left(\\theta \\right)}\\\\0 & \\sin{\\left(\\theta \\right)} & \\cos{\\left(\\theta \\right)}\\end{matrix}\\right]$"
          },
          "metadata": {},
          "execution_count": 106
        }
      ],
      "source": [
        "#Matriz de rotacion 3D sobre el eje x\n",
        "R_x = Matrix([[1, 0, 0], [0, cos(theta), -sin(theta)], [0, sin(theta), cos(theta)]])\n",
        "R_x"
      ]
    },
    {
      "cell_type": "code",
      "execution_count": 107,
      "id": "0b784156",
      "metadata": {
        "colab": {
          "base_uri": "https://localhost:8080/",
          "height": 78
        },
        "id": "0b784156",
        "outputId": "ff6324e7-7198-4eaa-92d6-a93036d7b16f"
      },
      "outputs": [
        {
          "output_type": "execute_result",
          "data": {
            "text/plain": [
              "⎡cos(θ)   0  sin(θ)⎤\n",
              "⎢                  ⎥\n",
              "⎢   0     1    0   ⎥\n",
              "⎢                  ⎥\n",
              "⎣-sin(θ)  0  cos(θ)⎦"
            ],
            "text/latex": "$\\displaystyle \\left[\\begin{matrix}\\cos{\\left(\\theta \\right)} & 0 & \\sin{\\left(\\theta \\right)}\\\\0 & 1 & 0\\\\- \\sin{\\left(\\theta \\right)} & 0 & \\cos{\\left(\\theta \\right)}\\end{matrix}\\right]$"
          },
          "metadata": {},
          "execution_count": 107
        }
      ],
      "source": [
        "#Matriz de rotacion 3D sobre el eje y\n",
        "R_y = Matrix([[cos(theta), 0, sin(theta)], [0, 1, 0], [-sin(theta), 0, cos(theta)]])\n",
        "R_y"
      ]
    },
    {
      "cell_type": "code",
      "execution_count": 108,
      "id": "dd57ffb9",
      "metadata": {
        "colab": {
          "base_uri": "https://localhost:8080/"
        },
        "id": "dd57ffb9",
        "outputId": "37890e22-301f-4db0-bc34-2d290ec2d3b4"
      },
      "outputs": [
        {
          "output_type": "stream",
          "name": "stdout",
          "text": [
            "[ 1.0566704   0.93969262 -0.02062634]\n"
          ]
        }
      ],
      "source": [
        "theta_val = np.pi/9 # 20 grados en radianes\n",
        "R_x_p0 = np.array(R_x.subs({theta: theta_val})).astype(np.float64) #Se convierte theta simbolico a un valor concreto Rx\n",
        "R_y_p0 = np.array(R_y.subs({theta: theta_val})).astype(np.float64) #Se convierte theta simbolico a un valor concreto Ry\n",
        "\n",
        "P0_rotado_x = np.dot(R_x_p0, P0) #Producto punto entre la matrix de rotación y el vector de posición del punto\n",
        "P0_rotado_y = np.dot(R_y_p0, P0_rotado_x) #Producto punto entre la matrix de rotación y el vector de posición del punto\n",
        "\n",
        "print(P0_rotado_y)"
      ]
    },
    {
      "cell_type": "markdown",
      "id": "8ed1acdf",
      "metadata": {
        "id": "8ed1acdf"
      },
      "source": [
        "2. Ahora probamos con la composición de matrices homogeneas"
      ]
    },
    {
      "cell_type": "code",
      "execution_count": 109,
      "id": "54f56d28",
      "metadata": {
        "colab": {
          "base_uri": "https://localhost:8080/"
        },
        "id": "54f56d28",
        "outputId": "a5aa7a50-6484-4a67-c45d-36cbb7ec502d"
      },
      "outputs": [
        {
          "output_type": "stream",
          "name": "stdout",
          "text": [
            "[1 1 0]\n",
            "[[1]\n",
            " [1]\n",
            " [0]\n",
            " [1]]\n"
          ]
        }
      ],
      "source": [
        "#Se convierte el punto 3D a un punto de coordenadas homogeneas\n",
        "\n",
        "P0_homogeneo = np.append(P0, 1)\n",
        "P0_homogeneo = np.reshape(P0_homogeneo, (4, 1))\n",
        "print(P0)\n",
        "print(P0_homogeneo)"
      ]
    },
    {
      "cell_type": "code",
      "execution_count": 110,
      "id": "bf656be2",
      "metadata": {
        "colab": {
          "base_uri": "https://localhost:8080/",
          "height": 98
        },
        "id": "bf656be2",
        "outputId": "52e4dc3f-bef2-497f-bbda-2d6ea058259d"
      },
      "outputs": [
        {
          "output_type": "execute_result",
          "data": {
            "text/plain": [
              "⎡cos(θ)   sin(φ)⋅sin(θ)  sin(θ)⋅cos(φ)  0⎤\n",
              "⎢                                        ⎥\n",
              "⎢   0        cos(φ)         -sin(φ)     0⎥\n",
              "⎢                                        ⎥\n",
              "⎢-sin(θ)  sin(φ)⋅cos(θ)  cos(φ)⋅cos(θ)  0⎥\n",
              "⎢                                        ⎥\n",
              "⎣   0           0              0        1⎦"
            ],
            "text/latex": "$\\displaystyle \\left[\\begin{matrix}\\cos{\\left(\\theta \\right)} & \\sin{\\left(\\phi \\right)} \\sin{\\left(\\theta \\right)} & \\sin{\\left(\\theta \\right)} \\cos{\\left(\\phi \\right)} & 0\\\\0 & \\cos{\\left(\\phi \\right)} & - \\sin{\\left(\\phi \\right)} & 0\\\\- \\sin{\\left(\\theta \\right)} & \\sin{\\left(\\phi \\right)} \\cos{\\left(\\theta \\right)} & \\cos{\\left(\\phi \\right)} \\cos{\\left(\\theta \\right)} & 0\\\\0 & 0 & 0 & 1\\end{matrix}\\right]$"
          },
          "metadata": {},
          "execution_count": 110
        }
      ],
      "source": [
        "#Se realiza la composición de las matrices homogeneas para x y y\n",
        "Hxy = H_y@H_x\n",
        "Hxy"
      ]
    },
    {
      "cell_type": "code",
      "execution_count": 111,
      "id": "a6a89f36",
      "metadata": {
        "colab": {
          "base_uri": "https://localhost:8080/"
        },
        "id": "a6a89f36",
        "outputId": "51bee7ba-f6cd-43c7-8ec2-855cffe0ea43"
      },
      "outputs": [
        {
          "output_type": "execute_result",
          "data": {
            "text/plain": [
              "array([[ 0.93969262,  0.11697778,  0.3213938 ,  0.        ],\n",
              "       [ 0.        ,  0.93969262, -0.34202014,  0.        ],\n",
              "       [-0.34202014,  0.3213938 ,  0.88302222,  0.        ],\n",
              "       [ 0.        ,  0.        ,  0.        ,  1.        ]])"
            ]
          },
          "metadata": {},
          "execution_count": 111
        }
      ],
      "source": [
        "theta_val = np.pi/9 # 20 grados en radianes\n",
        "phi_val = np.pi/9 # 20 grados en radianes\n",
        "\n",
        "Hxy_p0 = np.array(Hxy.subs({phi: phi_val, theta: theta_val})).astype(np.float64) #Se convierte theta simbolico a un valor concreto Rx\n",
        "Hxy_p0"
      ]
    },
    {
      "cell_type": "code",
      "execution_count": 112,
      "id": "dff1369b",
      "metadata": {
        "colab": {
          "base_uri": "https://localhost:8080/"
        },
        "id": "dff1369b",
        "outputId": "cd5108cb-4724-48ae-9f9d-0fffb8f1a065"
      },
      "outputs": [
        {
          "output_type": "execute_result",
          "data": {
            "text/plain": [
              "array([[ 1.0566704 ],\n",
              "       [ 0.93969262],\n",
              "       [-0.02062634],\n",
              "       [ 1.        ]])"
            ]
          },
          "metadata": {},
          "execution_count": 112
        }
      ],
      "source": [
        "P0_rotado_Hxy = np.dot(Hxy_p0, P0_homogeneo)\n",
        "P0_rotado_Hxy"
      ]
    },
    {
      "cell_type": "markdown",
      "id": "f03001f3",
      "metadata": {
        "id": "f03001f3"
      },
      "source": [
        "# **Actividad**\n",
        "\n",
        "* Calcule las siguientes matrices homogeneas"
      ]
    },
    {
      "cell_type": "code",
      "execution_count": 113,
      "id": "b1097fd7",
      "metadata": {
        "colab": {
          "resources": {
            "http://localhost:8080/1.png": {
              "data": "CjwhRE9DVFlQRSBodG1sPgo8aHRtbCBsYW5nPWVuPgogIDxtZXRhIGNoYXJzZXQ9dXRmLTg+CiAgPG1ldGEgbmFtZT12aWV3cG9ydCBjb250ZW50PSJpbml0aWFsLXNjYWxlPTEsIG1pbmltdW0tc2NhbGU9MSwgd2lkdGg9ZGV2aWNlLXdpZHRoIj4KICA8dGl0bGU+RXJyb3IgNDA0IChOb3QgRm91bmQpISExPC90aXRsZT4KICA8c3R5bGU+CiAgICAqe21hcmdpbjowO3BhZGRpbmc6MH1odG1sLGNvZGV7Zm9udDoxNXB4LzIycHggYXJpYWwsc2Fucy1zZXJpZn1odG1se2JhY2tncm91bmQ6I2ZmZjtjb2xvcjojMjIyO3BhZGRpbmc6MTVweH1ib2R5e21hcmdpbjo3JSBhdXRvIDA7bWF4LXdpZHRoOjM5MHB4O21pbi1oZWlnaHQ6MTgwcHg7cGFkZGluZzozMHB4IDAgMTVweH0qID4gYm9keXtiYWNrZ3JvdW5kOnVybCgvL3d3dy5nb29nbGUuY29tL2ltYWdlcy9lcnJvcnMvcm9ib3QucG5nKSAxMDAlIDVweCBuby1yZXBlYXQ7cGFkZGluZy1yaWdodDoyMDVweH1we21hcmdpbjoxMXB4IDAgMjJweDtvdmVyZmxvdzpoaWRkZW59aW5ze2NvbG9yOiM3Nzc7dGV4dC1kZWNvcmF0aW9uOm5vbmV9YSBpbWd7Ym9yZGVyOjB9QG1lZGlhIHNjcmVlbiBhbmQgKG1heC13aWR0aDo3NzJweCl7Ym9keXtiYWNrZ3JvdW5kOm5vbmU7bWFyZ2luLXRvcDowO21heC13aWR0aDpub25lO3BhZGRpbmctcmlnaHQ6MH19I2xvZ297YmFja2dyb3VuZDp1cmwoLy93d3cuZ29vZ2xlLmNvbS9pbWFnZXMvbG9nb3MvZXJyb3JwYWdlL2Vycm9yX2xvZ28tMTUweDU0LnBuZykgbm8tcmVwZWF0O21hcmdpbi1sZWZ0Oi01cHh9QG1lZGlhIG9ubHkgc2NyZWVuIGFuZCAobWluLXJlc29sdXRpb246MTkyZHBpKXsjbG9nb3tiYWNrZ3JvdW5kOnVybCgvL3d3dy5nb29nbGUuY29tL2ltYWdlcy9sb2dvcy9lcnJvcnBhZ2UvZXJyb3JfbG9nby0xNTB4NTQtMngucG5nKSBuby1yZXBlYXQgMCUgMCUvMTAwJSAxMDAlOy1tb3otYm9yZGVyLWltYWdlOnVybCgvL3d3dy5nb29nbGUuY29tL2ltYWdlcy9sb2dvcy9lcnJvcnBhZ2UvZXJyb3JfbG9nby0xNTB4NTQtMngucG5nKSAwfX1AbWVkaWEgb25seSBzY3JlZW4gYW5kICgtd2Via2l0LW1pbi1kZXZpY2UtcGl4ZWwtcmF0aW86Mil7I2xvZ297YmFja2dyb3VuZDp1cmwoLy93d3cuZ29vZ2xlLmNvbS9pbWFnZXMvbG9nb3MvZXJyb3JwYWdlL2Vycm9yX2xvZ28tMTUweDU0LTJ4LnBuZykgbm8tcmVwZWF0Oy13ZWJraXQtYmFja2dyb3VuZC1zaXplOjEwMCUgMTAwJX19I2xvZ297ZGlzcGxheTppbmxpbmUtYmxvY2s7aGVpZ2h0OjU0cHg7d2lkdGg6MTUwcHh9CiAgPC9zdHlsZT4KICA8YSBocmVmPS8vd3d3Lmdvb2dsZS5jb20vPjxzcGFuIGlkPWxvZ28gYXJpYS1sYWJlbD1Hb29nbGU+PC9zcGFuPjwvYT4KICA8cD48Yj40MDQuPC9iPiA8aW5zPlRoYXTigJlzIGFuIGVycm9yLjwvaW5zPgogIDxwPiAgPGlucz5UaGF04oCZcyBhbGwgd2Uga25vdy48L2lucz4K",
              "ok": false,
              "headers": [
                [
                  "content-length",
                  "1449"
                ],
                [
                  "content-type",
                  "text/html; charset=utf-8"
                ]
              ],
              "status": 404,
              "status_text": ""
            }
          },
          "base_uri": "https://localhost:8080/",
          "height": 44
        },
        "id": "b1097fd7",
        "outputId": "59b4a7be-e17d-4d85-ea2e-569ac7ccec47"
      },
      "outputs": [
        {
          "output_type": "execute_result",
          "data": {
            "text/html": [
              "<img src=\"1.png\"/>"
            ],
            "text/plain": [
              "<IPython.core.display.Image object>"
            ]
          },
          "metadata": {},
          "execution_count": 113
        }
      ],
      "source": [
        "from IPython.display import Image\n",
        "\n",
        "Image(url='1.png')"
      ]
    },
    {
      "cell_type": "code",
      "source": [
        "from google.colab import drive\n",
        "drive.mount('/content/drive')"
      ],
      "metadata": {
        "colab": {
          "base_uri": "https://localhost:8080/",
          "height": 312
        },
        "id": "-CELUjNJrmNw",
        "outputId": "4f487863-b6e0-4237-d5f1-9885c6aa8d2d"
      },
      "id": "-CELUjNJrmNw",
      "execution_count": 114,
      "outputs": [
        {
          "output_type": "error",
          "ename": "MessageError",
          "evalue": "Error: credential propagation was unsuccessful",
          "traceback": [
            "\u001b[0;31m---------------------------------------------------------------------------\u001b[0m",
            "\u001b[0;31mMessageError\u001b[0m                              Traceback (most recent call last)",
            "\u001b[0;32m<ipython-input-114-d5df0069828e>\u001b[0m in \u001b[0;36m<cell line: 0>\u001b[0;34m()\u001b[0m\n\u001b[1;32m      1\u001b[0m \u001b[0;32mfrom\u001b[0m \u001b[0mgoogle\u001b[0m\u001b[0;34m.\u001b[0m\u001b[0mcolab\u001b[0m \u001b[0;32mimport\u001b[0m \u001b[0mdrive\u001b[0m\u001b[0;34m\u001b[0m\u001b[0;34m\u001b[0m\u001b[0m\n\u001b[0;32m----> 2\u001b[0;31m \u001b[0mdrive\u001b[0m\u001b[0;34m.\u001b[0m\u001b[0mmount\u001b[0m\u001b[0;34m(\u001b[0m\u001b[0;34m'/content/drive'\u001b[0m\u001b[0;34m)\u001b[0m\u001b[0;34m\u001b[0m\u001b[0;34m\u001b[0m\u001b[0m\n\u001b[0m",
            "\u001b[0;32m/usr/local/lib/python3.11/dist-packages/google/colab/drive.py\u001b[0m in \u001b[0;36mmount\u001b[0;34m(mountpoint, force_remount, timeout_ms, readonly)\u001b[0m\n\u001b[1;32m     98\u001b[0m \u001b[0;32mdef\u001b[0m \u001b[0mmount\u001b[0m\u001b[0;34m(\u001b[0m\u001b[0mmountpoint\u001b[0m\u001b[0;34m,\u001b[0m \u001b[0mforce_remount\u001b[0m\u001b[0;34m=\u001b[0m\u001b[0;32mFalse\u001b[0m\u001b[0;34m,\u001b[0m \u001b[0mtimeout_ms\u001b[0m\u001b[0;34m=\u001b[0m\u001b[0;36m120000\u001b[0m\u001b[0;34m,\u001b[0m \u001b[0mreadonly\u001b[0m\u001b[0;34m=\u001b[0m\u001b[0;32mFalse\u001b[0m\u001b[0;34m)\u001b[0m\u001b[0;34m:\u001b[0m\u001b[0;34m\u001b[0m\u001b[0;34m\u001b[0m\u001b[0m\n\u001b[1;32m     99\u001b[0m   \u001b[0;34m\"\"\"Mount your Google Drive at the specified mountpoint path.\"\"\"\u001b[0m\u001b[0;34m\u001b[0m\u001b[0;34m\u001b[0m\u001b[0m\n\u001b[0;32m--> 100\u001b[0;31m   return _mount(\n\u001b[0m\u001b[1;32m    101\u001b[0m       \u001b[0mmountpoint\u001b[0m\u001b[0;34m,\u001b[0m\u001b[0;34m\u001b[0m\u001b[0;34m\u001b[0m\u001b[0m\n\u001b[1;32m    102\u001b[0m       \u001b[0mforce_remount\u001b[0m\u001b[0;34m=\u001b[0m\u001b[0mforce_remount\u001b[0m\u001b[0;34m,\u001b[0m\u001b[0;34m\u001b[0m\u001b[0;34m\u001b[0m\u001b[0m\n",
            "\u001b[0;32m/usr/local/lib/python3.11/dist-packages/google/colab/drive.py\u001b[0m in \u001b[0;36m_mount\u001b[0;34m(mountpoint, force_remount, timeout_ms, ephemeral, readonly)\u001b[0m\n\u001b[1;32m    135\u001b[0m   )\n\u001b[1;32m    136\u001b[0m   \u001b[0;32mif\u001b[0m \u001b[0mephemeral\u001b[0m\u001b[0;34m:\u001b[0m\u001b[0;34m\u001b[0m\u001b[0;34m\u001b[0m\u001b[0m\n\u001b[0;32m--> 137\u001b[0;31m     _message.blocking_request(\n\u001b[0m\u001b[1;32m    138\u001b[0m         \u001b[0;34m'request_auth'\u001b[0m\u001b[0;34m,\u001b[0m\u001b[0;34m\u001b[0m\u001b[0;34m\u001b[0m\u001b[0m\n\u001b[1;32m    139\u001b[0m         \u001b[0mrequest\u001b[0m\u001b[0;34m=\u001b[0m\u001b[0;34m{\u001b[0m\u001b[0;34m'authType'\u001b[0m\u001b[0;34m:\u001b[0m \u001b[0;34m'dfs_ephemeral'\u001b[0m\u001b[0;34m}\u001b[0m\u001b[0;34m,\u001b[0m\u001b[0;34m\u001b[0m\u001b[0;34m\u001b[0m\u001b[0m\n",
            "\u001b[0;32m/usr/local/lib/python3.11/dist-packages/google/colab/_message.py\u001b[0m in \u001b[0;36mblocking_request\u001b[0;34m(request_type, request, timeout_sec, parent)\u001b[0m\n\u001b[1;32m    174\u001b[0m       \u001b[0mrequest_type\u001b[0m\u001b[0;34m,\u001b[0m \u001b[0mrequest\u001b[0m\u001b[0;34m,\u001b[0m \u001b[0mparent\u001b[0m\u001b[0;34m=\u001b[0m\u001b[0mparent\u001b[0m\u001b[0;34m,\u001b[0m \u001b[0mexpect_reply\u001b[0m\u001b[0;34m=\u001b[0m\u001b[0;32mTrue\u001b[0m\u001b[0;34m\u001b[0m\u001b[0;34m\u001b[0m\u001b[0m\n\u001b[1;32m    175\u001b[0m   )\n\u001b[0;32m--> 176\u001b[0;31m   \u001b[0;32mreturn\u001b[0m \u001b[0mread_reply_from_input\u001b[0m\u001b[0;34m(\u001b[0m\u001b[0mrequest_id\u001b[0m\u001b[0;34m,\u001b[0m \u001b[0mtimeout_sec\u001b[0m\u001b[0;34m)\u001b[0m\u001b[0;34m\u001b[0m\u001b[0;34m\u001b[0m\u001b[0m\n\u001b[0m",
            "\u001b[0;32m/usr/local/lib/python3.11/dist-packages/google/colab/_message.py\u001b[0m in \u001b[0;36mread_reply_from_input\u001b[0;34m(message_id, timeout_sec)\u001b[0m\n\u001b[1;32m    101\u001b[0m     ):\n\u001b[1;32m    102\u001b[0m       \u001b[0;32mif\u001b[0m \u001b[0;34m'error'\u001b[0m \u001b[0;32min\u001b[0m \u001b[0mreply\u001b[0m\u001b[0;34m:\u001b[0m\u001b[0;34m\u001b[0m\u001b[0;34m\u001b[0m\u001b[0m\n\u001b[0;32m--> 103\u001b[0;31m         \u001b[0;32mraise\u001b[0m \u001b[0mMessageError\u001b[0m\u001b[0;34m(\u001b[0m\u001b[0mreply\u001b[0m\u001b[0;34m[\u001b[0m\u001b[0;34m'error'\u001b[0m\u001b[0;34m]\u001b[0m\u001b[0;34m)\u001b[0m\u001b[0;34m\u001b[0m\u001b[0;34m\u001b[0m\u001b[0m\n\u001b[0m\u001b[1;32m    104\u001b[0m       \u001b[0;32mreturn\u001b[0m \u001b[0mreply\u001b[0m\u001b[0;34m.\u001b[0m\u001b[0mget\u001b[0m\u001b[0;34m(\u001b[0m\u001b[0;34m'data'\u001b[0m\u001b[0;34m,\u001b[0m \u001b[0;32mNone\u001b[0m\u001b[0;34m)\u001b[0m\u001b[0;34m\u001b[0m\u001b[0;34m\u001b[0m\u001b[0m\n\u001b[1;32m    105\u001b[0m \u001b[0;34m\u001b[0m\u001b[0m\n",
            "\u001b[0;31mMessageError\u001b[0m: Error: credential propagation was unsuccessful"
          ]
        }
      ]
    },
    {
      "cell_type": "markdown",
      "id": "6bd60533",
      "metadata": {
        "id": "6bd60533"
      },
      "source": [
        "## Donde:"
      ]
    },
    {
      "cell_type": "code",
      "execution_count": 115,
      "id": "683b1094",
      "metadata": {
        "id": "683b1094",
        "colab": {
          "resources": {
            "http://localhost:8080/2.png": {
              "data": "CjwhRE9DVFlQRSBodG1sPgo8aHRtbCBsYW5nPWVuPgogIDxtZXRhIGNoYXJzZXQ9dXRmLTg+CiAgPG1ldGEgbmFtZT12aWV3cG9ydCBjb250ZW50PSJpbml0aWFsLXNjYWxlPTEsIG1pbmltdW0tc2NhbGU9MSwgd2lkdGg9ZGV2aWNlLXdpZHRoIj4KICA8dGl0bGU+RXJyb3IgNDA0IChOb3QgRm91bmQpISExPC90aXRsZT4KICA8c3R5bGU+CiAgICAqe21hcmdpbjowO3BhZGRpbmc6MH1odG1sLGNvZGV7Zm9udDoxNXB4LzIycHggYXJpYWwsc2Fucy1zZXJpZn1odG1se2JhY2tncm91bmQ6I2ZmZjtjb2xvcjojMjIyO3BhZGRpbmc6MTVweH1ib2R5e21hcmdpbjo3JSBhdXRvIDA7bWF4LXdpZHRoOjM5MHB4O21pbi1oZWlnaHQ6MTgwcHg7cGFkZGluZzozMHB4IDAgMTVweH0qID4gYm9keXtiYWNrZ3JvdW5kOnVybCgvL3d3dy5nb29nbGUuY29tL2ltYWdlcy9lcnJvcnMvcm9ib3QucG5nKSAxMDAlIDVweCBuby1yZXBlYXQ7cGFkZGluZy1yaWdodDoyMDVweH1we21hcmdpbjoxMXB4IDAgMjJweDtvdmVyZmxvdzpoaWRkZW59aW5ze2NvbG9yOiM3Nzc7dGV4dC1kZWNvcmF0aW9uOm5vbmV9YSBpbWd7Ym9yZGVyOjB9QG1lZGlhIHNjcmVlbiBhbmQgKG1heC13aWR0aDo3NzJweCl7Ym9keXtiYWNrZ3JvdW5kOm5vbmU7bWFyZ2luLXRvcDowO21heC13aWR0aDpub25lO3BhZGRpbmctcmlnaHQ6MH19I2xvZ297YmFja2dyb3VuZDp1cmwoLy93d3cuZ29vZ2xlLmNvbS9pbWFnZXMvbG9nb3MvZXJyb3JwYWdlL2Vycm9yX2xvZ28tMTUweDU0LnBuZykgbm8tcmVwZWF0O21hcmdpbi1sZWZ0Oi01cHh9QG1lZGlhIG9ubHkgc2NyZWVuIGFuZCAobWluLXJlc29sdXRpb246MTkyZHBpKXsjbG9nb3tiYWNrZ3JvdW5kOnVybCgvL3d3dy5nb29nbGUuY29tL2ltYWdlcy9sb2dvcy9lcnJvcnBhZ2UvZXJyb3JfbG9nby0xNTB4NTQtMngucG5nKSBuby1yZXBlYXQgMCUgMCUvMTAwJSAxMDAlOy1tb3otYm9yZGVyLWltYWdlOnVybCgvL3d3dy5nb29nbGUuY29tL2ltYWdlcy9sb2dvcy9lcnJvcnBhZ2UvZXJyb3JfbG9nby0xNTB4NTQtMngucG5nKSAwfX1AbWVkaWEgb25seSBzY3JlZW4gYW5kICgtd2Via2l0LW1pbi1kZXZpY2UtcGl4ZWwtcmF0aW86Mil7I2xvZ297YmFja2dyb3VuZDp1cmwoLy93d3cuZ29vZ2xlLmNvbS9pbWFnZXMvbG9nb3MvZXJyb3JwYWdlL2Vycm9yX2xvZ28tMTUweDU0LTJ4LnBuZykgbm8tcmVwZWF0Oy13ZWJraXQtYmFja2dyb3VuZC1zaXplOjEwMCUgMTAwJX19I2xvZ297ZGlzcGxheTppbmxpbmUtYmxvY2s7aGVpZ2h0OjU0cHg7d2lkdGg6MTUwcHh9CiAgPC9zdHlsZT4KICA8YSBocmVmPS8vd3d3Lmdvb2dsZS5jb20vPjxzcGFuIGlkPWxvZ28gYXJpYS1sYWJlbD1Hb29nbGU+PC9zcGFuPjwvYT4KICA8cD48Yj40MDQuPC9iPiA8aW5zPlRoYXTigJlzIGFuIGVycm9yLjwvaW5zPgogIDxwPiAgPGlucz5UaGF04oCZcyBhbGwgd2Uga25vdy48L2lucz4K",
              "ok": false,
              "headers": [
                [
                  "content-length",
                  "1449"
                ],
                [
                  "content-type",
                  "text/html; charset=utf-8"
                ]
              ],
              "status": 404,
              "status_text": ""
            }
          },
          "base_uri": "https://localhost:8080/",
          "height": 44
        },
        "outputId": "5d1bf56a-6969-4175-ede5-096899107e93"
      },
      "outputs": [
        {
          "output_type": "execute_result",
          "data": {
            "text/html": [
              "<img src=\"2.png\"/>"
            ],
            "text/plain": [
              "<IPython.core.display.Image object>"
            ]
          },
          "metadata": {},
          "execution_count": 115
        }
      ],
      "source": [
        "Image(url='2.png')"
      ]
    },
    {
      "cell_type": "markdown",
      "id": "419c1575",
      "metadata": {
        "id": "419c1575"
      },
      "source": [
        "# **Resultados aquí debajo**"
      ]
    },
    {
      "cell_type": "markdown",
      "source": [
        "# **PUNTO 1**"
      ],
      "metadata": {
        "id": "zQK9rbO4VOr7"
      },
      "id": "zQK9rbO4VOr7"
    },
    {
      "cell_type": "code",
      "source": [
        "\"\"\"\n",
        "Calcula la matriz de transformación H a partir de las matrices de rotación en los ejes z, y, y x,\n",
        "y luego evalúa esta matriz con valores específicos de los ángulos phi, theta y psi.\n",
        "\n",
        "Variables:\n",
        "- H: Matriz de transformación combinada.\n",
        "- theta_val, phi_val, psi_val: Valores en radianes de los ángulos de rotación.\n",
        "- Hzyx_p0: Matriz H evaluada con los valores específicos de los ángulos.\n",
        "\"\"\"\n",
        "\n",
        "H = H_z@H_y@H_x\n",
        "theta_val = np.pi*56/180\n",
        "phi_val = np.pi*2/180\n",
        "psi_val = np.pi*53/180\n",
        "\n",
        "Hzyx_p0 = np.array(H.subs({phi: phi_val, theta: theta_val, psi:psi_val})).astype(np.float64)\n",
        "\n",
        "Hzyx_p0"
      ],
      "metadata": {
        "colab": {
          "base_uri": "https://localhost:8080/"
        },
        "id": "iCtjOPI9ujb4",
        "outputId": "43edd55d-489a-4751-c48a-89b19a4fe4cb"
      },
      "id": "iCtjOPI9ujb4",
      "execution_count": 116,
      "outputs": [
        {
          "output_type": "execute_result",
          "data": {
            "text/plain": [
              "array([[ 0.33653069, -0.78073669,  0.52649531,  0.        ],\n",
              "       [ 0.44659131,  0.62455533,  0.64069247,  0.        ],\n",
              "       [-0.82903757,  0.01951555,  0.55885226,  0.        ],\n",
              "       [ 0.        ,  0.        ,  0.        ,  1.        ]])"
            ]
          },
          "metadata": {},
          "execution_count": 116
        }
      ]
    },
    {
      "cell_type": "code",
      "source": [
        "\"\"\"\n",
        "Aplica la transformación Hzyx_p0 al punto P0_homogeneo mediante el producto de matrices.\n",
        "El resultado es el punto transformado en el nuevo sistema de coordenadas.\n",
        "\"\"\"\n",
        "np.dot(Hzyx_p0, P0_homogeneo)"
      ],
      "metadata": {
        "colab": {
          "base_uri": "https://localhost:8080/"
        },
        "id": "iSjHdwYgVLDU",
        "outputId": "e9b90607-8b52-4323-8ed8-c29a21cf4b68"
      },
      "id": "iSjHdwYgVLDU",
      "execution_count": 117,
      "outputs": [
        {
          "output_type": "execute_result",
          "data": {
            "text/plain": [
              "array([[-0.444206  ],\n",
              "       [ 1.07114664],\n",
              "       [-0.80952202],\n",
              "       [ 1.        ]])"
            ]
          },
          "metadata": {},
          "execution_count": 117
        }
      ]
    },
    {
      "cell_type": "markdown",
      "source": [
        "# **PUNTO 2**"
      ],
      "metadata": {
        "id": "rTy20TSmVMg7"
      },
      "id": "rTy20TSmVMg7"
    },
    {
      "cell_type": "code",
      "source": [
        "\"\"\"\n",
        "Define las variables simbólicas tx, ty y tz, que representan traslaciones en los ejes x, y y z, respectivamente.\n",
        "Estas variables se utilizan en cálculos simbólicos para representar desplazamientos en un espacio tridimensional.\n",
        "\"\"\"\n",
        "\n",
        "tx = symbols(\"tx\",  real=True)\n",
        "ty = symbols(\"ty\",  real=True)\n",
        "tz = symbols(\"tz\",  real=True)\n",
        "\n"
      ],
      "metadata": {
        "id": "l-SXbsmAif1W"
      },
      "id": "l-SXbsmAif1W",
      "execution_count": 118,
      "outputs": []
    },
    {
      "cell_type": "code",
      "source": [
        "\"\"\"\n",
        "Define la matriz de transformación H_y para una rotación alrededor del eje Y con un desplazamiento en 3D.\n",
        "\n",
        "- La matriz incluye una rotación en el eje Y por un ángulo theta.\n",
        "- También incorpora traslaciones en los ejes X, Y y Z (tx, ty, tz).\n",
        "- Se utiliza en cálculos de transformación homogénea en un espacio tridimensional.\n",
        "\n",
        "H_y es una matriz de 4x4 en forma homogénea, donde la última fila (0,0,0,1) mantiene la estructura de transformación afín.\n",
        "\"\"\"\n",
        "\n",
        "H_y = Matrix([[cos(theta), 0, sin(theta), tx*cos(theta) + tz*sin(theta)], [0, 1, 0, ty], [-sin(theta), 0, cos(theta), tz*cos(theta) - tx*sin(theta)], [0, 0, 0, 1]])\n",
        "H_y"
      ],
      "metadata": {
        "id": "ULiMcEkef3km"
      },
      "id": "ULiMcEkef3km",
      "execution_count": null,
      "outputs": []
    },
    {
      "cell_type": "code",
      "source": [
        "\"\"\"\n",
        "Define la matriz de transformación H_y para una rotación alrededor del eje Y con un desplazamiento en 3D\n",
        "y luego evalúa la matriz con valores específicos para los parámetros de traslación y rotación.\n",
        "\n",
        "- H_y: Matriz homogénea 4x4 que combina rotación en el eje Y y traslaciones en X, Y y Z.\n",
        "- tx, ty, tz: Valores de traslación en los respectivos ejes.\n",
        "- theta: Ángulo de rotación en torno al eje Y.\n",
        "- H_0: Matriz H_y evaluada con valores específicos de theta y traslaciones.\n",
        "\n",
        "Se utiliza para transformar coordenadas en un espacio tridimensional considerando rotaciones y desplazamientos.\n",
        "\"\"\"\n",
        "\n",
        "H_y = Matrix([[cos(theta), 0, sin(theta), tx*cos(theta) + tz*sin(theta)], [0, 1, 0, ty], [-sin(theta), 0, cos(theta), tz*cos(theta) - tx*sin(theta)], [0, 0, 0, 1]])\n",
        "H_y\n",
        "\n",
        "tx_val = 3\n",
        "ty_val = 0\n",
        "tz_val = 0\n",
        "theta_val = np.pi*6/180\n",
        "\n",
        "H_0 = np.array(H_y.subs({theta: theta_val, tx: tx_val, ty: ty_val, tz:tz_val})).astype(np.float64)\n",
        "H_0\n",
        "\n"
      ],
      "metadata": {
        "colab": {
          "base_uri": "https://localhost:8080/"
        },
        "id": "34yteNDfVfi8",
        "outputId": "6989eea0-15a4-4853-b127-ec2fcf8b35f2"
      },
      "id": "34yteNDfVfi8",
      "execution_count": 119,
      "outputs": [
        {
          "output_type": "execute_result",
          "data": {
            "text/plain": [
              "array([[ 0.9945219 ,  0.        ,  0.10452846,  2.98356569],\n",
              "       [ 0.        ,  1.        ,  0.        ,  0.        ],\n",
              "       [-0.10452846,  0.        ,  0.9945219 , -0.31358539],\n",
              "       [ 0.        ,  0.        ,  0.        ,  1.        ]])"
            ]
          },
          "metadata": {},
          "execution_count": 119
        }
      ]
    },
    {
      "cell_type": "code",
      "source": [
        "\"\"\"\n",
        "Define la matriz de transformación H_x para una rotación alrededor del eje X en un espacio tridimensional\n",
        "y luego evalúa la matriz con un valor específico para el ángulo phi.\n",
        "\n",
        "- H_x: Matriz homogénea 4x4 que representa una rotación en el eje X.\n",
        "- phi: Ángulo de rotación en torno al eje X.\n",
        "- phi_val: Valor del ángulo phi en radianes.\n",
        "- H_1: Matriz H_x evaluada con el valor específico de phi.\n",
        "\n",
        "Se usa para transformar coordenadas aplicando una rotación alrededor del eje X.\n",
        "\"\"\"\n",
        "H_x = Matrix([[1, 0, 0, 0], [0, cos(phi), -sin(phi), 0], [0, sin(phi), cos(phi), 0], [0, 0, 0, 1]])\n",
        "H_x\n",
        "phi_val = np.pi*2/180\n",
        "\n",
        "H_1 = np.array(H_x.subs({phi: phi_val,})).astype(np.float64) #Se convierte phi simbolico a un valor concreto\n",
        "H_1\n",
        "\n"
      ],
      "metadata": {
        "colab": {
          "base_uri": "https://localhost:8080/"
        },
        "id": "8mXi8Ak1lL94",
        "outputId": "3ae27a6c-76be-472e-c33a-43c90b41431e"
      },
      "id": "8mXi8Ak1lL94",
      "execution_count": 120,
      "outputs": [
        {
          "output_type": "execute_result",
          "data": {
            "text/plain": [
              "array([[ 1.        ,  0.        ,  0.        ,  0.        ],\n",
              "       [ 0.        ,  0.99939083, -0.0348995 ,  0.        ],\n",
              "       [ 0.        ,  0.0348995 ,  0.99939083,  0.        ],\n",
              "       [ 0.        ,  0.        ,  0.        ,  1.        ]])"
            ]
          },
          "metadata": {},
          "execution_count": 120
        }
      ]
    },
    {
      "cell_type": "code",
      "source": [
        "\"\"\"\n",
        "Define la matriz de transformación H_y2 para una rotación alrededor del eje Y con un desplazamiento en 3D\n",
        "y luego evalúa la matriz con valores específicos para los parámetros de traslación y rotación.\n",
        "\n",
        "- H_y2: Matriz homogénea 4x4 que combina rotación en el eje Y y traslaciones en X, Y y Z.\n",
        "- tx, ty, tz: Valores de traslación en los respectivos ejes.\n",
        "- theta: Ángulo de rotación en torno al eje Y.\n",
        "- theta_val: Valor del ángulo theta en radianes.\n",
        "- H_2: Matriz H_y2 evaluada con valores específicos de theta y traslaciones.\n",
        "\n",
        "Se usa para transformar coordenadas aplicando una rotación alrededor del eje Y junto con una traslación.\n",
        "\"\"\"\n",
        "H_y2 = Matrix([[cos(theta), 0, sin(theta), tx*cos(theta) + tz*sin(theta)], [0, 1, 0, ty], [-sin(theta), 0, cos(theta), tz*cos(theta) - tx*sin(theta)], [0, 0, 0, 1]])\n",
        "H_y2\n",
        "tx_val = 1\n",
        "ty_val = 1\n",
        "tz_val = 0\n",
        "theta_val = np.pi*-6/180\n",
        "\n",
        "H_2 = np.array(H_y2.subs({theta: theta_val, tx: tx_val, ty: ty_val, tz:tz_val})).astype(np.float64)\n",
        "H_2"
      ],
      "metadata": {
        "colab": {
          "base_uri": "https://localhost:8080/"
        },
        "id": "hPC9-BoZlPNJ",
        "outputId": "421abe76-6891-4963-a4e9-c6406adfe519"
      },
      "id": "hPC9-BoZlPNJ",
      "execution_count": 121,
      "outputs": [
        {
          "output_type": "execute_result",
          "data": {
            "text/plain": [
              "array([[ 0.9945219 ,  0.        , -0.10452846,  0.9945219 ],\n",
              "       [ 0.        ,  1.        ,  0.        ,  1.        ],\n",
              "       [ 0.10452846,  0.        ,  0.9945219 ,  0.10452846],\n",
              "       [ 0.        ,  0.        ,  0.        ,  1.        ]])"
            ]
          },
          "metadata": {},
          "execution_count": 121
        }
      ]
    },
    {
      "cell_type": "code",
      "source": [
        "\"\"\"\n",
        "Calcula la matriz de transformación compuesta H multiplicando las matrices H_0, H_1 y H_2 en el orden dado.\n",
        "Luego, aplica esta transformación al punto P0_homogeneo mediante el producto de matrices.\n",
        "\n",
        "- H_0: Matriz de transformación que combina rotación en Y y traslación.\n",
        "- H_1: Matriz de transformación que representa una rotación en X.\n",
        "- H_2: Matriz de transformación que combina otra rotación en Y y traslación.\n",
        "- H: Matriz de transformación resultante de la multiplicación H_0 * H_1 * H_2.\n",
        "- P0_homogeneo: Punto en coordenadas homogéneas a transformar.\n",
        "- P0_transformado: Resultado de la transformación aplicada a `P0_homogeneo`.\n",
        "\n",
        "Este cálculo se usa para transformar un punto tridimensional considerando rotaciones y traslaciones en un sistema de referencia.\n",
        "\"\"\"\n",
        "\n",
        "H = H_0@H_1@H_2\n",
        "H\n",
        "np.dot(H, P0_homogeneo)"
      ],
      "metadata": {
        "colab": {
          "base_uri": "https://localhost:8080/"
        },
        "id": "QOPye9KSXkL0",
        "outputId": "21ecaa59-28a7-4829-bdde-4ba8c1371f90"
      },
      "id": "QOPye9KSXkL0",
      "execution_count": 122,
      "outputs": [
        {
          "output_type": "execute_result",
          "data": {
            "text/plain": [
              "array([[ 4.99084836],\n",
              "       [ 1.99148567],\n",
              "       [-0.24429542],\n",
              "       [ 1.        ]])"
            ]
          },
          "metadata": {},
          "execution_count": 122
        }
      ]
    },
    {
      "cell_type": "markdown",
      "source": [
        "# **PUNTO 3**"
      ],
      "metadata": {
        "id": "vQyb-bQsoaD5"
      },
      "id": "vQyb-bQsoaD5"
    },
    {
      "cell_type": "code",
      "source": [
        "\"\"\"\n",
        "Define las variables simbólicas tx, ty y tz, que representan los desplazamientos en los ejes X, Y y Z, respectivamente.\n",
        "\n",
        "- tx: Traslación en el eje X.\n",
        "- ty: Traslación en el eje Y.\n",
        "- tz: Traslación en el eje Z.\n",
        "\n",
        "Estas variables se utilizan en cálculos simbólicos para representar desplazamientos en un espacio tridimensional\n",
        "y se incorporan en matrices de transformación homogénea.\n",
        "\"\"\"\n",
        "tx = symbols(\"tx\",  real=True)\n",
        "ty = symbols(\"ty\",  real=True)\n",
        "tz = symbols(\"tz\",  real=True)"
      ],
      "metadata": {
        "id": "qN_08hzzrVbw"
      },
      "id": "qN_08hzzrVbw",
      "execution_count": 123,
      "outputs": []
    },
    {
      "cell_type": "code",
      "source": [
        "\"\"\"\n",
        "Define la matriz de transformación H_z para una rotación alrededor del eje Z con una traslación en 3D\n",
        "y luego evalúa la matriz con valores específicos para los parámetros de traslación y rotación.\n",
        "\n",
        "- H_z: Matriz homogénea 4x4 que combina rotación en el eje Z y traslaciones en X, Y y Z.\n",
        "- tx, ty, tz: Valores de traslación en los respectivos ejes.\n",
        "- psi: Ángulo de rotación en torno al eje Z.\n",
        "- psi_val: Valor del ángulo psi en radianes.\n",
        "- H_1: Matriz H_z evaluada con valores específicos de psi y traslaciones.\n",
        "\n",
        "Se usa para transformar coordenadas aplicando una rotación alrededor del eje Z junto con una traslación.\n",
        "\"\"\"\n",
        "H_z = Matrix([[cos(psi), -sin(psi), 0, tx], [sin(psi), cos(psi), 0, ty], [0, 0, 1, tz], [0, 0, 0, 1] ])\n",
        "H_z\n",
        "\n",
        "tx_val = 3\n",
        "ty_val = 0\n",
        "tz_val = 0\n",
        "psi_val = np.pi*53/180\n",
        "\n",
        "H_1 = np.array(H_z.subs({psi: psi_val, tx: tx_val, ty: ty_val, tz:tz_val})).astype(np.float64)\n",
        "H_1"
      ],
      "metadata": {
        "colab": {
          "base_uri": "https://localhost:8080/"
        },
        "id": "IXJmPxNlKccK",
        "outputId": "2122b560-2a55-43b5-b5f2-e3c6acd711bf"
      },
      "id": "IXJmPxNlKccK",
      "execution_count": 124,
      "outputs": [
        {
          "output_type": "execute_result",
          "data": {
            "text/plain": [
              "array([[ 0.60181502, -0.79863551,  0.        ,  3.        ],\n",
              "       [ 0.79863551,  0.60181502,  0.        ,  0.        ],\n",
              "       [ 0.        ,  0.        ,  1.        ,  0.        ],\n",
              "       [ 0.        ,  0.        ,  0.        ,  1.        ]])"
            ]
          },
          "metadata": {},
          "execution_count": 124
        }
      ]
    },
    {
      "cell_type": "code",
      "source": [
        "\"\"\"\n",
        "Define la matriz de transformación H_y para una rotación alrededor del eje Y en un espacio tridimensional\n",
        "y luego evalúa la matriz con un valor específico para el ángulo theta.\n",
        "\n",
        "- H_y: Matriz homogénea 4x4 que representa una rotación en el eje Y.\n",
        "- theta: Ángulo de rotación en torno al eje Y.\n",
        "- theta_val: Valor del ángulo theta en radianes.\n",
        "- H_2: Matriz H_y evaluada con el valor específico de theta.\n",
        "\n",
        "Se usa para transformar coordenadas aplicando una rotación alrededor del eje Y.\n",
        "\"\"\"\n",
        "H_y = Matrix([[cos(theta), 0, sin(theta), 0], [0, 1, 0, 0], [-sin(theta), 0, cos(theta), 0], [0, 0, 0, 1]])\n",
        "H_y\n",
        "\n",
        "theta_val = np.pi*56/180\n",
        "\n",
        "H_2 = np.array(H_y.subs({theta: theta_val,})).astype(np.float64) #Se convierte theta simbolico a un valor concreto\n",
        "H_2"
      ],
      "metadata": {
        "colab": {
          "base_uri": "https://localhost:8080/"
        },
        "id": "oj-5xQWKsmVb",
        "outputId": "35719a79-7f48-42ee-f5b1-c5e7c64fe88d"
      },
      "id": "oj-5xQWKsmVb",
      "execution_count": 125,
      "outputs": [
        {
          "output_type": "execute_result",
          "data": {
            "text/plain": [
              "array([[ 0.5591929 ,  0.        ,  0.82903757,  0.        ],\n",
              "       [ 0.        ,  1.        ,  0.        ,  0.        ],\n",
              "       [-0.82903757,  0.        ,  0.5591929 ,  0.        ],\n",
              "       [ 0.        ,  0.        ,  0.        ,  1.        ]])"
            ]
          },
          "metadata": {},
          "execution_count": 125
        }
      ]
    },
    {
      "cell_type": "code",
      "source": [
        "\"\"\"\n",
        "Define la matriz de traslación H_t2 en un espacio tridimensional y luego la evalúa como una matriz numérica.\n",
        "\n",
        "- t2: Vector de traslación con componentes en X, Y y Z.\n",
        "- H_t2: Matriz homogénea 4x4 que representa una traslación en el espacio tridimensional.\n",
        "- H_3: Matriz H_t2 convertida a un array de tipo float64.\n",
        "\n",
        "Se usa para trasladar coordenadas en el espacio sin aplicar rotaciones.\n",
        "\"\"\"\n",
        "t2 = [1, 1, 0]\n",
        "H_t2 = Matrix([[1, 0, 0, t2[0]], [0, 1, 0, t2[1]], [0, 0, 1, t2[2]], [0, 0, 0, 1]])\n",
        "H_t2\n",
        "\n",
        "H_3 = np.array(H_t2.subs({})).astype(np.float64)\n",
        "H_3"
      ],
      "metadata": {
        "colab": {
          "base_uri": "https://localhost:8080/"
        },
        "id": "cuj3RIqrtRkJ",
        "outputId": "21a0482f-caf0-4fa8-a918-3c9815659f02"
      },
      "id": "cuj3RIqrtRkJ",
      "execution_count": 126,
      "outputs": [
        {
          "output_type": "execute_result",
          "data": {
            "text/plain": [
              "array([[1., 0., 0., 1.],\n",
              "       [0., 1., 0., 1.],\n",
              "       [0., 0., 1., 0.],\n",
              "       [0., 0., 0., 1.]])"
            ]
          },
          "metadata": {},
          "execution_count": 126
        }
      ]
    },
    {
      "cell_type": "code",
      "source": [
        "\"\"\"\n",
        "Define la matriz de transformación H_z para una rotación alrededor del eje Z en un espacio tridimensional\n",
        "y luego evalúa la matriz con un valor específico para el ángulo psi.\n",
        "\n",
        "- H_z: Matriz homogénea 4x4 que representa una rotación en el eje Z.\n",
        "- psi: Ángulo de rotación en torno al eje Z.\n",
        "- psi_val: Valor del ángulo psi en radianes.\n",
        "- H_4: Matriz H_z evaluada con el valor específico de psi.\n",
        "\n",
        "Se usa para transformar coordenadas aplicando una rotación alrededor del eje Z sin traslación.\n",
        "\"\"\"\n",
        "H_z = Matrix([[cos(psi), -sin(psi), 0, 0], [sin(psi), cos(psi), 0, 0], [0, 0, 1, 0], [0, 0, 0, 1]])\n",
        "H_z\n",
        "\n",
        "psi_val = np.pi*53/180\n",
        "\n",
        "H_4 = np.array(H_z.subs({psi: psi_val,})).astype(np.float64) #Se convierte psi simbolico a un valor concreto\n",
        "H_4"
      ],
      "metadata": {
        "colab": {
          "base_uri": "https://localhost:8080/"
        },
        "id": "pxWzuGewygbD",
        "outputId": "dcbd3bf3-763b-4ebb-af8b-b1fd4b2402a2"
      },
      "id": "pxWzuGewygbD",
      "execution_count": 127,
      "outputs": [
        {
          "output_type": "execute_result",
          "data": {
            "text/plain": [
              "array([[ 0.60181502, -0.79863551,  0.        ,  0.        ],\n",
              "       [ 0.79863551,  0.60181502,  0.        ,  0.        ],\n",
              "       [ 0.        ,  0.        ,  1.        ,  0.        ],\n",
              "       [ 0.        ,  0.        ,  0.        ,  1.        ]])"
            ]
          },
          "metadata": {},
          "execution_count": 127
        }
      ]
    },
    {
      "cell_type": "code",
      "source": [
        "\"\"\"\n",
        "Calcula la matriz de transformación H como el producto de múltiples matrices de transformación homogéneas\n",
        "y la aplica a un punto en coordenadas homogéneas.\n",
        "\n",
        "- H_1, H_2, H_3, H_4: Matrices de transformación homogéneas que incluyen rotaciones y traslaciones.\n",
        "- H: Matriz de transformación resultante de multiplicar H_1, H_2, H_3 y H_4.\n",
        "- P0_homogeneo: Punto en coordenadas homogéneas que será transformado.\n",
        "- np.dot(H, P0_homogeneo): Producto de la matriz de transformación con el punto en coordenadas homogéneas.\n",
        "\n",
        "Se usa para aplicar una secuencia de transformaciones a un punto en el espacio tridimensional.\n",
        "\"\"\"\n",
        "H = H_1@H_2@H_3@H_4\n",
        "H\n",
        "np.dot(H, P0_homogeneo)"
      ],
      "metadata": {
        "colab": {
          "base_uri": "https://localhost:8080/"
        },
        "id": "M6AbTg22zUxs",
        "outputId": "8f612a25-fec4-4a4b-95c5-13df08c0d20f"
      },
      "id": "M6AbTg22zUxs",
      "execution_count": 128,
      "outputs": [
        {
          "output_type": "execute_result",
          "data": {
            "text/plain": [
              "array([[ 1.35320952],\n",
              "       [ 1.80332018],\n",
              "       [-0.66586599],\n",
              "       [ 1.        ]])"
            ]
          },
          "metadata": {},
          "execution_count": 128
        }
      ]
    },
    {
      "cell_type": "markdown",
      "source": [
        "# **PUNTO 4**"
      ],
      "metadata": {
        "id": "UsbIckfF9d9R"
      },
      "id": "UsbIckfF9d9R"
    },
    {
      "cell_type": "code",
      "source": [
        "\"\"\"\n",
        "Define variables simbólicas para representar los desplazamientos en los ejes X, Y y Z en un espacio tridimensional.\n",
        "\n",
        "- tx: Traslación en el eje X.\n",
        "- ty: Traslación en el eje Y.\n",
        "- tz: Traslación en el eje Z.\n",
        "\n",
        "Se usan en matrices de transformación homogénea para representar traslaciones en el espacio tridimensional.\n",
        "\"\"\"\n",
        "tx = symbols(\"tx\",  real=True)\n",
        "ty = symbols(\"ty\",  real=True)\n",
        "tz = symbols(\"tz\",  real=True)"
      ],
      "metadata": {
        "id": "xHsEPvTf9bj1"
      },
      "id": "xHsEPvTf9bj1",
      "execution_count": 129,
      "outputs": []
    },
    {
      "cell_type": "code",
      "source": [
        "\"\"\"\n",
        "Define la matriz de transformación H_y para una rotación alrededor del eje Y en un espacio tridimensional\n",
        "y luego evalúa la matriz con un valor específico para el ángulo theta.\n",
        "\n",
        "- H_y: Matriz homogénea 4x4 que representa una rotación en el eje Y.\n",
        "- theta: Ángulo de rotación en torno al eje Y.\n",
        "- theta_val: Valor del ángulo theta en radianes.\n",
        "- H_1: Matriz H_y evaluada con el valor específico de theta.\n",
        "\n",
        "Se usa para transformar coordenadas aplicando una rotación alrededor del eje Y sin traslación.\n",
        "\"\"\"\n",
        "H_y = Matrix([[cos(theta), 0, sin(theta), 0], [0, 1, 0, 0], [-sin(theta), 0, cos(theta), 0], [0, 0, 0, 1]])\n",
        "H_y\n",
        "\n",
        "theta_val = np.pi*56/180\n",
        "\n",
        "H_1 = np.array(H_y.subs({theta: theta_val})).astype(np.float64) #Se convierte psi simbolico a un valor concreto\n",
        "H_1"
      ],
      "metadata": {
        "colab": {
          "base_uri": "https://localhost:8080/"
        },
        "id": "yzpPeYxE9hj2",
        "outputId": "4ede2491-f265-46e5-d28e-94b10c54c6f1"
      },
      "id": "yzpPeYxE9hj2",
      "execution_count": 130,
      "outputs": [
        {
          "output_type": "execute_result",
          "data": {
            "text/plain": [
              "array([[ 0.5591929 ,  0.        ,  0.82903757,  0.        ],\n",
              "       [ 0.        ,  1.        ,  0.        ,  0.        ],\n",
              "       [-0.82903757,  0.        ,  0.5591929 ,  0.        ],\n",
              "       [ 0.        ,  0.        ,  0.        ,  1.        ]])"
            ]
          },
          "metadata": {},
          "execution_count": 130
        }
      ]
    },
    {
      "cell_type": "code",
      "source": [
        "\"\"\"\n",
        "Define la matriz de transformación homogénea H_z para una rotación alrededor del eje Z con traslación.\n",
        "\n",
        "- H_z: Matriz homogénea 4x4 que representa una rotación en el eje Z con traslaciones en los ejes X, Y y Z.\n",
        "- psi: Ángulo de rotación en torno al eje Z.\n",
        "- tx: Traslación en el eje X.\n",
        "- ty: Traslación en el eje Y.\n",
        "- tz: Traslación en el eje Z.\n",
        "\n",
        "Se usa en transformaciones espaciales para aplicar una rotación alrededor del eje Z junto con una traslación.\n",
        "\"\"\"\n",
        "H_z = Matrix([[cos(psi), -sin(psi), 0, tx], [sin(psi), cos(psi), 0, ty], [0, 0, 1, tz], [0, 0, 0, 1]])\n",
        "H_z"
      ],
      "metadata": {
        "colab": {
          "base_uri": "https://localhost:8080/",
          "height": 98
        },
        "id": "P8bf6DiHBGiB",
        "outputId": "13d10441-b157-40c2-a796-1984bcb29bcc"
      },
      "id": "P8bf6DiHBGiB",
      "execution_count": 131,
      "outputs": [
        {
          "output_type": "execute_result",
          "data": {
            "text/plain": [
              "⎡cos(ψ)  -sin(ψ)  0  tx⎤\n",
              "⎢                      ⎥\n",
              "⎢sin(ψ)  cos(ψ)   0  ty⎥\n",
              "⎢                      ⎥\n",
              "⎢  0        0     1  tz⎥\n",
              "⎢                      ⎥\n",
              "⎣  0        0     0  1 ⎦"
            ],
            "text/latex": "$\\displaystyle \\left[\\begin{matrix}\\cos{\\left(\\psi \\right)} & - \\sin{\\left(\\psi \\right)} & 0 & tx\\\\\\sin{\\left(\\psi \\right)} & \\cos{\\left(\\psi \\right)} & 0 & ty\\\\0 & 0 & 1 & tz\\\\0 & 0 & 0 & 1\\end{matrix}\\right]$"
          },
          "metadata": {},
          "execution_count": 131
        }
      ]
    },
    {
      "cell_type": "code",
      "source": [
        "\"\"\"\n",
        "Asigna valores específicos a las variables de traslación (tx, ty, tz) y al ángulo de rotación psi para evaluar la matriz H_z.\n",
        "\n",
        "- tx_val, ty_val, tz_val: Valores de traslación en los ejes X, Y y Z.\n",
        "- psi_val: Valor del ángulo psi en radianes (conversión de grados a radianes).\n",
        "- H_2: Matriz de transformación H_z evaluada con los valores específicos.\n",
        "\n",
        "Se usa para obtener una matriz de transformación numérica aplicando una rotación en el eje Z y una traslación.\n",
        "\"\"\"\n",
        "tx_val = 3\n",
        "ty_val = 0\n",
        "tz_val = 0\n",
        "\n",
        "psi_val = np.pi*11/180\n",
        "\n",
        "\n",
        "H_2 = np.array(H_z.subs({tx: tx_val, ty: ty_val, tz: tz_val, psi: psi_val,})).astype(np.float64) #Se convierte psi simbolico a un valor concreto\n",
        "H_2"
      ],
      "metadata": {
        "colab": {
          "base_uri": "https://localhost:8080/"
        },
        "id": "E6SAXI1cCm4z",
        "outputId": "8ea71d34-7fc9-41b7-a224-4488d71fe7ea"
      },
      "id": "E6SAXI1cCm4z",
      "execution_count": 132,
      "outputs": [
        {
          "output_type": "execute_result",
          "data": {
            "text/plain": [
              "array([[ 0.98162718, -0.190809  ,  0.        ,  3.        ],\n",
              "       [ 0.190809  ,  0.98162718,  0.        ,  0.        ],\n",
              "       [ 0.        ,  0.        ,  1.        ,  0.        ],\n",
              "       [ 0.        ,  0.        ,  0.        ,  1.        ]])"
            ]
          },
          "metadata": {},
          "execution_count": 132
        }
      ]
    },
    {
      "cell_type": "code",
      "source": [
        "\"\"\"\n",
        "Define la matriz de transformación homogénea H_z para una rotación alrededor del eje Z sin traslación.\n",
        "\n",
        "- H_z: Matriz homogénea 4x4 que representa una rotación en el eje Z sin desplazamientos en X, Y o Z.\n",
        "- psi: Ángulo de rotación en torno al eje Z.\n",
        "\n",
        "Se utiliza en transformaciones espaciales para aplicar una rotación pura alrededor del eje Z sin traslación.\n",
        "\"\"\"\n",
        "H_z = Matrix([[cos(psi), -sin(psi), 0, 0], [sin(psi), cos(psi), 0, 0], [0, 0, 1, 0], [0, 0, 0, 1]])\n",
        "H_z"
      ],
      "metadata": {
        "colab": {
          "base_uri": "https://localhost:8080/",
          "height": 98
        },
        "id": "rnhJKLhSEZKy",
        "outputId": "7963c9c8-2832-4879-a58f-47448bed1a68"
      },
      "id": "rnhJKLhSEZKy",
      "execution_count": 133,
      "outputs": [
        {
          "output_type": "execute_result",
          "data": {
            "text/plain": [
              "⎡cos(ψ)  -sin(ψ)  0  0⎤\n",
              "⎢                     ⎥\n",
              "⎢sin(ψ)  cos(ψ)   0  0⎥\n",
              "⎢                     ⎥\n",
              "⎢  0        0     1  0⎥\n",
              "⎢                     ⎥\n",
              "⎣  0        0     0  1⎦"
            ],
            "text/latex": "$\\displaystyle \\left[\\begin{matrix}\\cos{\\left(\\psi \\right)} & - \\sin{\\left(\\psi \\right)} & 0 & 0\\\\\\sin{\\left(\\psi \\right)} & \\cos{\\left(\\psi \\right)} & 0 & 0\\\\0 & 0 & 1 & 0\\\\0 & 0 & 0 & 1\\end{matrix}\\right]$"
          },
          "metadata": {},
          "execution_count": 133
        }
      ]
    },
    {
      "cell_type": "code",
      "source": [
        "\"\"\"\n",
        "Sustituye el valor del ángulo psi en la matriz de rotación H_z y la convierte en una matriz numérica.\n",
        "\n",
        "- psi_val: Ángulo de rotación en torno al eje Z, en radianes (negativo indica rotación en sentido horario).\n",
        "- H_3: Matriz de transformación H_z evaluada con el valor específico de psi.\n",
        "\n",
        "Se usa para obtener una matriz de transformación numérica aplicando una rotación en el eje Z sin traslación.\n",
        "\"\"\"\n",
        "psi_val = np.pi*-3/180\n",
        "\n",
        "H_3 = np.array(H_z.subs({psi: psi_val,})).astype(np.float64) #Se convierte psi simbolico a un valor concreto\n",
        "H_3"
      ],
      "metadata": {
        "colab": {
          "base_uri": "https://localhost:8080/"
        },
        "id": "KrRKDWRMEmyb",
        "outputId": "1d1267a0-360f-4542-b755-d58b3e9f3f89"
      },
      "id": "KrRKDWRMEmyb",
      "execution_count": 134,
      "outputs": [
        {
          "output_type": "execute_result",
          "data": {
            "text/plain": [
              "array([[ 0.99862953,  0.05233596,  0.        ,  0.        ],\n",
              "       [-0.05233596,  0.99862953,  0.        ,  0.        ],\n",
              "       [ 0.        ,  0.        ,  1.        ,  0.        ],\n",
              "       [ 0.        ,  0.        ,  0.        ,  1.        ]])"
            ]
          },
          "metadata": {},
          "execution_count": 134
        }
      ]
    },
    {
      "cell_type": "code",
      "source": [
        "\"\"\"\n",
        "Define la matriz de transformación homogénea H_x para una rotación alrededor del eje X y la evalúa con un valor específico de phi.\n",
        "\n",
        "- H_x: Matriz homogénea 4x4 que representa una rotación en el eje X sin traslación.\n",
        "- phi_val: Ángulo de rotación en torno al eje X, convertido a radianes.\n",
        "- H_4: Matriz de transformación H_x evaluada con el valor específico de phi.\n",
        "\n",
        "Se utiliza en transformaciones espaciales para aplicar una rotación pura alrededor del eje X sin traslación.\n",
        "\"\"\"\n",
        "H_x = Matrix([[1, 0, 0, 0], [0, cos(phi), -sin(phi), 0], [0, sin(phi), cos(phi), 0], [0, 0, 0, 1]])\n",
        "H_x\n",
        "phi_val = np.pi*2/180\n",
        "\n",
        "H_4 = np.array(H_x.subs({phi: phi_val,})).astype(np.float64) #Se convierte phi simbolico a un valor concreto\n",
        "H_4\n"
      ],
      "metadata": {
        "colab": {
          "base_uri": "https://localhost:8080/"
        },
        "id": "8lJSjRdfFP5w",
        "outputId": "9ff7850b-4607-401d-cbe0-0c4d145735b5"
      },
      "id": "8lJSjRdfFP5w",
      "execution_count": 135,
      "outputs": [
        {
          "output_type": "execute_result",
          "data": {
            "text/plain": [
              "array([[ 1.        ,  0.        ,  0.        ,  0.        ],\n",
              "       [ 0.        ,  0.99939083, -0.0348995 ,  0.        ],\n",
              "       [ 0.        ,  0.0348995 ,  0.99939083,  0.        ],\n",
              "       [ 0.        ,  0.        ,  0.        ,  1.        ]])"
            ]
          },
          "metadata": {},
          "execution_count": 135
        }
      ]
    },
    {
      "cell_type": "code",
      "source": [
        "\"\"\"\n",
        "Define la matriz de transformación homogénea H_z para una rotación alrededor del eje Z sin traslación.\n",
        "\n",
        "- H_z: Matriz homogénea 4x4 que representa una rotación en el eje Z sin desplazamiento en los ejes X, Y o Z.\n",
        "\n",
        "Se utiliza en transformaciones espaciales para aplicar una rotación pura alrededor del eje Z sin traslación.\n",
        "\"\"\"\n",
        "H_z = Matrix([[cos(psi), -sin(psi), 0, 0], [sin(psi), cos(psi), 0, 0], [0, 0, 1, 0], [0, 0, 0, 1]])\n",
        "H_z"
      ],
      "metadata": {
        "colab": {
          "base_uri": "https://localhost:8080/",
          "height": 98
        },
        "id": "WN_N3GqFFeiZ",
        "outputId": "00c84d88-1c3a-4af6-dbda-bb33f35dccd2"
      },
      "id": "WN_N3GqFFeiZ",
      "execution_count": 136,
      "outputs": [
        {
          "output_type": "execute_result",
          "data": {
            "text/plain": [
              "⎡cos(ψ)  -sin(ψ)  0  0⎤\n",
              "⎢                     ⎥\n",
              "⎢sin(ψ)  cos(ψ)   0  0⎥\n",
              "⎢                     ⎥\n",
              "⎢  0        0     1  0⎥\n",
              "⎢                     ⎥\n",
              "⎣  0        0     0  1⎦"
            ],
            "text/latex": "$\\displaystyle \\left[\\begin{matrix}\\cos{\\left(\\psi \\right)} & - \\sin{\\left(\\psi \\right)} & 0 & 0\\\\\\sin{\\left(\\psi \\right)} & \\cos{\\left(\\psi \\right)} & 0 & 0\\\\0 & 0 & 1 & 0\\\\0 & 0 & 0 & 1\\end{matrix}\\right]$"
          },
          "metadata": {},
          "execution_count": 136
        }
      ]
    },
    {
      "cell_type": "code",
      "source": [
        "\"\"\"\n",
        "Sustituye el valor del ángulo psi en la matriz de transformación H_z y la convierte a tipo float64.\n",
        "\n",
        "- psi_val: Ángulo de rotación en torno al eje Z, convertido a radianes.\n",
        "- H_5: Matriz de transformación H_z evaluada con el valor específico de psi.\n",
        "\n",
        "Esta matriz se usa para aplicar una rotación en el eje Z en transformaciones espaciales.\n",
        "\"\"\"\n",
        "psi_val = np.pi*278/180\n",
        "\n",
        "H_5 = np.array(H_z.subs({psi: psi_val,})).astype(np.float64) #Se convierte psi simbolico a un valor concreto\n",
        "H_5"
      ],
      "metadata": {
        "colab": {
          "base_uri": "https://localhost:8080/"
        },
        "id": "cHpbxVIQFoEm",
        "outputId": "0191c4c9-c470-4e3e-d984-c9f37f050d16"
      },
      "id": "cHpbxVIQFoEm",
      "execution_count": 137,
      "outputs": [
        {
          "output_type": "execute_result",
          "data": {
            "text/plain": [
              "array([[ 0.1391731 ,  0.99026807,  0.        ,  0.        ],\n",
              "       [-0.99026807,  0.1391731 ,  0.        ,  0.        ],\n",
              "       [ 0.        ,  0.        ,  1.        ,  0.        ],\n",
              "       [ 0.        ,  0.        ,  0.        ,  1.        ]])"
            ]
          },
          "metadata": {},
          "execution_count": 137
        }
      ]
    },
    {
      "cell_type": "code",
      "source": [
        "\"\"\"\n",
        "Calcula la matriz de transformación compuesta H mediante el producto de matrices y la aplica a un punto homogéneo.\n",
        "\n",
        "- H: Matriz de transformación homogénea resultante de la multiplicación de H_1, H_2, H_3, H_4 y H_5.\n",
        "- P0_homogeneo: Punto en coordenadas homogéneas al que se le aplicará la transformación.\n",
        "- np.dot(H, P0_homogeneo): Multiplicación de la matriz de transformación H con el punto homogéneo para obtener su nueva posición transformada.\n",
        "\n",
        "Este cálculo se usa en transformaciones espaciales para aplicar una secuencia de rotaciones y traslaciones a un punto en el espacio 3D.\n",
        "\"\"\"\n",
        "H = H_1@H_2@H_3@H_4@H_5\n",
        "H\n",
        "np.dot(H, P0_homogeneo)"
      ],
      "metadata": {
        "colab": {
          "base_uri": "https://localhost:8080/"
        },
        "id": "J9RqBsRhF285",
        "outputId": "b1dea064-b101-4271-de74-32f45dbeed39"
      },
      "id": "J9RqBsRhF285",
      "execution_count": 138,
      "outputs": [
        {
          "output_type": "execute_result",
          "data": {
            "text/plain": [
              "array([[ 2.34457881],\n",
              "       [-0.68511092],\n",
              "       [-3.52909827],\n",
              "       [ 1.        ]])"
            ]
          },
          "metadata": {},
          "execution_count": 138
        }
      ]
    }
  ],
  "metadata": {
    "kernelspec": {
      "display_name": "Python 3 (ipykernel)",
      "language": "python",
      "name": "python3"
    },
    "language_info": {
      "codemirror_mode": {
        "name": "ipython",
        "version": 3
      },
      "file_extension": ".py",
      "mimetype": "text/x-python",
      "name": "python",
      "nbconvert_exporter": "python",
      "pygments_lexer": "ipython3",
      "version": "3.10.12"
    },
    "colab": {
      "provenance": []
    }
  },
  "nbformat": 4,
  "nbformat_minor": 5
}