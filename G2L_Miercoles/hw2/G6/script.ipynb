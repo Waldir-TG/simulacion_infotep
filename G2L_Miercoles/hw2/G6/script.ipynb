{
  "cells": [
    {
      "cell_type": "code",
      "execution_count": 12,
      "metadata": {
        "colab": {
          "base_uri": "https://localhost:8080/",
          "height": 577
        },
        "id": "x8s7ZptjBpe6",
        "outputId": "fe2d38a6-fc29-459e-9a8e-7a07f2766085"
      },
      "outputs": [
        {
          "name": "stdout",
          "output_type": "stream",
          "text": [
            "Norma del punto: 3.0\n",
            "Nuevo punto tras desplazamiento: [1 4]\n",
            "Nuevo punto tras escalado: [2 8]\n",
            "Producto interno con (1, 1): 10\n",
            "Nuevo punto tras rotación: [-4.24264069  7.07106781]\n"
          ]
        },
        {
          "name": "stderr",
          "output_type": "stream",
          "text": [
            "/usr/local/lib/python3.11/dist-packages/matplotlib/animation.py:908: UserWarning: Animation was deleted without rendering anything. This is most likely not intended. To prevent deletion, assign the Animation to a variable, e.g. `anim`, that exists until you output the Animation using `plt.show()` or `anim.save()`.\n",
            "  warnings.warn(\n"
          ]
        },
        {
          "data": {
            "image/png": "[encoded data removed]",
            "text/plain": [
              "<Figure size 640x480 with 1 Axes>"
            ]
          },
          "metadata": {},
          "output_type": "display_data"
        }
      ],
      "source": [
        "import matplotlib.pyplot as plt\n",
        "import numpy as np\n",
        "from matplotlib.animation import FuncAnimation\n",
        "\n",
        "class Escena:\n",
        "    def __init__(self, centro_circulo, radio_circulo, color_circulo, punto_x, punto_y):\n",
        "        self.centro_circulo = np.array(centro_circulo)\n",
        "        self.radio_circulo = radio_circulo\n",
        "        self.color_circulo = color_circulo\n",
        "        self.punto = np.array([punto_x, punto_y])\n",
        "\n",
        "        # Crear la figura y los ejes\n",
        "        self.fig, self.ax = plt.subplots()\n",
        "        self.circulo = plt.Circle(self.centro_circulo, self.radio_circulo, color=self.color_circulo, fill=False)\n",
        "        self.ax.add_patch(self.circulo)\n",
        "        self.punto_plot, = self.ax.plot([], [], 'ro')  # Punto rojo\n",
        "\n",
        "        # Establecer los límites de los ejes\n",
        "        self.ax.set_xlim([self.centro_circulo[0] - self.radio_circulo - 1, self.centro_circulo[0] + self.radio_circulo + 1])\n",
        "        self.ax.set_ylim([self.centro_circulo[1] - self.radio_circulo - 1, self.centro_circulo[1] + self.radio_circulo + 1])\n",
        "        self.ax.set_aspect('equal')\n",
        "\n",
        "        # Dibujar la escena inicialmente\n",
        "        self.dibujar_escena()\n",
        "\n",
        "    def dibujar_escena(self):\n",
        "        \"\"\" Dibuja el punto en su posición actual. \"\"\"\n",
        "        self.punto_plot.set_data([self.punto[0]], [self.punto[1]])  \n",
        "\n",
        "    def desplazar(self, vector):\n",
        "        \"\"\" Desplaza el punto por un vector dado. \"\"\"\n",
        "        self.punto += np.array(vector)\n",
        "\n",
        "    def escalar(self, factor):\n",
        "        \"\"\" Escala la posición del punto respecto al origen. \"\"\"\n",
        "        self.punto *= factor\n",
        "\n",
        "    def norma(self):\n",
        "        \"\"\" Retorna la norma del vector posición del punto. \"\"\"\n",
        "        return np.linalg.norm(self.punto)\n",
        "\n",
        "    def producto_interno(self, otro_vector):\n",
        "        \"\"\" Calcula el producto interno con otro vector. \"\"\"\n",
        "        return np.dot(self.punto, np.array(otro_vector))\n",
        "\n",
        "    def rotar(self, angulo):\n",
        "        \"\"\" Rota el punto alrededor del origen en un ángulo dado (grados). \"\"\"\n",
        "        angulo_rad = np.radians(angulo)\n",
        "        matriz_rotacion = np.array([[np.cos(angulo_rad), -np.sin(angulo_rad)],\n",
        "                                    [np.sin(angulo_rad), np.cos(angulo_rad)]])\n",
        "        self.punto = matriz_rotacion @ self.punto  # Producto matricial\n",
        "\n",
        "    def actualizar(self, frame):\n",
        "        \"\"\" Simula el movimiento del punto en una órbita circular. \"\"\"\n",
        "        angulo = np.radians(frame)  # Convertir el frame en un ángulo\n",
        "        self.punto[0] = self.centro_circulo[0] + self.radio_circulo * np.cos(angulo)\n",
        "        self.punto[1] = self.centro_circulo[1] + self.radio_circulo * np.sin(angulo)\n",
        "        self.dibujar_escena()\n",
        "        return self.punto_plot,\n",
        "\n",
        "    def simular(self):\n",
        "\n",
        "        ani = FuncAnimation(self.fig, self.actualizar, frames=np.arange(0, 360, 5), interval=50)\n",
        "        plt.show()\n",
        "\n",
        "#  Ejemplo de uso:\n",
        "centro = (0, 0)\n",
        "radio = 3\n",
        "color = 'blue'\n",
        "punto_x = 0\n",
        "punto_y = 3  # Inicializa el punto en el borde del círculo\n",
        "\n",
        "mi_escena = Escena(centro, radio, color, punto_x, punto_y)\n",
        "\n",
        "#  Prueba de funciones antes de la simulación\n",
        "print(\"Norma del punto:\", mi_escena.norma())\n",
        "mi_escena.desplazar([1, 1])\n",
        "print(\"Nuevo punto tras desplazamiento:\", mi_escena.punto)\n",
        "mi_escena.escalar(2)\n",
        "print(\"Nuevo punto tras escalado:\", mi_escena.punto)\n",
        "print(\"Producto interno con (1, 1):\", mi_escena.producto_interno([1, 1]))\n",
        "mi_escena.rotar(45)\n",
        "print(\"Nuevo punto tras rotación:\", mi_escena.punto)\n",
        "\n",
        "mi_escena.simular()\n",
        "\n"
      ]
    }
  ],
  "metadata": {
    "colab": {
      "provenance": []
    },
    "kernelspec": {
      "display_name": "Python 3",
      "name": "python3"
    },
    "language_info": {
      "name": "python"
    }
  },
  "nbformat": 4,
  "nbformat_minor": 0
}
