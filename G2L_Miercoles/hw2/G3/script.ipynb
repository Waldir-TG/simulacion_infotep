{
  "nbformat": 4,
  "nbformat_minor": 0,
  "metadata": {
    "colab": {
      "provenance": []
    },
    "kernelspec": {
      "name": "python3",
      "display_name": "Python 3"
    },
    "language_info": {
      "name": "python"
    }
  },
  "cells": [
    {
      "cell_type": "code",
      "source": [],
      "metadata": {
        "id": "gyfhk35PMR3i"
      },
      "execution_count": null,
      "outputs": []
    },
    {
      "cell_type": "code",
      "execution_count": 1,
      "metadata": {
        "colab": {
          "base_uri": "https://localhost:8080/",
          "height": 106
        },
        "id": "4RmMWun_IMz_",
        "outputId": "79f909b8-2923-4b9e-9156-1bd1057b38bc"
      },
      "outputs": [
        {
          "output_type": "error",
          "ename": "SyntaxError",
          "evalue": "incomplete input (<ipython-input-1-824e12cf1ea2>, line 6)",
          "traceback": [
            "\u001b[0;36m  File \u001b[0;32m\"<ipython-input-1-824e12cf1ea2>\"\u001b[0;36m, line \u001b[0;32m6\u001b[0m\n\u001b[0;31m    def __init__(self, radio, color_circulo, posicion_punto):\u001b[0m\n\u001b[0m                                                             ^\u001b[0m\n\u001b[0;31mSyntaxError\u001b[0m\u001b[0;31m:\u001b[0m incomplete input\n"
          ]
        }
      ],
      "source": [
        "import matplotlib.pyplot as plt\n",
        "import numpy as np\n",
        "import time\n",
        "\n",
        "class Escena:\n",
        "    def __init__(self, radio, color_circulo, posicion_punto):"
      ]
    },
    {
      "cell_type": "markdown",
      "source": [
        "Inicializa la escena con un círculo de radio, color y un punto de inicio.\n",
        "        Utiliza un vector para la posición del punto."
      ],
      "metadata": {
        "id": "1rMS6pQPIXOI"
      }
    },
    {
      "cell_type": "code",
      "source": [
        " self.radio = radio  # El radio del círculo\n",
        "        self.color_circulo = color_circulo  # El color del círculo\n",
        "        self.punto = np.array(posicion_punto)  # La posición inicial del punto como vector\n",
        "\n",
        "    def cambiar_escena(self, nuevo_radio, nuevo_color, nueva_posicion)"
      ],
      "metadata": {
        "colab": {
          "base_uri": "https://localhost:8080/",
          "height": 106
        },
        "id": "bmfDGBnuIY8d",
        "outputId": "46b8a296-435f-40b4-94b4-ded34f5e750b"
      },
      "execution_count": 3,
      "outputs": [
        {
          "output_type": "error",
          "ename": "IndentationError",
          "evalue": "unindent does not match any outer indentation level (<tokenize>, line 5)",
          "traceback": [
            "\u001b[0;36m  File \u001b[0;32m\"<tokenize>\"\u001b[0;36m, line \u001b[0;32m5\u001b[0m\n\u001b[0;31m    def cambiar_escena(self, nuevo_radio, nuevo_color, nueva_posicion):\u001b[0m\n\u001b[0m    ^\u001b[0m\n\u001b[0;31mIndentationError\u001b[0m\u001b[0;31m:\u001b[0m unindent does not match any outer indentation level\n"
          ]
        }
      ]
    },
    {
      "cell_type": "markdown",
      "source": [
        " Cambia las propiedades de la escena: radio, color y posición del punto."
      ],
      "metadata": {
        "id": "GiET0l8FIaug"
      }
    },
    {
      "cell_type": "code",
      "source": [
        "self.radio = nuevo_radio\n",
        "        self.color_circulo = nuevo_color\n",
        "        self.punto = np.array(nueva_posicion)\n",
        "\n",
        "    def dibujar_escena(self):"
      ],
      "metadata": {
        "id": "agr5xl6UIdpg"
      },
      "execution_count": null,
      "outputs": []
    },
    {
      "cell_type": "markdown",
      "source": [
        " Dibuja la escena en un gráfico con el círculo y el punto."
      ],
      "metadata": {
        "id": "tqH0yRFjIfuY"
      }
    },
    {
      "cell_type": "code",
      "source": [
        " fig, ax = plt.subplots()\n",
        "        circulo = plt.Circle((0, 0), self.radio, color=self.color_circulo, alpha=0.5)\n",
        "        ax.add_patch(circulo)\n",
        "        ax.plot(self.punto[0], self.punto[1], 'ro', markersize=8)\n",
        "        ax.set_xlim(-self.radio-1, self.radio+1)\n",
        "        ax.set_ylim(-self.radio-1, self.radio+1)\n",
        "        ax.set_aspect('equal')\n",
        "        plt.grid()\n",
        "        plt.show()\n",
        "\n",
        "    def desplazar_punto(self, desplazamiento, direccion):"
      ],
      "metadata": {
        "id": "CZR0clBDIiKo"
      },
      "execution_count": null,
      "outputs": []
    },
    {
      "cell_type": "markdown",
      "source": [
        "Desplaza el punto en la escena en una dirección dada"
      ],
      "metadata": {
        "id": "frDsOxt_Ik8c"
      }
    },
    {
      "cell_type": "code",
      "source": [
        "  if direccion == \"derecha\":\n",
        "            self.punto[0] += desplazamiento\n",
        "        elif direccion == \"izquierda\":\n",
        "            self.punto[0] -= desplazamiento\n",
        "        elif direccion == \"arriba\":\n",
        "            self.punto[1] += desplazamiento\n",
        "        elif direccion == \"abajo\":\n",
        "            self.punto[1] -= desplazamiento\n",
        "        else:\n",
        "            print(\"Dirección no válida\")\n",
        "\n",
        "    def simular(self, velocidad, direccion, pasos=10):"
      ],
      "metadata": {
        "id": "L_pMNUBZJ88A"
      },
      "execution_count": null,
      "outputs": []
    },
    {
      "cell_type": "markdown",
      "source": [
        "Simula el movimiento del punto por un número de pasos dados"
      ],
      "metadata": {
        "id": "hewbnA_LJ_9Y"
      }
    },
    {
      "cell_type": "code",
      "source": [
        "for _ in range(pasos):\n",
        "            self.desplazar_punto(1, direccion)\n",
        "            self.dibujar_escena()\n",
        "            time.sleep(velocidad)\n",
        "\n",
        "    def producto_escalar(self, vector1, vector2):"
      ],
      "metadata": {
        "id": "wtj3TkegKCMj"
      },
      "execution_count": null,
      "outputs": []
    },
    {
      "cell_type": "markdown",
      "source": [
        "Calcula el producto escalar entre dos vectores dados."
      ],
      "metadata": {
        "id": "ZcrXJ_s8KEWh"
      }
    },
    {
      "cell_type": "code",
      "source": [
        " return np.dot(vector1, vector2)\n",
        "\n",
        "    def norma(self)"
      ],
      "metadata": {
        "id": "BK1ql8QpKaO0"
      },
      "execution_count": null,
      "outputs": []
    },
    {
      "cell_type": "markdown",
      "source": [
        " Calcula la norma (módulo) del vector del punto."
      ],
      "metadata": {
        "id": "bQncc3fXKfyR"
      }
    },
    {
      "cell_type": "code",
      "source": [
        "return np.linalg.norm(self.punto)\n",
        "\n",
        "    def rotar_punto(self, angulo):"
      ],
      "metadata": {
        "id": "iuIIuJKGKghC"
      },
      "execution_count": null,
      "outputs": []
    },
    {
      "cell_type": "markdown",
      "source": [
        "Rota el punto alrededor del origen en un ángulo dado (en grados)."
      ],
      "metadata": {
        "id": "ODBnTzvWKiuC"
      }
    },
    {
      "cell_type": "code",
      "source": [
        "theta = np.radians(angulo)  # Convertimos el ángulo a radianes\n",
        "        matriz_rotacion = np.array([\n",
        "            [np.cos(theta), -np.sin(theta)],\n",
        "            [np.sin(theta), np.cos(theta)]\n",
        "        ])\n",
        "        self.punto = matriz_rotacion @ self.punto  # Rotamos el punto\n",
        "        print(f\"Punto después de rotar {angulo}°: {self.punto.round(2)}\")\n",
        "        self.dibujar_escena()  # Mostramos la escena después de la rotación\n",
        "\n",
        "    def producto_interno(self, vector1, vector2):"
      ],
      "metadata": {
        "id": "FzfSE5ATKmsQ"
      },
      "execution_count": null,
      "outputs": []
    },
    {
      "cell_type": "markdown",
      "source": [
        " El producto interno es el mismo que el producto escalar en este contexto"
      ],
      "metadata": {
        "id": "5W5SmjU2K9eE"
      }
    },
    {
      "cell_type": "code",
      "source": [
        " return np.dot(vector1, vector2)"
      ],
      "metadata": {
        "id": "X_G11SAILEC3"
      },
      "execution_count": null,
      "outputs": []
    },
    {
      "cell_type": "code",
      "source": [
        "# Crear la escena inicial con el círculo y el punto\n",
        "escena = Escena(radio=5, color_circulo='blue', posicion_punto=(0, 0))\n",
        "\n",
        "# Inicializamos listas para graficar resultados de las operaciones\n",
        "productos_escalars = []\n",
        "normas = []\n",
        "productos_internos = []\n",
        "puntos_rotados = []\n",
        "\n",
        "# Simulamos el movimiento del punto\n",
        "escena.simular(velocidad=0.5, direccion=\"derecha\", pasos=5)\n",
        "\n",
        "# Realizamos las operaciones y almacenamos los resultados\n",
        "\n",
        "# Producto Escalar\n",
        "vector_referencia = np.array([1, 0])  # Definimos un vector de referencia\n",
        "producto_escalar_resultado = escena.producto_escalar(escena.punto, vector_referencia)\n",
        "productos_escalars.append(producto_escalar_resultado)\n",
        "\n",
        "# Norma\n",
        "norma_resultado = escena.norma()\n",
        "normas.append(norma_resultado)\n",
        "\n",
        "# Producto Interno (igual al producto escalar en 2D)\n",
        "producto_interno_resultado = escena.producto_interno(escena.punto, vector_referencia)\n",
        "productos_internos.append(producto_interno_resultado)\n",
        "\n",
        "# Rotación de punto\n",
        "escena.rotar_punto(45)  # Rotamos el punto 45 grados\n",
        "puntos_rotados.append(escena.punto)\n",
        "\n",
        "# Después de la rotación, realizamos nuevamente el Producto Escalar y la Norma\n",
        "producto_escalar_resultado = escena.producto_escalar(escena.punto, vector_referencia)\n",
        "productos_escalars.append(producto_escalar_resultado)\n",
        "norma_resultado = escena.norma()\n",
        "normas.append(norma_resultado)\n",
        "producto_interno_resultado = escena.producto_interno(escena.punto, vector_referencia)\n",
        "productos_internos.append(producto_interno_resultado)\n",
        "\n",
        "# Ahora graficamos los resultados obtenidos\n",
        "\n",
        "# 1. Producto Escalar\n",
        "plt.figure(figsize=(10, 5))\n",
        "plt.plot(productos_escalars, label=\"Producto Escalar\", marker=\"o\", color='blue')\n",
        "plt.title(\"Evolución del Producto Escalar\")\n",
        "plt.xlabel(\"Operaciones\")\n",
        "plt.ylabel(\"Producto Escalar\")\n",
        "plt.legend()\n",
        "plt.grid(True)\n",
        "plt.show()\n",
        "\n",
        "# 2. Norma\n",
        "plt.figure(figsize=(10, 5))\n",
        "plt.plot(normas, label=\"Norma\", marker=\"o\", color='green')\n",
        "plt.title(\"Evolución de la Norma del Punto\")\n",
        "plt.xlabel(\"Operaciones\")\n",
        "plt.ylabel(\"Norma\")\n",
        "plt.legend()\n",
        "plt.grid(True)\n",
        "plt.show()\n",
        "\n",
        "# 3. Producto Interno\n",
        "plt.figure(figsize=(10, 5))\n",
        "plt.plot(productos_internos, label=\"Producto Interno\", marker=\"o\", color='red')\n",
        "plt.title(\"Evolución del Producto Interno\")\n",
        "plt.xlabel(\"Operaciones\")\n",
        "plt.ylabel(\"Producto Interno\")\n",
        "plt.legend()\n",
        "plt.grid(True)\n",
        "plt.show()\n",
        "\n",
        "# 4. Gráfico de la Rotación del Punto\n",
        "# Visualizamos el punto rotado después de los 45 grados\n",
        "plt.figure(figsize=(8, 8))\n",
        "plt.quiver(0, 0, escena.punto[0], escena.punto[1], angles='xy', scale_units='xy', scale=1, color='purple', label='Punto Rotado')\n",
        "plt.xlim(-escena.radio-1, escena.radio+1)\n",
        "plt.ylim(-escena.radio-1, escena.radio+1)\n",
        "plt.axhline(0, color='black',linewidth=1)\n",
        "plt.axvline(0, color='black',linewidth=1)\n",
        "plt.grid(True)\n",
        "plt.legend()\n",
        "plt.title(\"Rotación del Punto en 45°\")\n",
        "plt.show()"
      ],
      "metadata": {
        "id": "T6Ao9GmNLKOA"
      },
      "execution_count": null,
      "outputs": []
    }
  ]
}