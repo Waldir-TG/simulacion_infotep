{
 "cells": [
  {
   "cell_type": "markdown",
   "id": "a7e43564",
   "metadata": {},
   "source": [
    "# **Matrices Homogeneas en un espacio tridimensional**"
   ]
  },
  {
   "cell_type": "markdown",
   "id": "30407b78",
   "metadata": {},
   "source": [
    "**Docente:** PhD Jorge Rudas\n",
    "\n",
    "**Diseño de prototipos - 2025 I**\n",
    "\n",
    "**INFOTEP**"
   ]
  },
  {
   "cell_type": "code",
   "execution_count": 1,
   "id": "558fe4b4",
   "metadata": {},
   "outputs": [],
   "source": [
    "import numpy as np\n",
    "from sympy import*\n",
    "init_printing()"
   ]
  },
  {
   "cell_type": "markdown",
   "id": "7bb73297",
   "metadata": {},
   "source": [
    "### Declaración de variables simbolicas"
   ]
  },
  {
   "cell_type": "code",
   "execution_count": 2,
   "id": "1e352206",
   "metadata": {},
   "outputs": [],
   "source": [
    "## Variables Simbolicas\n",
    "theta = symbols(\"theta\",  real=True)\n",
    "phi = symbols(\"phi\",  real=True)\n",
    "psi = symbols(\"psi\",  real=True)"
   ]
  },
  {
   "cell_type": "markdown",
   "id": "f95c974c",
   "metadata": {},
   "source": [
    "### Rotacion eje x"
   ]
  },
  {
   "cell_type": "code",
   "execution_count": 3,
   "id": "ff5b4884",
   "metadata": {},
   "outputs": [
    {
     "data": {
      "image/png": "[encoded data removed]",
      "text/latex": [
       "$\\displaystyle \\left[\\begin{matrix}1 & 0 & 0 & 0\\\\0 & \\cos{\\left(\\phi \\right)} & - \\sin{\\left(\\phi \\right)} & 0\\\\0 & \\sin{\\left(\\phi \\right)} & \\cos{\\left(\\phi \\right)} & 0\\\\0 & 0 & 0 & 1\\end{matrix}\\right]$"
      ],
      "text/plain": [
       "⎡1    0        0     0⎤\n",
       "⎢                     ⎥\n",
       "⎢0  cos(φ)  -sin(φ)  0⎥\n",
       "⎢                     ⎥\n",
       "⎢0  sin(φ)  cos(φ)   0⎥\n",
       "⎢                     ⎥\n",
       "⎣0    0        0     1⎦"
      ]
     },
     "execution_count": 3,
     "metadata": {},
     "output_type": "execute_result"
    }
   ],
   "source": [
    "H_x = Matrix([[1, 0, 0, 0], [0, cos(phi), -sin(phi), 0], [0, sin(phi), cos(phi), 0], [0, 0, 0, 1]])\n",
    "H_x"
   ]
  },
  {
   "cell_type": "markdown",
   "id": "300908ee",
   "metadata": {},
   "source": [
    "### Rotacion eje y"
   ]
  },
  {
   "cell_type": "code",
   "execution_count": 4,
   "id": "3c9c6277",
   "metadata": {},
   "outputs": [
    {
     "data": {
      "image/png": "[encoded data removed]",
      "text/latex": [
       "$\\displaystyle \\left[\\begin{matrix}\\cos{\\left(\\theta \\right)} & 0 & \\sin{\\left(\\theta \\right)} & 0\\\\0 & 1 & 0 & 0\\\\- \\sin{\\left(\\theta \\right)} & 0 & \\cos{\\left(\\theta \\right)} & 0\\\\0 & 0 & 0 & 1\\end{matrix}\\right]$"
      ],
      "text/plain": [
       "⎡cos(θ)   0  sin(θ)  0⎤\n",
       "⎢                     ⎥\n",
       "⎢   0     1    0     0⎥\n",
       "⎢                     ⎥\n",
       "⎢-sin(θ)  0  cos(θ)  0⎥\n",
       "⎢                     ⎥\n",
       "⎣   0     0    0     1⎦"
      ]
     },
     "execution_count": 4,
     "metadata": {},
     "output_type": "execute_result"
    }
   ],
   "source": [
    "H_y = Matrix([[cos(theta), 0, sin(theta), 0], [0, 1, 0, 0], [-sin(theta), 0, cos(theta), 0], [0, 0, 0, 1]])\n",
    "H_y\n"
   ]
  },
  {
   "cell_type": "markdown",
   "id": "5ed24efc",
   "metadata": {},
   "source": [
    "### Rotacion eje z"
   ]
  },
  {
   "cell_type": "code",
   "execution_count": 5,
   "id": "46751e12",
   "metadata": {},
   "outputs": [
    {
     "data": {
      "image/png": "[encoded data removed]",
      "text/latex": [
       "$\\displaystyle \\left[\\begin{matrix}\\cos{\\left(\\psi \\right)} & - \\sin{\\left(\\psi \\right)} & 0 & 0\\\\\\sin{\\left(\\psi \\right)} & \\cos{\\left(\\psi \\right)} & 0 & 0\\\\0 & 0 & 1 & 0\\\\0 & 0 & 0 & 1\\end{matrix}\\right]$"
      ],
      "text/plain": [
       "⎡cos(ψ)  -sin(ψ)  0  0⎤\n",
       "⎢                     ⎥\n",
       "⎢sin(ψ)  cos(ψ)   0  0⎥\n",
       "⎢                     ⎥\n",
       "⎢  0        0     1  0⎥\n",
       "⎢                     ⎥\n",
       "⎣  0        0     0  1⎦"
      ]
     },
     "execution_count": 5,
     "metadata": {},
     "output_type": "execute_result"
    }
   ],
   "source": [
    "H_z = Matrix([[cos(psi), -sin(psi), 0, 0], [sin(psi), cos(psi), 0, 0], [0, 0, 1, 0], [0, 0, 0, 1]])\n",
    "H_z"
   ]
  },
  {
   "cell_type": "markdown",
   "id": "4280e6af",
   "metadata": {},
   "source": [
    "### Composicion de Matrices Homogeneas"
   ]
  },
  {
   "cell_type": "markdown",
   "id": "3c3fea59",
   "metadata": {},
   "source": [
    "Probando la conmutatividad de las matrices homogeneas"
   ]
  },
  {
   "cell_type": "code",
   "execution_count": 8,
   "id": "8cdcb123",
   "metadata": {},
   "outputs": [
    {
     "data": {
      "image/png": "[encoded data removed]",
      "text/latex": [
       "$\\displaystyle \\left[\\begin{matrix}\\cos{\\left(\\psi \\right)} \\cos{\\left(\\theta \\right)} & \\sin{\\left(\\phi \\right)} \\sin{\\left(\\theta \\right)} \\cos{\\left(\\psi \\right)} - \\sin{\\left(\\psi \\right)} \\cos{\\left(\\phi \\right)} & \\sin{\\left(\\phi \\right)} \\sin{\\left(\\psi \\right)} + \\sin{\\left(\\theta \\right)} \\cos{\\left(\\phi \\right)} \\cos{\\left(\\psi \\right)} & 0\\\\\\sin{\\left(\\psi \\right)} \\cos{\\left(\\theta \\right)} & \\sin{\\left(\\phi \\right)} \\sin{\\left(\\psi \\right)} \\sin{\\left(\\theta \\right)} + \\cos{\\left(\\phi \\right)} \\cos{\\left(\\psi \\right)} & - \\sin{\\left(\\phi \\right)} \\cos{\\left(\\psi \\right)} + \\sin{\\left(\\psi \\right)} \\sin{\\left(\\theta \\right)} \\cos{\\left(\\phi \\right)} & 0\\\\- \\sin{\\left(\\theta \\right)} & \\sin{\\left(\\phi \\right)} \\cos{\\left(\\theta \\right)} & \\cos{\\left(\\phi \\right)} \\cos{\\left(\\theta \\right)} & 0\\\\0 & 0 & 0 & 1\\end{matrix}\\right]$"
      ],
      "text/plain": [
       "⎡cos(ψ)⋅cos(θ)  sin(φ)⋅sin(θ)⋅cos(ψ) - sin(ψ)⋅cos(φ)  sin(φ)⋅sin(ψ) + sin(θ)⋅c\n",
       "⎢                                                                             \n",
       "⎢sin(ψ)⋅cos(θ)  sin(φ)⋅sin(ψ)⋅sin(θ) + cos(φ)⋅cos(ψ)  -sin(φ)⋅cos(ψ) + sin(ψ)⋅\n",
       "⎢                                                                             \n",
       "⎢   -sin(θ)                sin(φ)⋅cos(θ)                          cos(φ)⋅cos(θ\n",
       "⎢                                                                             \n",
       "⎣      0                         0                                      0     \n",
       "\n",
       "os(φ)⋅cos(ψ)   0⎤\n",
       "                ⎥\n",
       "sin(θ)⋅cos(φ)  0⎥\n",
       "                ⎥\n",
       ")              0⎥\n",
       "                ⎥\n",
       "               1⎦"
      ]
     },
     "execution_count": 8,
     "metadata": {},
     "output_type": "execute_result"
    }
   ],
   "source": [
    "H = H_z@H_y@H_x\n",
    "H"
   ]
  },
  {
   "cell_type": "code",
   "execution_count": 9,
   "id": "663950aa",
   "metadata": {},
   "outputs": [
    {
     "data": {
      "image/png": "[encoded data removed]",
      "text/latex": [
       "$\\displaystyle \\left[\\begin{matrix}\\cos{\\left(\\psi \\right)} \\cos{\\left(\\theta \\right)} & - \\sin{\\left(\\psi \\right)} \\cos{\\left(\\theta \\right)} & \\sin{\\left(\\theta \\right)} & 0\\\\\\sin{\\left(\\phi \\right)} \\sin{\\left(\\theta \\right)} \\cos{\\left(\\psi \\right)} + \\sin{\\left(\\psi \\right)} \\cos{\\left(\\phi \\right)} & - \\sin{\\left(\\phi \\right)} \\sin{\\left(\\psi \\right)} \\sin{\\left(\\theta \\right)} + \\cos{\\left(\\phi \\right)} \\cos{\\left(\\psi \\right)} & - \\sin{\\left(\\phi \\right)} \\cos{\\left(\\theta \\right)} & 0\\\\\\sin{\\left(\\phi \\right)} \\sin{\\left(\\psi \\right)} - \\sin{\\left(\\theta \\right)} \\cos{\\left(\\phi \\right)} \\cos{\\left(\\psi \\right)} & \\sin{\\left(\\phi \\right)} \\cos{\\left(\\psi \\right)} + \\sin{\\left(\\psi \\right)} \\sin{\\left(\\theta \\right)} \\cos{\\left(\\phi \\right)} & \\cos{\\left(\\phi \\right)} \\cos{\\left(\\theta \\right)} & 0\\\\0 & 0 & 0 & 1\\end{matrix}\\right]$"
      ],
      "text/plain": [
       "⎡           cos(ψ)⋅cos(θ)                         -sin(ψ)⋅cos(θ)              \n",
       "⎢                                                                             \n",
       "⎢sin(φ)⋅sin(θ)⋅cos(ψ) + sin(ψ)⋅cos(φ)  -sin(φ)⋅sin(ψ)⋅sin(θ) + cos(φ)⋅cos(ψ)  \n",
       "⎢                                                                             \n",
       "⎢sin(φ)⋅sin(ψ) - sin(θ)⋅cos(φ)⋅cos(ψ)  sin(φ)⋅cos(ψ) + sin(ψ)⋅sin(θ)⋅cos(φ)   \n",
       "⎢                                                                             \n",
       "⎣                 0                                      0                    \n",
       "\n",
       "    sin(θ)      0⎤\n",
       "                 ⎥\n",
       "-sin(φ)⋅cos(θ)  0⎥\n",
       "                 ⎥\n",
       "cos(φ)⋅cos(θ)   0⎥\n",
       "                 ⎥\n",
       "      0         1⎦"
      ]
     },
     "execution_count": 9,
     "metadata": {},
     "output_type": "execute_result"
    }
   ],
   "source": [
    "H = H_x@H_y@H_z\n",
    "H"
   ]
  },
  {
   "cell_type": "markdown",
   "id": "49b4f754",
   "metadata": {},
   "source": [
    "# **Experimento 1**\n",
    "#### Comprobar que una secuencia de rotaciones produce el mismo resultado que una composición de matrices homogeneas"
   ]
  },
  {
   "cell_type": "code",
   "execution_count": 12,
   "id": "a6d54389",
   "metadata": {},
   "outputs": [],
   "source": [
    "P0 = np.array([1, 1, 0])"
   ]
  },
  {
   "cell_type": "markdown",
   "id": "001bc638",
   "metadata": {},
   "source": [
    "1. Probando solo con matrices de rotación en 3D"
   ]
  },
  {
   "cell_type": "code",
   "execution_count": 30,
   "id": "2fef220f",
   "metadata": {},
   "outputs": [
    {
     "data": {
      "image/png": "[encoded data removed]",
      "text/latex": [
       "$\\displaystyle \\left[\\begin{matrix}1 & 0 & 0\\\\0 & \\cos{\\left(\\theta \\right)} & - \\sin{\\left(\\theta \\right)}\\\\0 & \\sin{\\left(\\theta \\right)} & \\cos{\\left(\\theta \\right)}\\end{matrix}\\right]$"
      ],
      "text/plain": [
       "⎡1    0        0   ⎤\n",
       "⎢                  ⎥\n",
       "⎢0  cos(θ)  -sin(θ)⎥\n",
       "⎢                  ⎥\n",
       "⎣0  sin(θ)  cos(θ) ⎦"
      ]
     },
     "execution_count": 30,
     "metadata": {},
     "output_type": "execute_result"
    }
   ],
   "source": [
    "#Matriz de rotacion 3D sobre el eje x\n",
    "R_x = Matrix([[1, 0, 0], [0, cos(theta), -sin(theta)], [0, sin(theta), cos(theta)]])\n",
    "R_x"
   ]
  },
  {
   "cell_type": "code",
   "execution_count": 31,
   "id": "0b784156",
   "metadata": {},
   "outputs": [
    {
     "data": {
      "image/png": "[encoded data removed]",
      "text/latex": [
       "$\\displaystyle \\left[\\begin{matrix}\\cos{\\left(\\theta \\right)} & 0 & \\sin{\\left(\\theta \\right)}\\\\0 & 1 & 0\\\\- \\sin{\\left(\\theta \\right)} & 0 & \\cos{\\left(\\theta \\right)}\\end{matrix}\\right]$"
      ],
      "text/plain": [
       "⎡cos(θ)   0  sin(θ)⎤\n",
       "⎢                  ⎥\n",
       "⎢   0     1    0   ⎥\n",
       "⎢                  ⎥\n",
       "⎣-sin(θ)  0  cos(θ)⎦"
      ]
     },
     "execution_count": 31,
     "metadata": {},
     "output_type": "execute_result"
    }
   ],
   "source": [
    "#Matriz de rotacion 3D sobre el eje y\n",
    "R_y = Matrix([[cos(theta), 0, sin(theta)], [0, 1, 0], [-sin(theta), 0, cos(theta)]])\n",
    "R_y"
   ]
  },
  {
   "cell_type": "code",
   "execution_count": 34,
   "id": "dd57ffb9",
   "metadata": {},
   "outputs": [
    {
     "name": "stdout",
     "output_type": "stream",
     "text": [
      "[ 1.0566704   0.93969262 -0.02062634]\n"
     ]
    }
   ],
   "source": [
    "theta_val = np.pi/9 # 20 grados en radianes\n",
    "R_x_p0 = np.array(R_x.subs({theta: theta_val})).astype(np.float64) #Se convierte theta simbolico a un valor concreto Rx\n",
    "R_y_p0 = np.array(R_y.subs({theta: theta_val})).astype(np.float64) #Se convierte theta simbolico a un valor concreto Ry\n",
    "\n",
    "P0_rotado_x = np.dot(R_x_p0, P0) #Producto punto entre la matrix de rotación y el vector de posición del punto\n",
    "P0_rotado_y = np.dot(R_y_p0, P0_rotado_x) #Producto punto entre la matrix de rotación y el vector de posición del punto\n",
    "\n",
    "print(P0_rotado_y)"
   ]
  },
  {
   "cell_type": "markdown",
   "id": "8ed1acdf",
   "metadata": {},
   "source": [
    "2. Ahora probamos con la composición de matrices homogeneas"
   ]
  },
  {
   "cell_type": "code",
   "execution_count": 13,
   "id": "54f56d28",
   "metadata": {},
   "outputs": [
    {
     "name": "stdout",
     "output_type": "stream",
     "text": [
      "[1 1 0]\n",
      "[[1]\n",
      " [1]\n",
      " [0]\n",
      " [1]]\n"
     ]
    }
   ],
   "source": [
    "#Se convierte el punto 3D a un punto de coordenadas homogeneas\n",
    "\n",
    "P0_homogeneo = np.append(P0, 1)\n",
    "P0_homogeneo = np.reshape(P0_homogeneo, (4, 1))\n",
    "print(P0)\n",
    "print(P0_homogeneo)"
   ]
  },
  {
   "cell_type": "code",
   "execution_count": 39,
   "id": "bf656be2",
   "metadata": {},
   "outputs": [
    {
     "data": {
      "image/png": "[encoded data removed]",
      "text/latex": [
       "$\\displaystyle \\left[\\begin{matrix}\\cos{\\left(\\theta \\right)} & \\sin{\\left(\\phi \\right)} \\sin{\\left(\\theta \\right)} & \\sin{\\left(\\theta \\right)} \\cos{\\left(\\phi \\right)} & 0\\\\0 & \\cos{\\left(\\phi \\right)} & - \\sin{\\left(\\phi \\right)} & 0\\\\- \\sin{\\left(\\theta \\right)} & \\sin{\\left(\\phi \\right)} \\cos{\\left(\\theta \\right)} & \\cos{\\left(\\phi \\right)} \\cos{\\left(\\theta \\right)} & 0\\\\0 & 0 & 0 & 1\\end{matrix}\\right]$"
      ],
      "text/plain": [
       "⎡cos(θ)   sin(φ)⋅sin(θ)  sin(θ)⋅cos(φ)  0⎤\n",
       "⎢                                        ⎥\n",
       "⎢   0        cos(φ)         -sin(φ)     0⎥\n",
       "⎢                                        ⎥\n",
       "⎢-sin(θ)  sin(φ)⋅cos(θ)  cos(φ)⋅cos(θ)  0⎥\n",
       "⎢                                        ⎥\n",
       "⎣   0           0              0        1⎦"
      ]
     },
     "execution_count": 39,
     "metadata": {},
     "output_type": "execute_result"
    }
   ],
   "source": [
    "#Se realiza la composición de las matrices homogeneas para x y y\n",
    "Hxy = H_y@H_x\n",
    "Hxy"
   ]
  },
  {
   "cell_type": "code",
   "execution_count": 40,
   "id": "a6a89f36",
   "metadata": {},
   "outputs": [
    {
     "data": {
      "text/plain": [
       "array([[ 0.93969262,  0.11697778,  0.3213938 ,  0.        ],\n",
       "       [ 0.        ,  0.93969262, -0.34202014,  0.        ],\n",
       "       [-0.34202014,  0.3213938 ,  0.88302222,  0.        ],\n",
       "       [ 0.        ,  0.        ,  0.        ,  1.        ]])"
      ]
     },
     "execution_count": 40,
     "metadata": {},
     "output_type": "execute_result"
    }
   ],
   "source": [
    "theta_val = np.pi/9 # 20 grados en radianes\n",
    "phi_val = np.pi/9 # 20 grados en radianes\n",
    "\n",
    "Hxy_p0 = np.array(Hxy.subs({phi: phi_val, theta: theta_val})).astype(np.float64) #Se convierte theta simbolico a un valor concreto Rx\n",
    "Hxy_p0"
   ]
  },
  {
   "cell_type": "code",
   "execution_count": 41,
   "id": "dff1369b",
   "metadata": {},
   "outputs": [
    {
     "data": {
      "text/plain": [
       "array([[ 1.0566704 ],\n",
       "       [ 0.93969262],\n",
       "       [-0.02062634],\n",
       "       [ 1.        ]])"
      ]
     },
     "execution_count": 41,
     "metadata": {},
     "output_type": "execute_result"
    }
   ],
   "source": [
    "P0_rotado_Hxy = np.dot(Hxy_p0, P0_homogeneo)\n",
    "P0_rotado_Hxy"
   ]
  },
  {
   "cell_type": "markdown",
   "id": "f03001f3",
   "metadata": {},
   "source": [
    "# **Actividad**\n",
    "\n",
    "* Calcule las siguientes matrices homogeneas"
   ]
  },
  {
   "cell_type": "code",
   "execution_count": 52,
   "id": "b1097fd7",
   "metadata": {},
   "outputs": [
    {
     "data": {
      "text/html": [
       "<img src=\"1.png\"/>"
      ],
      "text/plain": [
       "<IPython.core.display.Image object>"
      ]
     },
     "execution_count": 52,
     "metadata": {},
     "output_type": "execute_result"
    }
   ],
   "source": [
    "from IPython.display import Image\n",
    "\n",
    "Image(url='1.png')"
   ]
  },
  {
   "cell_type": "markdown",
   "id": "6bd60533",
   "metadata": {},
   "source": [
    "## Donde:"
   ]
  },
  {
   "cell_type": "code",
   "execution_count": 51,
   "id": "683b1094",
   "metadata": {},
   "outputs": [
    {
     "data": {
      "text/html": [
       "<img src=\"2.png\"/>"
      ],
      "text/plain": [
       "<IPython.core.display.Image object>"
      ]
     },
     "execution_count": 51,
     "metadata": {},
     "output_type": "execute_result"
    }
   ],
   "source": [
    "Image(url='2.png')"
   ]
  },
  {
   "cell_type": "markdown",
   "id": "419c1575",
   "metadata": {},
   "source": [
    "# **Resultados aquí debajo**"
   ]
  },
  {
   "cell_type": "code",
   "execution_count": 9,
   "id": "0cbf4a20",
   "metadata": {},
   "outputs": [
    {
     "data": {
      "text/plain": [
       "array([[ 0.33653069, -0.78073669,  0.52649531,  0.        ],\n",
       "       [ 0.44659131,  0.62455533,  0.64069247,  0.        ],\n",
       "       [-0.82903757,  0.01951555,  0.55885226,  0.        ],\n",
       "       [ 0.        ,  0.        ,  0.        ,  1.        ]])"
      ]
     },
     "execution_count": 9,
     "metadata": {},
     "output_type": "execute_result"
    }
   ],
   "source": [
    "H = H_z@H_y@H_x\n",
    "theta_val = np.pi*56/180 # 20 grados en radianes\n",
    "phi_val = np.pi*2/180\n",
    "psi_val = np.pi*53/180\n",
    "\n",
    "Hzyx = np.array(H.subs({phi: phi_val, theta: theta_val, psi: psi_val})).astype(np.float64) #Se convierte theta simbolico a un valor concreto Rx\n",
    "\n",
    "Hzyx"
   ]
  },
  {
   "cell_type": "code",
   "execution_count": 14,
   "id": "31eb6a91",
   "metadata": {},
   "outputs": [
    {
     "data": {
      "text/plain": [
       "array([[-0.444206  ],\n",
       "       [ 1.07114664],\n",
       "       [-0.80952202],\n",
       "       [ 1.        ]])"
      ]
     },
     "execution_count": 14,
     "metadata": {},
     "output_type": "execute_result"
    }
   ],
   "source": [
    "np.dot(Hzyx, P0_homogeneo)"
   ]
  },
  {
   "cell_type": "markdown",
   "id": "6267ac60",
   "metadata": {},
   "source": []
  }
 ],
 "metadata": {
  "kernelspec": {
   "display_name": "Python 3 (ipykernel)",
   "language": "python",
   "name": "python3"
  },
  "language_info": {
   "codemirror_mode": {
    "name": "ipython",
    "version": 3
   },
   "file_extension": ".py",
   "mimetype": "text/x-python",
   "name": "python",
   "nbconvert_exporter": "python",
   "pygments_lexer": "ipython3",
   "version": "3.10.12"
  }
 },
 "nbformat": 4,
 "nbformat_minor": 5
}
