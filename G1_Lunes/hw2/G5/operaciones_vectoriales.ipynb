{
  "nbformat": 4,
  "nbformat_minor": 0,
  "metadata": {
    "colab": {
      "provenance": []
    },
    "kernelspec": {
      "name": "python3",
      "display_name": "Python 3"
    },
    "language_info": {
      "name": "python"
    }
  },
  "cells": [
    {
      "cell_type": "markdown",
      "source": [
        "**Se tomo el mismo proyecto de operaciones con el punto y se trabajo con el**"
      ],
      "metadata": {
        "id": "iv-w6j4n-cMX"
      }
    },
    {
      "cell_type": "code",
      "source": [
        "import numpy as np\n",
        "import matplotlib.pyplot as plt"
      ],
      "metadata": {
        "id": "ESOW4nZ2-bDv"
      },
      "execution_count": 24,
      "outputs": []
    },
    {
      "cell_type": "code",
      "source": [
        "class Simulacion:\n",
        "    \"\"\"\n",
        "    Simulación para el desplazamiento, rotación y cálculo de vectores dentro de un área rectangular fijo de 10x10 unidades.\n",
        "\n",
        "    Parametros:\n",
        "        punto (list): Las coordenadas iniciales del punto en el espacio 2D (ej. [x, y]).\n",
        "        color_rectangulo (str): Color del rectángulo que representa el área (por defecto 'blue').\n",
        "    \"\"\"\n",
        "\n",
        "    def __init__(self, punto, color_rectangulo='blue'):\n",
        "        self.ancho = 10  # El área rectangular tendrá un ancho fijo de 10 unidades\n",
        "        self.alto = 10   # El área rectangular tendrá un alto fijo de 10 unidades\n",
        "        self.punto = np.array(punto)  # Inicializamos el punto como un array de NumPy para fácil manipulación\n",
        "        self.color_rectangulo = color_rectangulo  # Color del rectángulo\n",
        "\n",
        "    def desplazar_punto(self, x, direccion):\n",
        "        \"\"\"\n",
        "        Desplaza el punto dentro del área rectangular en la dirección dada.\n",
        "\n",
        "        Parametros:\n",
        "            x (int): Distancia que se moverá el punto.\n",
        "            direccion (str): Dirección del desplazamiento ('derecha', 'izquierda', 'arriba', 'abajo').\n",
        "\n",
        "        Modifica:\n",
        "            El atributo 'punto' con las nuevas coordenadas del punto después del desplazamiento.\n",
        "        \"\"\"\n",
        "        desplazamiento = np.array([0, 0])  # Inicializamos el desplazamiento como un vector nulo\n",
        "\n",
        "        # Dependiendo de la dirección, cambiamos las coordenadas del desplazamiento\n",
        "        if direccion == 'derecha':\n",
        "            desplazamiento[0] = x\n",
        "        elif direccion == 'izquierda':\n",
        "            desplazamiento[0] = -x\n",
        "        elif direccion == 'arriba':\n",
        "            desplazamiento[1] = x\n",
        "        elif direccion == 'abajo':\n",
        "            desplazamiento[1] = -x\n",
        "        else:\n",
        "            print(\"Dirección no válida.\")\n",
        "            return\n",
        "\n",
        "        # Aplicamos el desplazamiento y nos aseguramos de que el punto no se salga del área\n",
        "        self.punto = np.clip(self.punto + desplazamiento, [0, 0], [self.ancho, self.alto])\n",
        "\n",
        "    def producto_interno(self, vector1, vector2):\n",
        "        \"\"\"\n",
        "        Calcula el producto interno entre dos vectores.\n",
        "\n",
        "        Parametros:\n",
        "            vector1 (numpy.ndarray): Primer vector.\n",
        "            vector2 (numpy.ndarray): Segundo vector.\n",
        "\n",
        "        Retorna:\n",
        "            float: El resultado del producto escalar entre los dos vectores.\n",
        "        \"\"\"\n",
        "        return np.dot(vector1, vector2)  # Calculamos el producto escalar usando np.dot\n",
        "\n",
        "    def norma_vectorial(self, vector):\n",
        "        \"\"\"\n",
        "        Calcula la norma o magnitud de un vector.\n",
        "\n",
        "        Parametros:\n",
        "            vector (numpy.ndarray): El vector cuya norma se quiere calcular.\n",
        "\n",
        "        Retorna:\n",
        "            float: La norma del vector (longitud del vector).\n",
        "        \"\"\"\n",
        "        return np.linalg.norm(vector)  # Calculamos la norma usando np.linalg.norm\n",
        "\n",
        "    def rotar_vector(self, vector, angulo):\n",
        "        \"\"\"\n",
        "        Rota un vector en el plano 2D por un ángulo dado en grados.\n",
        "\n",
        "        Parametros:\n",
        "            vector (numpy.ndarray): El vector que se va a rotar.\n",
        "            angulo (float): El ángulo de rotación en grados.\n",
        "\n",
        "        Retorna:\n",
        "            numpy.ndarray: El vector rotado.\n",
        "        \"\"\"\n",
        "        angulo_rad = np.radians(angulo)  # Convertimos el ángulo de grados a radianes\n",
        "        # Matriz de rotación 2x2 para rotar el vector\n",
        "        rotacion_matrix = np.array([[np.cos(angulo_rad), -np.sin(angulo_rad)],\n",
        "                                    [np.sin(angulo_rad), np.cos(angulo_rad)]])\n",
        "        # Multiplicamos la matriz de rotación por el vector para obtener el nuevo vector rotado\n",
        "        return np.dot(rotacion_matrix, vector)\n",
        "\n",
        "    def graficar_vector_rotado(self, vector, angulo_rotacion):\n",
        "        \"\"\"\n",
        "        Grafica el vector original y su versión rotada, con el plano cartesiano visible.\n",
        "\n",
        "        Parametros:\n",
        "            vector (numpy.ndarray): El vector que se va a graficar.\n",
        "            angulo_rotacion (float): Ángulo de rotación (en grados).\n",
        "        \"\"\"\n",
        "        # Crear la figura\n",
        "        fig, ax = plt.subplots()\n",
        "\n",
        "        # Establecer los límites de los ejes\n",
        "        ax.set_xlim(-10, 10)  # Usamos 10 unidades fijas en X\n",
        "        ax.set_ylim(-10, 10)  # Usamos 10 unidades fijas en Y\n",
        "\n",
        "        # Dibujar el plano cartesiano\n",
        "        ax.axhline(0, color='black',linewidth=1)  # Eje X\n",
        "        ax.axvline(0, color='black',linewidth=1)  # Eje Y\n",
        "        ax.set_xticks(np.arange(-10, 11, 1))  # Establecemos las marcas en el eje X\n",
        "        ax.set_yticks(np.arange(-10, 11, 1))  # Establecemos las marcas en el eje Y\n",
        "        ax.grid(True, which='both')  # Habilitamos la cuadrícula\n",
        "\n",
        "        # Dibujar el vector original\n",
        "        ax.quiver(0, 0, vector[0], vector[1], angles='xy', scale_units='xy', scale=1, color=\"blue\", label=\"Vector Original\")\n",
        "\n",
        "        # Rotar el vector y dibujar el vector rotado\n",
        "        vector_rotado = self.rotar_vector(vector, angulo_rotacion)\n",
        "        ax.quiver(0, 0, vector_rotado[0], vector_rotado[1], angles='xy', scale_units='xy', scale=1, color=\"red\", label=f\"Vector Rotado ({angulo_rotacion}°)\")\n",
        "\n",
        "        # Establecer título y leyenda\n",
        "        ax.set_title(\"Vector Original y Vector Rotado\")\n",
        "        ax.legend()\n",
        "\n",
        "        # Mostrar el gráfico\n",
        "        plt.show()"
      ],
      "metadata": {
        "id": "5zq_eS73Fl7l"
      },
      "execution_count": 25,
      "outputs": []
    },
    {
      "cell_type": "code",
      "source": [
        "# Vectores de ejemplo\n",
        "vector1 = np.array([1, 2])\n",
        "vector2 = np.array([3, 4])\n",
        "\n",
        "# Usamos el método para calcular el producto interno\n",
        "producto = sim.producto_interno(vector1, vector2)\n",
        "\n",
        "# Imprimir el resultado\n",
        "print(\"Producto interno de vector1 y vector2:\", producto)"
      ],
      "metadata": {
        "colab": {
          "base_uri": "https://localhost:8080/"
        },
        "id": "z-9n8-5cfbqD",
        "outputId": "90d5d396-4784-4c9d-dee9-fe8655630d19"
      },
      "execution_count": 26,
      "outputs": [
        {
          "output_type": "stream",
          "name": "stdout",
          "text": [
            "Producto interno de vector1 y vector2: 11\n"
          ]
        }
      ]
    },
    {
      "cell_type": "code",
      "source": [
        "# Vector de ejemplo\n",
        "vector = np.array([3, 4])\n",
        "\n",
        "# Usamos el método para calcular la norma del vector\n",
        "norma = sim.norma_vectorial(vector)\n",
        "\n",
        "# Imprimir el resultado\n",
        "print(\"Norma del vector:\", norma)"
      ],
      "metadata": {
        "colab": {
          "base_uri": "https://localhost:8080/"
        },
        "id": "uP4fVKxkAqOK",
        "outputId": "a10c1bef-aa4c-49ab-c4cc-20c91d7bb8bc"
      },
      "execution_count": 27,
      "outputs": [
        {
          "output_type": "stream",
          "name": "stdout",
          "text": [
            "Norma del vector: 5.0\n"
          ]
        }
      ]
    },
    {
      "cell_type": "code",
      "source": [
        "sim = Simulacion([5, 5])  # Creamos la simulación con el punto en [5, 5]\n",
        "\n",
        "# Vector de ejemplo\n",
        "vector = np.array([5, 5])\n",
        "\n",
        "# Ángulo de rotación\n",
        "angulo = 45\n",
        "\n",
        "# Llamar al método para graficar el vector original y el rotado\n",
        "sim.graficar_vector_rotado(vector, angulo)"
      ],
      "metadata": {
        "colab": {
          "base_uri": "https://localhost:8080/",
          "height": 452
        },
        "id": "Hd_xFOpPAvqJ",
        "outputId": "803c4242-56c6-49d9-da53-7b36e4dda5f6"
      },
      "execution_count": 28,
      "outputs": [
        {
          "output_type": "display_data",
          "data": {
            "text/plain": [
              "<Figure size 640x480 with 1 Axes>"
            ],
            "image/png": "[encoded data removed]"
          },
          "metadata": {}
        }
      ]
    }
  ]
}