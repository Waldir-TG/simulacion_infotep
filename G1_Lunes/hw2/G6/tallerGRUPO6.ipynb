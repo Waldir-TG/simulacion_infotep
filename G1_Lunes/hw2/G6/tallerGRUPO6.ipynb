{
  "nbformat": 4,
  "nbformat_minor": 0,
  "metadata": {
    "colab": {
      "provenance": []
    },
    "kernelspec": {
      "name": "python3",
      "display_name": "Python 3"
    },
    "language_info": {
      "name": "python"
    }
  },
  "cells": [
    {
      "cell_type": "code",
      "source": [
        "import matplotlib.pyplot as plt\n",
        "import numpy as np\n",
        "\n",
        "class Escena:\n",
        "    def __init__(self, fondo_color=\"blue\", punto_color=\"red\", punto_posicion=np.array([0, 0]), fondo_dimensiones=(10, 10)):\n",
        "        self.fondo_color = fondo_color\n",
        "        self.punto_color = punto_color\n",
        "        self.punto_posicion = punto_posicion.astype(float)\n",
        "        self.fondo_dimensiones = np.array(fondo_dimensiones, dtype=float)\n",
        "\n",
        "    def mostrar(self):\n",
        "        \"\"\"Muestra la escena con el fondo y el punto correctamente visibles.\"\"\"\n",
        "        fig, ax = plt.subplots()\n",
        "\n",
        "        # Ajustar los límites del gráfico para incluir el fondo y el punto\n",
        "        x_min = min(0, self.punto_posicion[0]) - 5\n",
        "        x_max = max(self.fondo_dimensiones[0], self.punto_posicion[0]) + 5\n",
        "        y_min = min(0, self.punto_posicion[1]) - 5\n",
        "        y_max = max(self.fondo_dimensiones[1], self.punto_posicion[1]) + 5\n",
        "\n",
        "        ax.set_xlim(x_min, x_max)\n",
        "        ax.set_ylim(y_min, y_max)\n",
        "\n",
        "        # Dibujar fondo (cuadrado azul en la esquina superior izquierda)\n",
        "        ax.add_patch(plt.Rectangle((0, 0), self.fondo_dimensiones[0], self.fondo_dimensiones[1], color=self.fondo_color))\n",
        "\n",
        "        # Dibujar el punto rojo en la nueva posición\n",
        "        ax.plot(self.punto_posicion[0], self.punto_posicion[1], 'o', color=self.punto_color, markersize=8)\n",
        "\n",
        "        ax.set_aspect('equal', 'box')\n",
        "        plt.grid(True)  # Agregar cuadrícula para referencia visual\n",
        "        plt.show()\n",
        "\n",
        "    def desplazar_punto(self, vector_desplazamiento):\n",
        "        \"\"\"Desplaza el punto según un vector.\"\"\"\n",
        "        self.punto_posicion += vector_desplazamiento\n",
        "\n",
        "    def escalar_vector(self, escalar):\n",
        "        \"\"\"Escala el vector de desplazamiento.\"\"\"\n",
        "        self.punto_posicion *= escalar\n",
        "\n",
        "    def producto_interno(self, otro_vector):\n",
        "        \"\"\"Calcula el producto interno entre el vector dirección y otro vector.\"\"\"\n",
        "        return np.dot(self.punto_posicion, otro_vector)\n",
        "\n",
        "    def norma_vectorial(self, vector):\n",
        "        \"\"\"Calcula la norma de un vector.\"\"\"\n",
        "        return np.linalg.norm(vector)\n",
        "\n",
        "    def rotar_punto(self, angulo):\n",
        "        \"\"\"Rota el punto alrededor del origen.\"\"\"\n",
        "        angulo_rad = np.deg2rad(angulo)\n",
        "        matriz_rotacion = np.array([[np.cos(angulo_rad), -np.sin(angulo_rad)],\n",
        "                                    [np.sin(angulo_rad), np.cos(angulo_rad)]])\n",
        "        self.punto_posicion = np.dot(matriz_rotacion, self.punto_posicion)\n",
        "\n",
        "# Definición de datos\n",
        "vector_direccion = np.array([4, -8])\n",
        "escalar = 10\n",
        "punto_inicial = np.array([36, 16])  # Punto inicial\n",
        "\n",
        "# Crear la escena y aplicar operaciones\n",
        "escena = Escena(punto_posicion=punto_inicial)\n",
        "\n",
        "# Escalar el vector y mover el punto\n",
        "vector_escalado = vector_direccion * escalar\n",
        "escena.punto_posicion += vector_escalado\n",
        "\n",
        "# Cálculo de producto interno y normas\n",
        "vector_referencia = np.array([1, 1])\n",
        "producto = escena.producto_interno(vector_referencia)\n",
        "norma_direccion = escena.norma_vectorial(vector_direccion)\n",
        "norma_referencia = escena.norma_vectorial(vector_referencia)\n",
        "\n",
        "# Imprimir resultados\n",
        "print(f\"Vector dirección: {vector_direccion.tolist()}\")\n",
        "print(f\"Escalar: {escalar}\")\n",
        "print(f\"Posición nueva: {escena.punto_posicion.astype(int).tolist()}\")\n",
        "print(f\"Producto interno: {producto:.2f}\")\n",
        "print(f\"Norma del vector dirección: {norma_direccion:.2f}\")\n",
        "print(f\"Norma del vector referencia: {norma_referencia:.2f}\")\n",
        "print(f\"Rotación: 0°\")\n",
        "\n",
        "# Mostrar la escena con el fondo y el punto corregidos\n",
        "escena.mostrar()\n"
      ],
      "metadata": {
        "colab": {
          "base_uri": "https://localhost:8080/",
          "height": 551
        },
        "id": "d1ugXRqbKZzk",
        "outputId": "79490bc0-2be6-4d76-a526-3b375d0098ca"
      },
      "execution_count": 9,
      "outputs": [
        {
          "output_type": "stream",
          "name": "stdout",
          "text": [
            "Vector dirección: [4, -8]\n",
            "Escalar: 10\n",
            "Posición nueva: [76, -64]\n",
            "Producto interno: 12.00\n",
            "Norma del vector dirección: 8.94\n",
            "Norma del vector referencia: 1.41\n",
            "Rotación: 0°\n"
          ]
        },
        {
          "output_type": "display_data",
          "data": {
            "text/plain": [
              "<Figure size 640x480 with 1 Axes>"
            ],
            "image/png": "[encoded data removed]"
          },
          "metadata": {}
        }
      ]
    }
  ]
}