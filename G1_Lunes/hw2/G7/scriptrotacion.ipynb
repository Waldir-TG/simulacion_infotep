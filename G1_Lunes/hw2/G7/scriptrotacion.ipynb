{
  "nbformat": 4,
  "nbformat_minor": 0,
  "metadata": {
    "colab": {
      "provenance": []
    },
    "kernelspec": {
      "name": "python3",
      "display_name": "Python 3"
    },
    "language_info": {
      "name": "python"
    }
  },
  "cells": [
    {
      "cell_type": "markdown",
      "source": [
        "**Definición de la clase Escena2D**"
      ],
      "metadata": {
        "id": "mALaXXxnDSFj"
      }
    },
    {
      "cell_type": "code",
      "source": [
        "import numpy as np\n",
        "import matplotlib.pyplot as plt\n",
        "from matplotlib.animation import FuncAnimation\n",
        "\n",
        "class Escena2D:\n",
        "    def __init__(self, radio, color='blue', punto_inicial=(0, 0)):\n",
        "        self.radio = radio\n",
        "        self.color = color\n",
        "        self.centro = np.array([0, 0])\n",
        "        self.punto = np.array(punto_inicial, dtype=np.float64)\n",
        "        self._generar_circulo()\n",
        "\n",
        "    def _generar_circulo(self):\n",
        "        # Genera las coordenadas del círculo\n",
        "        t = np.linspace(0, 2 * np.pi, 300)\n",
        "        self.circulo_x = self.centro[0] + self.radio * np.cos(t)\n",
        "        self.circulo_y = self.centro[1] + self.radio * np.sin(t)\n",
        "\n",
        "    def actualizar_escena(self, radio=None, color=None, punto_inicial=None):\n",
        "        # Permite actualizar los parámetros de la escena\n",
        "        if radio is not None:\n",
        "            self.radio = radio\n",
        "            self._generar_circulo()\n",
        "        if color is not None:\n",
        "            self.color = color\n",
        "        if punto_inicial is not None:\n",
        "            self.punto = np.array(punto_inicial, dtype=np.float64)\n",
        "\n",
        "    def dibujar_escena(self, mostrar_texto=False):\n",
        "        # Dibuja la escena: círculo, ejes y punto\n",
        "        fig, ax = plt.subplots(figsize=(6,6))\n",
        "        ax.plot(self.circulo_x, self.circulo_y, color=self.color, lw=2, label='Circunferencia')\n",
        "        # Dibujar ejes\n",
        "        lim = self.radio * 1.5\n",
        "        ax.plot([-lim, lim], [0, 0], 'k--', lw=1)\n",
        "        ax.plot([0, 0], [-lim, lim], 'k--', lw=1)\n",
        "        ax.scatter(self.punto[0], self.punto[1], color='red', s=100, label='Punto')\n",
        "        if mostrar_texto:\n",
        "            ax.text(0.05, 0.95, f'Punto: {self.punto.round(2)}', transform=ax.transAxes,\n",
        "                    fontsize=12, verticalalignment='top')\n",
        "        ax.set_aspect('equal')\n",
        "        ax.set_xlim(-lim, lim)\n",
        "        ax.set_ylim(-lim, lim)\n",
        "        ax.set_title('Escena 2D')\n",
        "        ax.legend()\n",
        "        ax.grid(True)\n",
        "        plt.show()\n",
        "\n",
        "    def desplazar(self, magnitud, direccion):\n",
        "        # Desplaza el punto en una de las cuatro direcciones\n",
        "        vectores = {\n",
        "            'derecha': np.array([magnitud, 0]),\n",
        "            'izquierda': np.array([-magnitud, 0]),\n",
        "            'arriba': np.array([0, magnitud]),\n",
        "            'abajo': np.array([0, -magnitud])\n",
        "        }\n",
        "        if direccion in vectores:\n",
        "            self.punto += vectores[direccion]\n",
        "        else:\n",
        "            print(\"Dirección no válida. Usa: 'derecha', 'izquierda', 'arriba' o 'abajo'.\")\n",
        "\n",
        "    def simular_movimiento(self, velocidad, direccion, frames=30, intervalo=100):\n",
        "        # Anima el movimiento del punto en la dirección indicada\n",
        "        fig, ax = plt.subplots(figsize=(6,6))\n",
        "        lim = self.radio * 1.5\n",
        "        ax.set_xlim(-lim, lim)\n",
        "        ax.set_ylim(-lim, lim)\n",
        "        ax.set_aspect('equal')\n",
        "        ax.plot(self.circulo_x, self.circulo_y, color=self.color, lw=2, label='Circunferencia')\n",
        "        ax.plot([-lim, lim], [0, 0], 'k--', lw=1)\n",
        "        ax.plot([0, 0], [-lim, lim], 'k--', lw=1)\n",
        "        scatter = ax.scatter(self.punto[0], self.punto[1], color='red', s=100, label='Punto')\n",
        "        ax.set_title('Simulación de Movimiento')\n",
        "        ax.legend()\n",
        "        ax.grid(True)\n",
        "\n",
        "        vectores = {\n",
        "            'derecha': np.array([velocidad, 0]),\n",
        "            'izquierda': np.array([-velocidad, 0]),\n",
        "            'arriba': np.array([0, velocidad]),\n",
        "            'abajo': np.array([0, -velocidad])\n",
        "        }\n",
        "        delta = vectores.get(direccion, np.array([0, 0]))\n",
        "\n",
        "        def actualizar(frame):\n",
        "            self.punto += delta\n",
        "            scatter.set_offsets(self.punto)\n",
        "            return scatter,\n",
        "\n",
        "        anim = FuncAnimation(fig, actualizar, frames=frames, interval=intervalo, blit=True)\n",
        "        plt.show()\n",
        "\n",
        "    def escalar(self, factor):\n",
        "        # Escala las coordenadas del punto por un factor\n",
        "        self.punto = self.punto * factor\n",
        "\n",
        "    def producto_escalar(self, otro_vector):\n",
        "        # Calcula el producto escalar (dot product) entre el punto y otro vector\n",
        "        otro_vector = np.array(otro_vector, dtype=np.float64)\n",
        "        return np.dot(self.punto, otro_vector)\n",
        "\n",
        "    def calcular_norma(self):\n",
        "        # Calcula la norma (magnitud) del punto\n",
        "        return np.linalg.norm(self.punto)\n",
        "\n",
        "    def rotar(self, angulo):\n",
        "        # Rota el punto alrededor del origen (centro del círculo) en grados\n",
        "        rad = np.radians(angulo)\n",
        "        R = np.array([[np.cos(rad), -np.sin(rad)],\n",
        "                      [np.sin(rad),  np.cos(rad)]])\n",
        "        self.punto = R @ self.punto\n"
      ],
      "metadata": {
        "id": "4zTo0EuvDT1e"
      },
      "execution_count": 14,
      "outputs": []
    },
    {
      "cell_type": "markdown",
      "source": [
        "**rueba de operaciones (desplazar, simular, escalar, producto escalar, norma y rotar)**"
      ],
      "metadata": {
        "id": "aVV9Eow-DZF4"
      }
    },
    {
      "cell_type": "code",
      "source": [
        "# Instanciar la escena con radio 5, color azul y punto inicial (2, 3)\n",
        "escena = Escena2D(5, 'blue', (2, 3))\n",
        "\n",
        "# Mostrar la escena inicial\n",
        "escena.dibujar_escena(mostrar_texto=True)\n",
        "\n",
        "# 1. Desplazar el punto 1 unidad a la derecha y mostrar el resultado\n",
        "escena.desplazar(1, 'derecha')\n",
        "print(\"Después de desplazar a la derecha:\", escena.punto.round(2))\n",
        "escena.dibujar_escena(mostrar_texto=True)\n",
        "\n",
        "# 2. Simular movimiento: desplazar 0.5 unidades hacia arriba durante 20 frames\n",
        "escena.simular_movimiento(0.5, 'arriba', frames=20, intervalo=200)\n",
        "\n",
        "# 3. Escalar el punto (multiplicar por 2)\n",
        "escena.escalar(2)\n",
        "print(\"Después de escalar x2:\", escena.punto.round(2))\n",
        "escena.dibujar_escena(mostrar_texto=True)\n",
        "\n",
        "# 4. Calcular el producto escalar con el vector (1, 1)\n",
        "prod_esc = escena.producto_escalar((1, 1))\n",
        "print(\"Producto escalar con (1,1):\", round(prod_esc, 2))\n",
        "\n",
        "# 5. Calcular la norma del punto\n",
        "norma = escena.calcular_norma()\n",
        "print(\"Norma del punto:\", round(norma, 2))\n",
        "\n",
        "# 6. Rotar el punto 45 grados y mostrar el resultado\n",
        "escena.rotar(45)\n",
        "print(\"Después de rotar 45°:\", escena.punto.round(2))\n",
        "escena.dibujar_escena(mostrar_texto=True)\n"
      ],
      "metadata": {
        "id": "pvw0sVQ6DbRt"
      },
      "execution_count": null,
      "outputs": []
    },
    {
      "cell_type": "markdown",
      "source": [
        "**Visualización consolidada de resultados en texto y gráfica**"
      ],
      "metadata": {
        "id": "ZQB3dVdzDe-Y"
      }
    },
    {
      "cell_type": "code",
      "source": [
        "# Este bloque muestra nuevamente la escena y reporta los resultados de las operaciones\n",
        "\n",
        "# Resetear la escena a un estado inicial conocido\n",
        "escena.actualizar_escena(radio=5, color='green', punto_inicial=(2, 3))\n",
        "print(\"Escena reseteada a:\")\n",
        "print(\" - Radio:\", escena.radio)\n",
        "print(\" - Color:\", escena.color)\n",
        "print(\" - Punto inicial:\", escena.punto.round(2))\n",
        "escena.dibujar_escena(mostrar_texto=True)\n",
        "\n",
        "# Operación: Desplazar, escalar, rotar y luego mostrar resultados\n",
        "escena.desplazar(1.5, 'izquierda')\n",
        "print(\"Después de desplazar 1.5 unidades a la izquierda:\", escena.punto.round(2))\n",
        "escena.escalar(1.5)\n",
        "print(\"Después de escalar x1.5:\", escena.punto.round(2))\n",
        "escena.rotar(30)\n",
        "print(\"Después de rotar 30°:\", escena.punto.round(2))\n",
        "\n",
        "# Mostrar valores finales\n",
        "prod_esc = escena.producto_escalar((1, 0))\n",
        "norma = escena.calcular_norma()\n",
        "print(\"Producto escalar con (1,0):\", round(prod_esc, 2))\n",
        "print(\"Norma final del punto:\", round(norma, 2))\n",
        "\n",
        "# Mostrar la escena final con los valores del punto en el gráfico\n",
        "escena.dibujar_escena(mostrar_texto=True)\n"
      ],
      "metadata": {
        "id": "O7jfBkD-Df_i"
      },
      "execution_count": null,
      "outputs": []
    }
  ]
}