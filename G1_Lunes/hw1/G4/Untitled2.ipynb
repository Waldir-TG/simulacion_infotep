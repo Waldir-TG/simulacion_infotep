{
  "nbformat": 4,
  "nbformat_minor": 0,
  "metadata": {
    "colab": {
      "provenance": [],
      "collapsed_sections": [
        "1TSXP9jZIN_b",
        "ioNGaKZ5KC5z"
      ]
    },
    "kernelspec": {
      "name": "python3",
      "display_name": "Python 3"
    },
    "language_info": {
      "name": "python"
    }
  },
  "cells": [
    {
      "cell_type": "markdown",
      "source": [
        "# Simulación de un Rectangulo con Punto en 2D"
      ],
      "metadata": {
        "id": "1TSXP9jZIN_b"
      }
    },
    {
      "cell_type": "code",
      "execution_count": 2,
      "metadata": {
        "id": "kfpCdSy3-yk1"
      },
      "outputs": [],
      "source": [
        "import numpy as np\n",
        "import matplotlib.pyplot as plt\n",
        "import matplotlib.animation as animation\n",
        "\n",
        "class Escena:\n",
        "    def __init__(self, ancho, alto, color_fondo, punto, color_punto):\n",
        "        \"\"\"Inicializa la escena con un rectángulo y un punto superpuesto.\"\"\"\n",
        "        self.ancho = ancho\n",
        "        self.alto = alto\n",
        "        self.color_fondo = color_fondo\n",
        "        self.punto = np.array(punto, dtype=float)\n",
        "        self.color_punto = color_punto\n",
        "\n",
        "    def cambiar_escena(self, ancho, alto, color_fondo, punto, color_punto):\n",
        "        \"\"\"Permite cambiar los parámetros de la escena.\"\"\"\n",
        "        self.ancho = ancho\n",
        "        self.alto = alto\n",
        "        self.color_fondo = color_fondo\n",
        "        self.punto = np.array(punto, dtype=float)\n",
        "        self.color_punto = color_punto\n",
        "\n",
        "    def dibujar_escena(self):\n",
        "        \"\"\"Dibuja la escena con el rectángulo y el punto.\"\"\"\n",
        "        fig, ax = plt.subplots()\n",
        "        ax.set_xlim(0, self.ancho)\n",
        "        ax.set_ylim(0, self.alto)\n",
        "        ax.set_aspect('equal')\n",
        "        ax.set_facecolor(self.color_fondo)\n",
        "\n",
        "        # Dibujar rectángulo\n",
        "        rect = plt.Rectangle((0, 0), self.ancho, self.alto, color=self.color_fondo)\n",
        "        ax.add_patch(rect)\n",
        "\n",
        "        # Dibujar punto\n",
        "        ax.plot(self.punto[0], self.punto[1], 'o', color=self.color_punto, markersize=10)\n",
        "\n",
        "        plt.show()\n",
        "\n",
        "    def desplazar_punto(self, x, direccion):\n",
        "        \"\"\"Desplaza el punto en una dirección dada por un valor x.\"\"\"\n",
        "        movimientos = {\n",
        "            'derecha': np.array([x, 0]),\n",
        "            'izquierda': np.array([-x, 0]),\n",
        "            'arriba': np.array([0, x]),\n",
        "            'abajo': np.array([0, -x])\n",
        "        }\n",
        "\n",
        "        if direccion in movimientos:\n",
        "            self.punto += movimientos[direccion]\n",
        "        else:\n",
        "            raise ValueError(\"Dirección no válida. Use: 'derecha', 'izquierda', 'arriba' o 'abajo'.\")\n",
        "\n",
        "    def simular(self, velocidad, direccion, pasos=10):\n",
        "        \"\"\"Genera una animación del desplazamiento del punto.\"\"\"\n",
        "        fig, ax = plt.subplots()\n",
        "        ax.set_xlim(0, self.ancho)\n",
        "        ax.set_ylim(0, self.alto)\n",
        "        ax.set_aspect('equal')\n",
        "        ax.set_facecolor(self.color_fondo)\n",
        "\n",
        "        rect = plt.Rectangle((0, 0), self.ancho, self.alto, color=self.color_fondo)\n",
        "        ax.add_patch(rect)\n",
        "        punto_plot, = ax.plot([], [], 'o', color=self.color_punto, markersize=10)\n",
        "\n",
        "        movimientos = {\n",
        "            'derecha': np.array([velocidad, 0]),\n",
        "            'izquierda': np.array([-velocidad, 0]),\n",
        "            'arriba': np.array([0, velocidad]),\n",
        "            'abajo': np.array([0, -velocidad])\n",
        "        }\n",
        "\n",
        "        if direccion not in movimientos:\n",
        "            raise ValueError(\"Dirección no válida. Use: 'derecha', 'izquierda', 'arriba' o 'abajo'.\")\n",
        "\n",
        "        def actualizar(frame):\n",
        "            self.punto += movimientos[direccion]\n",
        "            punto_plot.set_data([self.punto[0]], [self.punto[1]])\n",
        "            return punto_plot,\n",
        "\n",
        "        ani = animation.FuncAnimation(fig, actualizar, frames=pasos, interval=100, blit=True)\n",
        "        plt.show()\n",
        "\n",
        "\n"
      ]
    },
    {
      "cell_type": "markdown",
      "source": [
        "# Simulación de la Escena y Resultados"
      ],
      "metadata": {
        "id": "ioNGaKZ5KC5z"
      }
    },
    {
      "cell_type": "code",
      "source": [
        "# Uso\n",
        "escena = Escena(ancho=25, alto=10, color_fondo='yellow', punto=[3, 3], color_punto='red')\n",
        "escena.dibujar_escena()\n",
        "escena = Escena(ancho=25, alto=10, color_fondo='blue', punto=[5, 5], color_punto='black')\n",
        "escena.dibujar_escena()\n",
        "escena.simular(velocidad=0.5, direccion='derecha', pasos=20)"
      ],
      "metadata": {
        "colab": {
          "base_uri": "https://localhost:8080/",
          "height": 758
        },
        "collapsed": true,
        "id": "VifB-F0iKAzU",
        "outputId": "ea8e8adb-9f00-49e3-8286-f7ae8af4bdbb"
      },
      "execution_count": 4,
      "outputs": [
        {
          "output_type": "display_data",
          "data": {
            "text/plain": [
              "<Figure size 640x480 with 1 Axes>"
            ],
            "image/png": "[encoded data removed]"
          },
          "metadata": {}
        },
        {
          "output_type": "display_data",
          "data": {
            "text/plain": [
              "<Figure size 640x480 with 1 Axes>"
            ],
            "image/png": "[encoded data removed]"
          },
          "metadata": {}
        },
        {
          "output_type": "display_data",
          "data": {
            "text/plain": [
              "<Figure size 640x480 with 1 Axes>"
            ],
            "image/png": "[encoded data removed]"
          },
          "metadata": {}
        }
      ]
    }
  ]
}