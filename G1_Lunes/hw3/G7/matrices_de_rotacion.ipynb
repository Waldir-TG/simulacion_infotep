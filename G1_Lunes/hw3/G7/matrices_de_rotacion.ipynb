{
  "cells": [
    {
      "cell_type": "markdown",
      "metadata": {
        "id": "ZO3I2aoBIRxS"
      },
      "source": [
        "# **Actividad al final del codigo**"
      ]
    },
    {
      "cell_type": "markdown",
      "metadata": {
        "id": "OWPIUzR-Zdhn"
      },
      "source": [
        "# **Matrices de rotación simples en un espacio tridimensional**"
      ]
    },
    {
      "cell_type": "code",
      "execution_count": 2,
      "metadata": {
        "id": "4-5x1l3pZfbF"
      },
      "outputs": [],
      "source": [
        "import numpy as np\n",
        "from sympy import*\n",
        "import numpy as np\n",
        "import matplotlib.pyplot as plt\n",
        "from mpl_toolkits.mplot3d import Axes3D\n",
        "init_printing()"
      ]
    },
    {
      "cell_type": "markdown",
      "metadata": {
        "id": "or-lHriTZkSu"
      },
      "source": [
        "# **Función dibujar un vector punto en un espacio tridimencional**"
      ]
    },
    {
      "cell_type": "code",
      "execution_count": null,
      "metadata": {
        "id": "KJDJTZhxZmaF"
      },
      "outputs": [],
      "source": [
        "def dibujar_punto(punto, label, x_lim = [0, 1], y_lim=[0, 1], z_lim=[0, 1]):\n",
        "  \"\"\"\n",
        "  Dibuja un punto en un espacio tridimensional.\n",
        "\n",
        "  Parametros:\n",
        "    punto: Un vector NumPy de tres elementos representando las coordenadas (x, y, z) del punto.\n",
        "    label: Una cadena de texto para etiquetar el punto en el gráfico.\n",
        "    x_lim: Una lista de dos elementos que define los límites del eje x.\n",
        "    y_lim: Una lista de dos elementos que define los límites del eje y.\n",
        "    z_lim: Una lista de dos elementos que define los límites del eje z.\n",
        "  \"\"\"\n",
        "\n",
        "  fig = plt.figure()\n",
        "  ax = fig.add_subplot(111, projection='3d')\n",
        "\n",
        "  ax.scatter(punto[0], punto[1], punto[2], color='b', label=label)\n",
        "\n",
        "  ax.set_xlabel('X')\n",
        "  ax.set_ylabel('Y')\n",
        "  ax.set_zlabel('Z')\n",
        "  ax.set_title('Espacio 3D')\n",
        "\n",
        "  ax.quiver(0, 0, 0, punto[0], punto[1], punto[2], color='b')\n",
        "\n",
        "  ax.set_xlim(x_lim)\n",
        "  ax.set_ylim(y_lim)\n",
        "  ax.set_zlim(z_lim)\n",
        "  ax.legend()\n",
        "  plt.show()"
      ]
    },
    {
      "cell_type": "code",
      "execution_count": null,
      "metadata": {
        "id": "nR9tAHbZZp_N"
      },
      "outputs": [],
      "source": [
        "## Angulo simbolico\n",
        "theta = symbols(\"theta\",  real=True)"
      ]
    },
    {
      "cell_type": "markdown",
      "metadata": {
        "id": "WEMMWCVUZuhd"
      },
      "source": [
        "### **Rotación en el eje x**\n"
      ]
    },
    {
      "cell_type": "code",
      "execution_count": null,
      "metadata": {
        "id": "KV9xmNEGZvDO"
      },
      "outputs": [],
      "source": [
        "## Matrix de rotación simbolica sobre le eje X\n",
        "R_x = Matrix([[1, 0, 0], [0, cos(theta), -sin(theta)], [0, sin(theta), cos(theta)]])\n",
        "R_x"
      ]
    },
    {
      "cell_type": "markdown",
      "metadata": {
        "id": "B5TyJ_OSZwwd"
      },
      "source": [
        "### **Definición de un punto de prueba en el espacio tridimencional**"
      ]
    },
    {
      "cell_type": "code",
      "execution_count": null,
      "metadata": {
        "id": "DriOXR-9ZzF1"
      },
      "outputs": [],
      "source": [
        "P0 = np.array([1, 1, 0])\n",
        "print(P0)"
      ]
    },
    {
      "cell_type": "code",
      "execution_count": null,
      "metadata": {
        "id": "FlFQ18KEZ3et"
      },
      "outputs": [],
      "source": [
        "dibujar_punto(P0, \"Punto P0\", y_lim=[-1,1])"
      ]
    },
    {
      "cell_type": "markdown",
      "metadata": {
        "id": "P_wifwdcZ5Jd"
      },
      "source": [
        "### **Aplicación de la matrix de rotación**\n",
        "\n"
      ]
    },
    {
      "cell_type": "code",
      "execution_count": null,
      "metadata": {
        "id": "W0z1sjscZ6wk"
      },
      "outputs": [],
      "source": [
        "theta_val = np.pi #180 grados en radianes\n",
        "R_p0 = np.array(R_x.subs({theta: theta_val})).astype(np.float64) #Se convierte theta simbolico a un valor concreto\n",
        "\n",
        "P0_rotado = np.dot(R_p0, P0) #Producto punto entre la matrix de rotación y el vector de posición del punto\n",
        "print(P0_rotado)"
      ]
    },
    {
      "cell_type": "code",
      "execution_count": null,
      "metadata": {
        "id": "K95kP2-2Z9AV"
      },
      "outputs": [],
      "source": [
        "dibujar_punto(P0_rotado, \"Punto P0 rotado\", y_lim=[-1, 1])"
      ]
    },
    {
      "cell_type": "markdown",
      "metadata": {
        "id": "lzjFXhMIZ-kO"
      },
      "source": [
        "### **Aplicación de la matrix de rotación**"
      ]
    },
    {
      "cell_type": "code",
      "execution_count": null,
      "metadata": {
        "id": "pos46MzmZ-52"
      },
      "outputs": [],
      "source": [
        "theta_val = np.pi/4 # 45 grados en radianes\n",
        "R_p0 = np.array(R_x.subs({theta: theta_val})).astype(np.float64) #Se convierte theta simbolico a un valor concreto\n",
        "\n",
        "P0_rotado = np.dot(R_p0, P0) #Producto punto entre la matrix de rotación y el vector de posición del punto\n",
        "print(P0_rotado)"
      ]
    },
    {
      "cell_type": "code",
      "execution_count": null,
      "metadata": {
        "id": "jqrdXqvYaA1N"
      },
      "outputs": [],
      "source": [
        "dibujar_punto(P0_rotado, \"Punto P0 rotado\", y_lim=[0, 1])"
      ]
    },
    {
      "cell_type": "markdown",
      "metadata": {
        "id": "2_DIjOBKaChO"
      },
      "source": [
        "### **Rotación en el eje y**\n",
        "\n"
      ]
    },
    {
      "cell_type": "code",
      "execution_count": null,
      "metadata": {
        "id": "QW2OBBtQaEKd"
      },
      "outputs": [],
      "source": [
        "R_y = Matrix([[cos(theta), 0, sin(theta)], [0, 1, 0], [-sin(theta), 0, cos(theta)]])\n",
        "R_y"
      ]
    },
    {
      "cell_type": "markdown",
      "metadata": {
        "id": "Z7CmMKpXaF1m"
      },
      "source": [
        "### **Rotación en el eje z**"
      ]
    },
    {
      "cell_type": "code",
      "execution_count": null,
      "metadata": {
        "id": "a2sIG_VyaGLN"
      },
      "outputs": [],
      "source": [
        "R_z = Matrix([[cos(theta), -sin(theta), 0], [sin(theta), cos(theta), 0], [0, 0, 1]])\n",
        "R_z"
      ]
    },
    {
      "cell_type": "markdown",
      "metadata": {
        "id": "3TufIY7CaKAW"
      },
      "source": [
        "### **Ilustración angulos de rotación**"
      ]
    },
    {
      "cell_type": "code",
      "execution_count": null,
      "metadata": {
        "id": "jBCvgucWaMvN"
      },
      "outputs": [],
      "source": [
        "from IPython.display import Image\n",
        "\n",
        "\n",
        "Image(url='https://www.researchgate.net/publication/348803228/figure/fig7/AS:984434408955905@1611718861641/a-Pitch-yaw-and-roll-angles-of-an-aircraft-with-body-orientation-O-u-v-original.ppm')"
      ]
    },
    {
      "cell_type": "markdown",
      "metadata": {
        "id": "yNw6AnZvaOne"
      },
      "source": [
        "### **Multiples rotaciones**"
      ]
    },
    {
      "cell_type": "code",
      "execution_count": null,
      "metadata": {
        "id": "OoaPgTPqaP_F"
      },
      "outputs": [],
      "source": [
        "dibujar_punto(P0, \"P0\",x_lim=[-1, 1], y_lim=[-1, 1])"
      ]
    },
    {
      "cell_type": "code",
      "execution_count": null,
      "metadata": {
        "id": "o-OYKqCDaQ-W"
      },
      "outputs": [],
      "source": [
        "theta_val = np.pi # 180 grados en radianes\n",
        "R_x_p0 = np.array(R_x.subs({theta: theta_val})).astype(np.float64) #Se convierte theta simbolico a un valor concreto Rx\n",
        "R_y_p0 = np.array(R_y.subs({theta: theta_val})).astype(np.float64) #Se convierte theta simbolico a un valor concreto Ry\n",
        "R_z_p0 = np.array(R_z.subs({theta: theta_val})).astype(np.float64) #Se convierte theta simbolico a un valor concreto Rz\n",
        "\n",
        "P0_rotado_x = np.dot(R_x_p0, P0) #Producto punto entre la matrix de rotación y el vector de posición del punto\n",
        "P0_rotado_y = np.dot(R_y_p0, P0_rotado_x) #Producto punto entre la matrix de rotación y el vector de posición del punto\n",
        "P0_rotado_z = np.dot(R_z_p0, P0_rotado_y) #Producto punto entre la matrix de rotación y el vector de posición del punto\n",
        "\n",
        "print(P0)\n",
        "print(P0_rotado_x)\n",
        "print(P0_rotado_y)\n",
        "print(P0_rotado_z)"
      ]
    },
    {
      "cell_type": "code",
      "execution_count": null,
      "metadata": {
        "id": "66JinSgqaSBd"
      },
      "outputs": [],
      "source": [
        "dibujar_punto(P0_rotado_x, label = 'Rotacion X', x_lim=[-1, 1], y_lim=[-1, 1])\n",
        "dibujar_punto(P0_rotado_y, label = 'Rotacion Y', x_lim=[-1, 1], y_lim=[-1, 1])\n",
        "dibujar_punto(P0_rotado_z, label = 'Rotacion Z', x_lim=[-1, 1], y_lim=[-1, 1])"
      ]
    },
    {
      "cell_type": "markdown",
      "metadata": {
        "id": "1SOfob8fHW-X"
      },
      "source": [
        "# **Actividad**\n",
        "**1. Evalue el efecto del orden de las rotaciones y saque sus propias conclusiones**"
      ]
    },
    {
      "cell_type": "markdown",
      "metadata": {
        "id": "o3jlKxJSCuox"
      },
      "source": [
        "## **Funciónes para crear matrices de rotación**"
      ]
    },
    {
      "cell_type": "code",
      "execution_count": 14,
      "metadata": {
        "id": "xiL_ywXeBYvX"
      },
      "outputs": [],
      "source": [
        "def rotation_x(theta):\n",
        "    \"\"\"Matriz de rotación alrededor del eje X\"\"\"\n",
        "    return np.array([\n",
        "        [1, 0, 0],\n",
        "        [0, np.cos(theta), -np.sin(theta)],\n",
        "        [0, np.sin(theta), np.cos(theta)]\n",
        "    ])\n",
        "\n",
        "def rotation_y(theta):\n",
        "    \"\"\"Matriz de rotación alrededor del eje Y\"\"\"\n",
        "    return np.array([\n",
        "        [np.cos(theta), 0, np.sin(theta)],\n",
        "        [0, 1, 0],\n",
        "        [-np.sin(theta), 0, np.cos(theta)]\n",
        "    ])\n",
        "\n",
        "def rotation_z(theta):\n",
        "    \"\"\"Matriz de rotación alrededor del eje Z\"\"\"\n",
        "    return np.array([\n",
        "        [np.cos(theta), -np.sin(theta), 0],\n",
        "        [np.sin(theta), np.cos(theta), 0],\n",
        "        [0, 0, 1]\n",
        "    ])"
      ]
    },
    {
      "cell_type": "markdown",
      "metadata": {
        "id": "ymvc0uteDNYS"
      },
      "source": [
        "## **Funcion para dibujar puntos y vectores tambien se configuran etiquetas, limites y ejes**"
      ]
    },
    {
      "cell_type": "code",
      "execution_count": 15,
      "metadata": {
        "id": "k8gh_UruDRBR"
      },
      "outputs": [],
      "source": [
        "def dibujar_puntos(puntos, labels, titulo=\"Comparación de Rotaciones\"):\n",
        "    \"\"\"\n",
        "    Dibuja múltiples puntos en un espacio tridimensional con sus vectores desde el origen.\n",
        "\n",
        "    Parámetros:\n",
        "        puntos: Lista de vectores NumPy de tres elementos.\n",
        "        labels: Lista de etiquetas correspondientes a cada punto.\n",
        "        titulo: Título del gráfico.\n",
        "    \"\"\"\n",
        "    fig = plt.figure(figsize=(10, 8))\n",
        "    ax = fig.add_subplot(111, projection='3d')\n",
        "\n",
        "    colores = ['b', 'r', 'g', 'c', 'm', 'y', 'k']\n",
        "\n",
        "    # Dibujar el origen\n",
        "    ax.scatter(0, 0, 0, color='k', s=100, label='Origen')\n",
        "\n",
        "    # Dibujar los puntos y sus vectores\n",
        "    for i, (punto, label) in enumerate(zip(puntos, labels)):\n",
        "        color = colores[i % len(colores)]\n",
        "        ax.scatter(punto[0], punto[1], punto[2], color=color, label=label)\n",
        "        ax.quiver(0, 0, 0, punto[0], punto[1], punto[2], color=color)\n",
        "\n",
        "    # Configurar etiquetas y límites de los ejes\n",
        "    ax.set_xlabel('X')\n",
        "    ax.set_ylabel('Y')\n",
        "    ax.set_zlabel('Z')\n",
        "    ax.set_title(titulo)\n",
        "\n",
        "    # Establecer límites consistentes\n",
        "    lim_max = max([1.5] + [abs(coord) for punto in puntos for coord in punto])\n",
        "    ax.set_xlim([-lim_max, lim_max])\n",
        "    ax.set_ylim([-lim_max, lim_max])\n",
        "    ax.set_zlim([-lim_max, lim_max])\n",
        "\n",
        "    # Dibujar ejes\n",
        "    ax.quiver(0, 0, 0, lim_max, 0, 0, color='r', alpha=0.3, linestyle='dashed')\n",
        "    ax.quiver(0, 0, 0, 0, lim_max, 0, color='g', alpha=0.3, linestyle='dashed')\n",
        "    ax.quiver(0, 0, 0, 0, 0, lim_max, color='b', alpha=0.3, linestyle='dashed')\n",
        "    ax.text(lim_max, 0, 0, \"X\", color='r')\n",
        "    ax.text(0, lim_max, 0, \"Y\", color='g')\n",
        "    ax.text(0, 0, lim_max, \"Z\", color='b')\n",
        "\n",
        "    ax.legend()\n",
        "    plt.tight_layout()\n",
        "    plt.show()"
      ]
    },
    {
      "cell_type": "markdown",
      "metadata": {
        "id": "qmTkguhhETOE"
      },
      "source": [
        "### **Secuencias:** Con base a un punto inicial y un angulo, se calculan las matrices de rotacion para verificar si son iguales, ademas se prueba con otras rotaciones con angulos diferentes"
      ]
    },
    {
      "cell_type": "code",
      "execution_count": null,
      "metadata": {
        "id": "p3llt2TWETcI"
      },
      "outputs": [],
      "source": [
        "# Punto inicial\n",
        "P0 = np.array([1, 1, 0])\n",
        "\n",
        "# Valor de ángulo a usar (usando π/2 = 90 grados para mejor visualización)\n",
        "theta_val = np.pi/2\n",
        "\n",
        "# Obtener matrices numéricas\n",
        "Rx = rotation_x(theta_val)\n",
        "Ry = rotation_y(theta_val)\n",
        "Rz = rotation_z(theta_val)\n",
        "\n",
        "# Secuencia 1: X -> Y -> Z\n",
        "P1 = Rz @ (Ry @ (Rx @ P0))\n",
        "\n",
        "# Secuencia 2: Z -> Y -> X\n",
        "P2 = Rx @ (Ry @ (Rz @ P0))\n",
        "\n",
        "# Secuencia 3: Y -> X -> Z\n",
        "P3 = Rz @ (Rx @ (Ry @ P0))\n",
        "\n",
        "# Secuencia 4: Z -> X -> Y\n",
        "P4 = Ry @ (Rx @ (Rz @ P0))\n",
        "\n",
        "# Secuencia 5: X -> Z -> Y\n",
        "P5 = Ry @ (Rz @ (Rx @ P0))\n",
        "\n",
        "# Secuencia 6: Y -> Z -> X\n",
        "P6 = Rx @ (Rz @ (Ry @ P0))\n",
        "\n",
        "print(\"Punto original P0:\", P0)\n",
        "print(\"Secuencia X->Y->Z:\", P1)\n",
        "print(\"Secuencia Z->Y->X:\", P2)\n",
        "print(\"Secuencia Y->X->Z:\", P3)\n",
        "print(\"Secuencia Z->X->Y:\", P4)\n",
        "print(\"Secuencia X->Z->Y:\", P5)\n",
        "print(\"Secuencia Y->Z->X:\", P6)\n",
        "\n",
        "# Calculemos también las matrices de rotación completas para cada secuencia\n",
        "R_xyz = Rz @ Ry @ Rx  # X->Y->Z\n",
        "R_zyx = Rx @ Ry @ Rz  # Z->Y->X\n",
        "\n",
        "# Verificar si son iguales\n",
        "print(\"\\n¿Son iguales las matrices R_xyz y R_zyx?\")\n",
        "print(np.allclose(R_xyz, R_zyx))\n",
        "print(\"\\nDiferencia entre R_xyz y R_zyx:\")\n",
        "print(R_xyz - R_zyx)\n",
        "\n",
        "# Probemos una rotación compuesta con un ángulo diferente para cada eje\n",
        "theta_x = np.pi/4  # 45 grados\n",
        "theta_y = np.pi/3  # 60 grados\n",
        "theta_z = np.pi/6  # 30 grados\n",
        "\n",
        "Rx2 = rotation_x(theta_x)\n",
        "Ry2 = rotation_y(theta_y)\n",
        "Rz2 = rotation_z(theta_z)\n",
        "\n",
        "# Secuencia A: X -> Y -> Z con ángulos diferentes\n",
        "PA = Rz2 @ (Ry2 @ (Rx2 @ P0))\n",
        "\n",
        "# Secuencia B: Z -> Y -> X con ángulos diferentes\n",
        "PB = Rx2 @ (Ry2 @ (Rz2 @ P0))\n",
        "\n",
        "print(\"\\nCon ángulos diferentes:\")\n",
        "print(\"Secuencia X->Y->Z:\", PA)\n",
        "print(\"Secuencia Z->Y->X:\", PB)"
      ]
    },
    {
      "cell_type": "markdown",
      "metadata": {
        "id": "WhxM2O85Fe4o"
      },
      "source": [
        "### **Visualizacion de rotaciones**"
      ]
    },
    {
      "cell_type": "code",
      "execution_count": null,
      "metadata": {
        "id": "4tyyNAtdFfHO"
      },
      "outputs": [],
      "source": [
        "# Visualización de todas las rotaciones\n",
        "puntos = [P0, P1, P2, P3, P4, P5, P6]\n",
        "etiquetas = ['Original', 'X->Y->Z', 'Z->Y->X', 'Y->X->Z', 'Z->X->Y', 'X->Z->Y', 'Y->Z->X']\n",
        "dibujar_puntos(puntos, etiquetas, \"Efecto del Orden de Rotaciones (90°)\")\n",
        "\n",
        "# Visualización de rotaciones con ángulos diferentes\n",
        "puntos2 = [P0, PA, PB]\n",
        "etiquetas2 = ['Original', 'X->Y->Z (45°,60°,30°)', 'Z->Y->X (45°,60°,30°)']\n",
        "dibujar_puntos(puntos2, etiquetas2, \"Efecto del Orden de Rotaciones con Ángulos Diferentes\")"
      ]
    },
    {
      "cell_type": "markdown",
      "metadata": {
        "id": "A2Jtdn2lHB2I"
      },
      "source": [
        "Cuando aplicamos varias rotaciones a un objeto en un espacio 3D, el orden en que aplicamos estas rotaciones afecta el resultado final. Esto se debe a que las rotaciones en 3D no son conmutativas.\n",
        "En otras palabras:\n",
        "\n",
        "Si aplicamos una rotación R₁ seguida de una rotación R₂, el resultado es diferente a aplicar primero R₂ y luego R₁.\n",
        "Matemáticamente: R₁ · R₂ ≠ R₂ · R₁\n",
        "\n",
        "Demostración con el Punto de Prueba\n",
        "Utilizando el punto P₀ = [1, 1, 0] del notebook, podemos visualizar este efecto aplicando rotaciones de 90° (π/2 radianes) en diferentes secuencias. Los resultados teóricos para algunas secuencias son:\n",
        "\n",
        "Secuencia X → Y → Z:\n",
        "\n",
        "Primero, rotación de 90° alrededor del eje X: [1, 0, 1]\n",
        "Luego, rotación de 90° alrededor del eje Y: [0, 0, 1]\n",
        "Finalmente, rotación de 90° alrededor del eje Z: [0, -1, 1]\n",
        "\n",
        "Secuencia Z → Y → X:\n",
        "\n",
        "Primero, rotación de 90° alrededor del eje Z: [0, 1, 0]\n",
        "Luego, rotación de 90° alrededor del eje Y: [0, 1, 0]\n",
        "Finalmente, rotación de 90° alrededor del eje X: [0, 0, 1]\n",
        "\n",
        "Como se puede observar, estas dos secuencias producen resultados completamente diferentes a pesar de aplicar las mismas rotaciones individuales."
      ]
    },
    {
      "cell_type": "markdown",
      "metadata": {
        "id": "waWDRvQTHquS"
      },
      "source": [
        "## **2. Agregue una función que re utilice la implementación compartida para hacer traslaciones**"
      ]
    },
    {
      "cell_type": "code",
      "execution_count": 20,
      "metadata": {
        "id": "DBaMfAeuI0Xd"
      },
      "outputs": [],
      "source": [
        "def trasladar_punto(punto, vector_traslacion):\n",
        "    \"\"\"\n",
        "    Traslada un punto en un espacio tridimensional.\n",
        "\n",
        "    Parámetros:\n",
        "        punto: Un vector NumPy de tres elementos representando las coordenadas (x, y, z) del punto original.\n",
        "        vector_traslacion: Un vector NumPy de tres elementos representando el desplazamiento (dx, dy, dz).\n",
        "\n",
        "    Retorna:\n",
        "        Un nuevo vector NumPy con las coordenadas del punto trasladado.\n",
        "    \"\"\"\n",
        "\n",
        "    # La traslación es simplemente la suma del punto original y el vector de traslación\n",
        "    punto_trasladado = punto + vector_traslacion\n",
        "\n",
        "    return punto_trasladado\n",
        "\n",
        "def dibujar_puntos_multiples(puntos, labels, x_lim=[-1, 1], y_lim=[-1, 1], z_lim=[-1, 1], colores=None):\n",
        "    \"\"\"\n",
        "    Dibuja múltiples puntos en un espacio tridimensional.\n",
        "\n",
        "    Parámetros:\n",
        "        puntos: Lista de vectores NumPy, cada uno con tres elementos representando las coordenadas (x, y, z).\n",
        "        labels: Lista de etiquetas para cada punto.\n",
        "        x_lim: Una lista de dos elementos que define los límites del eje x.\n",
        "        y_lim: Una lista de dos elementos que define los límites del eje y.\n",
        "        z_lim: Una lista de dos elementos que define los límites del eje z.\n",
        "        colores: Lista opcional de colores para cada punto. Si es None, se usarán colores predeterminados.\n",
        "    \"\"\"\n",
        "\n",
        "    if colores is None:\n",
        "        colores = ['b', 'r', 'g', 'c', 'm', 'y', 'k']\n",
        "\n",
        "    fig = plt.figure(figsize=(10, 8))\n",
        "    ax = fig.add_subplot(111, projection='3d')\n",
        "\n",
        "    # Dibujar los ejes\n",
        "    ax.quiver(0, 0, 0, 1, 0, 0, color='r', arrow_length_ratio=0.1)\n",
        "    ax.quiver(0, 0, 0, 0, 1, 0, color='g', arrow_length_ratio=0.1)\n",
        "    ax.quiver(0, 0, 0, 0, 0, 1, color='b', arrow_length_ratio=0.1)\n",
        "\n",
        "    # Dibujar cada punto\n",
        "    for i, (punto, label) in enumerate(zip(puntos, labels)):\n",
        "        color = colores[i % len(colores)]\n",
        "        ax.scatter(punto[0], punto[1], punto[2], color=color, label=label)\n",
        "        ax.quiver(0, 0, 0, punto[0], punto[1], punto[2], color=color, alpha=0.7)\n",
        "\n",
        "    ax.set_xlabel('X')\n",
        "    ax.set_ylabel('Y')\n",
        "    ax.set_zlabel('Z')\n",
        "    ax.set_title('Espacio 3D: Puntos y Transformaciones')\n",
        "\n",
        "    ax.set_xlim(x_lim)\n",
        "    ax.set_ylim(y_lim)\n",
        "    ax.set_zlim(z_lim)\n",
        "    ax.legend()\n",
        "    plt.show()"
      ]
    },
    {
      "cell_type": "markdown",
      "metadata": {
        "id": "94FXyU-tKMhq"
      },
      "source": [
        "### **Ejemplo de uso**"
      ]
    },
    {
      "cell_type": "code",
      "execution_count": null,
      "metadata": {
        "id": "-pT5WqUpKQAl"
      },
      "outputs": [],
      "source": [
        "# Definir un punto de prueba\n",
        "P0 = np.array([1, 1, 0])\n",
        "\n",
        "# Definir un vector de traslación\n",
        "vector_traslacion = np.array([0.5, -0.5, 1])\n",
        "\n",
        "# Aplicar la traslación\n",
        "P0_trasladado = trasladar_punto(P0, vector_traslacion)\n",
        "\n",
        "# Mostrar los resultados\n",
        "print(\"Punto original:\", P0)\n",
        "print(\"Vector de traslación:\", vector_traslacion)\n",
        "print(\"Punto trasladado:\", P0_trasladado)\n",
        "\n",
        "# Visualizar los puntos\n",
        "dibujar_puntos_multiples(\n",
        "    [P0, P0_trasladado],\n",
        "    [\"Punto Original\", \"Punto Trasladado\"],\n",
        "    x_lim=[0, 2],\n",
        "    y_lim=[0, 2],\n",
        "    z_lim=[-0.5, 1.5],\n",
        "    colores=['b', 'r']\n",
        ")"
      ]
    }
  ],
  "metadata": {
    "colab": {
      "provenance": []
    },
    "kernelspec": {
      "display_name": "Python 3",
      "name": "python3"
    },
    "language_info": {
      "name": "python"
    }
  },
  "nbformat": 4,
  "nbformat_minor": 0
}
